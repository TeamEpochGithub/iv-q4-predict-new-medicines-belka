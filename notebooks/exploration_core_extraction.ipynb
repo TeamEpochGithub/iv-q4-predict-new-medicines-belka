{
 "cells": [
  {
   "cell_type": "code",
   "execution_count": 1,
   "metadata": {},
   "source": [
    "import numpy as np\n",
    "import pandas as pd\n",
    "import polars as pl\n",
    "import pickle\n",
    "from pathlib import Path\n",
    "from rdkit import Chem\n",
    "from rdkit.Chem import Draw\n",
    "\n",
    "\n",
    "import sys\n",
    "sys.path.append('../')\n",
    "from src.setup.setup_data import setup_train_x_data, setup_train_y_data, sample_data\n",
    "from src.typing.xdata import XData, DataRetrieval"
   ],
   "outputs": []
  },
  {
   "cell_type": "markdown",
   "metadata": {},
   "source": [
    "# Common Variables"
   ]
  },
  {
   "cell_type": "code",
   "execution_count": 2,
   "metadata": {},
   "source": [
    "DATA_PATH = Path('../data/')\n",
    "SHRUNKEN_PATH = DATA_PATH / 'shrunken/'\n",
    "\n",
    "# check if global variables are defined\n",
    "if '_x_data' not in globals():\n",
    "    _x_data = None\n",
    "\n",
    "if '_y_data' not in globals():\n",
    "    _y_data = None\n",
    "\n",
    "if '_train_data' not in globals():\n",
    "    _train_data = None"
   ],
   "outputs": []
  },
  {
   "cell_type": "markdown",
   "metadata": {},
   "source": [
    "# Dataset Utils"
   ]
  },
  {
   "cell_type": "code",
   "execution_count": 3,
   "metadata": {},
   "source": [
    "def get_x_data() -> XData:\n",
    "    global _x_data\n",
    "\n",
    "    if _x_data is not None:\n",
    "        return _x_data\n",
    "    \n",
    "    print('Loading x_data from disk...')\n",
    "    _x_data = setup_train_x_data(SHRUNKEN_PATH, get_train_data())\n",
    "\n",
    "    return _x_data\n",
    "\n",
    "def get_y_data():\n",
    "    global _y_data\n",
    "\n",
    "    if _y_data is not None:\n",
    "        return _y_data\n",
    "\n",
    "    print('Loading y_data from disk...')\n",
    "    _y_data = setup_train_y_data(get_train_data())\n",
    "\n",
    "    return _y_data\n",
    "\n",
    "def get_train_data(sample_size: int = -1, sample_split: float = 0.5):\n",
    "    global _train_data\n",
    "\n",
    "    if _train_data is not None:\n",
    "        return _train_data\n",
    "\n",
    "    print('Loading train_data from disk...')\n",
    "    _train_data = pl.read_parquet(SHRUNKEN_PATH / \"train.parquet\")\n",
    "    _train_data = _train_data.to_pandas(use_pyarrow_extension_array=True)\n",
    "\n",
    "    if sample_size > 0:\n",
    "        _train_data = sample_data(_train_data, sample_size, sample_split)\n",
    "\n",
    "    return _train_data\n",
    "\n",
    "def visualize_molecule(molecule, desc = \"\"):\n",
    "    print(desc)\n",
    "    if isinstance(molecule, str):\n",
    "        molecule = Chem.MolFromSmiles(molecule)\n",
    "    molecule_image = Draw.MolToImage(molecule, size=(300, 300))\n",
    "    display(molecule_image)\n"
   ],
   "outputs": []
  },
  {
   "cell_type": "markdown",
   "metadata": {},
   "source": [
    "# Exploration"
   ]
  },
  {
   "cell_type": "code",
   "execution_count": 4,
   "metadata": {},
   "source": [
    "from rdkit import Chem\n",
    "from rdkit.Chem import rdRGroupDecomposition as rgd\n",
    "from rdkit.Chem import Draw\n",
    "from rdkit.Chem import rdFMCS"
   ],
   "outputs": []
  },
  {
   "cell_type": "code",
   "execution_count": 5,
   "metadata": {},
   "source": [
    "get_train_data(100_000, 0.5)\n",
    "x = get_x_data()\n",
    "x.retrieval = DataRetrieval.SMILES\n",
    "\n",
    "test_smile = x[5_000]\n",
    "print(test_smile)\n",
    "\n",
    "mol = Chem.MolFromSmiles(test_smile[0])\n",
    "display(Draw.MolToImage(mol, size=(500, 500)))"
   ],
   "outputs": []
  },
  {
   "cell_type": "code",
   "execution_count": 6,
   "metadata": {},
   "source": [
    "test_mol = [Chem.MolFromSmiles(smiles) for smiles in test_smile]\n",
    "\n",
    "molecule = test_mol[0]\n",
    "building_block = test_mol[1]\n",
    "mcs = rdFMCS.FindMCS([test_mol[0], building_block])\n",
    "mcs_mol = Chem.MolFromSmarts(mcs.smartsString)\n",
    "# visualize_molecule(test_mol[0], desc=\"Molecule\")\n",
    "# visualize_molecule(building_block, desc=\"Building Block\")\n",
    "# visualize_molecule(mcs_mol, desc=\"MCS\")\n",
    "\n",
    "rm_smile = \"O=C(O)\"                # Ester\n",
    "rm_smile = \"O=C(O*)*\"               # Ester\n",
    "rm_smile = \"O=COCC1c2ccccc2-c2ccccc21\"  # Biphenyl\n",
    "rm_mol = Chem.MolFromSmiles(rm_smile)\n",
    "visualize_molecule(rm_mol, desc=\"RM Mol\")\n",
    "\n",
    "visualize_molecule(building_block, desc=\"Building Block\")\n",
    "\n",
    "# Remove ester from building block\n",
    "# building_block = Chem.DeleteSubstructs(building_block, Chem.MolFromSmarts(ester_smile))\n",
    "# visualize_molecule(building_block, desc=\"Building Block without Ester\")\n",
    "building_block_smile = Chem.rdmolops.DeleteSubstructs(building_block, rm_mol, onlyFrags=False)\n",
    "visualize_molecule(building_block_smile, desc=\"Building Block without RM Mol\")\n",
    "\n",
    "# Remove the MCS from the molecule\n",
    "# molecule = Chem.DeleteSubstructs(molecule, mcs_mol)\n",
    "# visualize_molecule(molecule, desc=\"Molecule without MCS\")\n"
   ],
   "outputs": []
  },
  {
   "cell_type": "code",
   "execution_count": 8,
   "metadata": {},
   "source": [
    "from rdkit import Chem\n",
    "from rdkit.Chem import Draw\n",
    "\n",
    "# Correctly specify the ester including context atoms\n",
    "rm_smile = \"C(=O)O\"  # General ester group; you might need more context depending on the molecule\n",
    "rm_mol = Chem.MolFromSmiles(rm_smile)\n",
    "\n",
    "# Full molecule containing an ester\n",
    "full_molecule_smiles = \"CC(=O)OCC\"\n",
    "full_molecule = Chem.MolFromSmiles(full_molecule_smiles)\n",
    "\n",
    "# Remove the ester substructure\n",
    "modified_molecule = Chem.DeleteSubstructs(full_molecule, rm_mol, onlyFrags=False)\n",
    "print(\"Modified SMILES:\", Chem.MolToSmiles(modified_molecule))\n",
    "\n",
    "# Visualize the molecules\n",
    "img = Draw.MolsToGridImage([full_molecule, rm_mol, modified_molecule], molsPerRow=3, subImgSize=(200, 200),\n",
    "                           legends=['Original', 'Ester', 'Modified'])\n",
    "display(img)"
   ],
   "outputs": []
  },
  {
   "cell_type": "code",
   "execution_count": 9,
   "metadata": {},
   "source": [
    "from rdkit import Chem\n",
    "from rdkit.Chem import AllChem\n",
    "from rdkit.Chem.Draw import IPythonConsole, MolsToGridImage\n",
    "\n",
    "def remove_specific_substructure(molecule_smiles, substructure_smarts):\n",
    "    mol = Chem.MolFromSmiles(molecule_smiles)\n",
    "    substructure = Chem.MolFromSmarts(substructure_smarts)\n",
    "\n",
    "    # Find all matches of the substructure\n",
    "    matches = mol.GetSubstructMatches(substructure)\n",
    "    if not matches:\n",
    "        return Chem.MolToSmiles(mol)  # Return original if no substructure found\n",
    "\n",
    "    # Sort matches to find the specific one if needed, otherwise just remove all found\n",
    "    for match in matches:\n",
    "        # Create editable molecule\n",
    "        emol = Chem.EditableMol(mol)\n",
    "\n",
    "        # Delete atoms by reversed index order to not mess up remaining indices\n",
    "        for idx in sorted(match, reverse=True):\n",
    "            emol.RemoveAtom(idx)\n",
    "\n",
    "        # Get the modified molecule\n",
    "        mol = emol.GetMol()\n",
    "    \n",
    "    # Check if the molecule is valid and sanitize it\n",
    "    if mol:\n",
    "        Chem.SanitizeMol(mol)\n",
    "        return Chem.MolToSmiles(mol)\n",
    "\n",
    "    return \"Error in molecule modification\"\n",
    "\n",
    "# Example usage\n",
    "mol_smiles = 'O=C(NCC1CCC(C(=O)O)CC1)OCC1c2ccccc2-c2ccccc21'\n",
    "substructure_smarts = 'C(=O)O'  # Basic ester pattern\n",
    "\n",
    "display(Draw.MolToImage(Chem.MolFromSmiles(mol_smiles), size=(500, 500)))\n",
    "\n",
    "modified_smiles = remove_specific_substructure(mol_smiles, substructure_smarts)\n",
    "print(\"Modified molecule SMILES:\", modified_smiles)\n",
    "\n",
    "# Visualize the modified molecule\n",
    "modified_mol = Chem.MolFromSmiles(modified_smiles)\n",
    "img = MolsToGridImage([modified_mol], molsPerRow=1, subImgSize=(400, 400))\n",
    "display(img)"
   ],
   "outputs": []
  }
 ],
 "metadata": {
  "kernelspec": {
   "display_name": ".venv",
   "language": "python",
   "name": "python3"
  },
  "language_info": {
   "codemirror_mode": {
    "name": "ipython",
    "version": 3
   },
   "file_extension": ".py",
   "mimetype": "text/x-python",
   "name": "python",
   "nbconvert_exporter": "python",
   "pygments_lexer": "ipython3",
   "version": "3.11.9"
  }
 },
 "nbformat": 4,
 "nbformat_minor": 2
}
