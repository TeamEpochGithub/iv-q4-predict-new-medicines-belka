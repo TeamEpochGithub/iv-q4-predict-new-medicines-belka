{
 "cells": [
  {
   "cell_type": "code",
   "execution_count": 1,
   "metadata": {},
   "outputs": [],
   "source": [
    "import numpy as np\n",
    "import pandas as pd\n",
    "import polars as pl\n",
    "import pickle\n",
    "from pathlib import Path\n",
    "\n",
    "import sys\n",
    "sys.path.append('../')\n",
    "from src.setup.setup_data import setup_train_x_data, setup_train_y_data, sample_data\n",
    "from src.typing.xdata import XData, DataRetrieval"
   ]
  },
  {
   "cell_type": "markdown",
   "metadata": {},
   "source": [
    "# Common Variables"
   ]
  },
  {
   "cell_type": "code",
   "execution_count": 2,
   "metadata": {},
   "outputs": [],
   "source": [
    "DATA_PATH = Path('../data/')\n",
    "SHRUNKEN_PATH = DATA_PATH / 'shrunken/'\n",
    "\n",
    "# check if global variables are defined\n",
    "if '_x_data' not in globals():\n",
    "    _x_data = None\n",
    "\n",
    "if '_y_data' not in globals():\n",
    "    _y_data = None\n",
    "\n",
    "if '_train_data' not in globals():\n",
    "    _train_data = None"
   ]
  },
  {
   "cell_type": "markdown",
   "metadata": {},
   "source": [
    "# Dataset Utils"
   ]
  },
  {
   "cell_type": "code",
   "execution_count": 3,
   "metadata": {},
   "outputs": [],
   "source": [
    "def get_x_data() -> XData:\n",
    "    global _x_data\n",
    "\n",
    "    if _x_data is not None:\n",
    "        return _x_data\n",
    "    \n",
    "    print('Loading x_data from disk...')\n",
    "    _x_data = setup_train_x_data(SHRUNKEN_PATH, get_train_data())\n",
    "\n",
    "    return _x_data\n",
    "\n",
    "def get_y_data():\n",
    "    global _y_data\n",
    "\n",
    "    if _y_data is not None:\n",
    "        return _y_data\n",
    "\n",
    "    print('Loading y_data from disk...')\n",
    "    _y_data = setup_train_y_data(get_train_data())\n",
    "\n",
    "    return _y_data\n",
    "\n",
    "def get_train_data(sample_size: int = -1, sample_split: float = 0.5):\n",
    "    global _train_data\n",
    "\n",
    "    if _train_data is not None:\n",
    "        return _train_data\n",
    "\n",
    "    print('Loading train_data from disk...')\n",
    "    _train_data = pl.read_parquet(SHRUNKEN_PATH / \"train.parquet\")\n",
    "    _train_data = _train_data.to_pandas(use_pyarrow_extension_array=True)\n",
    "\n",
    "    if sample_size > 0:\n",
    "        _train_data = sample_data(_train_data, sample_size, sample_split)\n",
    "\n",
    "    return _train_data"
   ]
  },
  {
   "cell_type": "markdown",
   "metadata": {},
   "source": [
    "# Exploration"
   ]
  },
  {
   "cell_type": "code",
   "execution_count": null,
   "metadata": {},
   "outputs": [],
   "source": [
    "get_train_data(1000, 0.5)\n",
    "x = get_x_data()"
   ]
  }
 ],
 "metadata": {
  "kernelspec": {
   "display_name": ".venv",
   "language": "python",
   "name": "python3"
  },
  "language_info": {
   "codemirror_mode": {
    "name": "ipython",
    "version": 3
   },
   "file_extension": ".py",
   "mimetype": "text/x-python",
   "name": "python",
   "nbconvert_exporter": "python",
   "pygments_lexer": "ipython3",
   "version": "3.11.9"
  }
 },
 "nbformat": 4,
 "nbformat_minor": 2
}
