{
 "cells": [
  {
   "cell_type": "markdown",
   "metadata": {},
   "source": [
    "# Load the shrunken data"
   ]
  },
  {
   "cell_type": "code",
   "execution_count": 1,
   "metadata": {},
   "source": [
    "import numpy as np\n",
    "import pandas as pd \n",
    "import pickle\n",
    "from pathlib import Path"
   ],
   "outputs": []
  },
  {
   "cell_type": "code",
   "execution_count": 2,
   "metadata": {},
   "source": [
    "dtypes = {'buildingblock1_smiles': np.int16, 'buildingblock2_smiles': np.int16, 'buildingblock3_smiles': np.int16,\n",
    "          'binds_BRD4':np.byte, 'binds_HSA':np.byte, 'binds_sEH':np.byte}\n",
    "\n",
    "directory = Path(\"../data/shrunken/\")"
   ],
   "outputs": []
  },
  {
   "cell_type": "code",
   "execution_count": 3,
   "metadata": {},
   "source": [
    "train = pd.read_parquet(directory / \"train.parquet\")"
   ],
   "outputs": []
  },
  {
   "cell_type": "code",
   "execution_count": 4,
   "metadata": {},
   "source": [
    "train.head()"
   ],
   "outputs": []
  },
  {
   "cell_type": "code",
   "execution_count": 5,
   "metadata": {},
   "source": [
    "# Find rows where binds_BRD4, binds_HSA, and binds_sEH are all 1\n",
    "train[(train['binds_BRD4'] == 1) & (train['binds_HSA'] == 1) & (train['binds_sEH'] == 1)]"
   ],
   "outputs": []
  },
  {
   "cell_type": "code",
   "execution_count": 6,
   "metadata": {},
   "source": [
    "# Find the percentage of binds_BRD4 that are 1 and also in the binds of sEH\n",
    "seh_binds = train[train['binds_sEH'] == 1]\n",
    "brd4_binds = train[train['binds_BRD4'] == 1]\n",
    "hsa_binds = train[train['binds_HSA'] == 1]\n",
    "subset_brd4_seh = brd4_binds[brd4_binds.index.isin(seh_binds.index)]\n",
    "subset_hsa_seh = hsa_binds[hsa_binds.index.isin(seh_binds.index)]\n",
    "subset_brd4_hsa = brd4_binds[brd4_binds.index.isin(hsa_binds.index)]\n",
    "print(f\"Count seh_binds: {len(seh_binds)}, Count brd4_binds: {len(brd4_binds)}, Count subset: {len(subset_brd4_seh)}, percentage: {len(subset_brd4_seh)/len(brd4_binds)}\")\n",
    "print(f\"Count hsa_binds: {len(hsa_binds)}, Count subset_hsa_seh: {len(subset_hsa_seh)}, percentage: {len(subset_hsa_seh)/len(hsa_binds)}\")\n",
    "print(f\"Count subset_brd4_hsa: {len(subset_brd4_hsa)}, percentage: {len(subset_brd4_hsa)/len(brd4_binds)}\")\n",
    "print(f\"Percentage of seh in brd4: {len(subset_brd4_seh)/len(seh_binds)}\")\n",
    "print(f\"Percentage of seh in hsa: {len(subset_hsa_seh)/len(seh_binds)}\")"
   ],
   "outputs": []
  },
  {
   "cell_type": "code",
   "execution_count": 7,
   "metadata": {},
   "source": [
    "brd4_binds"
   ],
   "outputs": []
  },
  {
   "cell_type": "code",
   "execution_count": 74,
   "metadata": {},
   "source": [
    "brd4_binds.molecule_smiles.to_list()[0]"
   ],
   "outputs": []
  },
  {
   "cell_type": "code",
   "execution_count": 8,
   "metadata": {},
   "source": [
    "BBs_dict_reverse_1 = pickle.load(open(directory / 'train_dicts/BBs_dict_reverse_1.p', 'br'))\n",
    "BBs_dict_reverse_2 = pickle.load(open(directory / 'train_dicts/BBs_dict_reverse_2.p', 'br'))\n",
    "BBs_dict_reverse_3 = pickle.load(open(directory / 'train_dicts/BBs_dict_reverse_3.p', 'br'))"
   ],
   "outputs": []
  },
  {
   "cell_type": "code",
   "execution_count": 9,
   "metadata": {},
   "source": [
    "buildingblock3_smiles_original = [BBs_dict_reverse_3[x] for x in train.buildingblock3_smiles[:1000]]\n",
    "print(buildingblock3_smiles_original[0])"
   ],
   "outputs": []
  },
  {
   "cell_type": "code",
   "execution_count": 13,
   "metadata": {},
   "source": [
    "import rdkit"
   ],
   "outputs": []
  },
  {
   "cell_type": "code",
   "execution_count": 46,
   "metadata": {},
   "source": [
    "rdkit.Chem.MolFromSmiles(buildingblock3_smiles_original[1])\n",
    "\n",
    "# Show chemical structure of buildingblock3_smiles one by one, in a slide show\n",
    "from rdkit import Chem\n",
    "from rdkit.Chem import Draw\n",
    "\n",
    "mols = [Chem.MolFromSmiles(x) for x in buildingblock3_smiles_original]"
   ],
   "outputs": []
  },
  {
   "cell_type": "markdown",
   "metadata": {},
   "source": [
    "## Chem.rdchem.Mol"
   ]
  },
  {
   "cell_type": "code",
   "execution_count": 54,
   "metadata": {},
   "source": [
    "mol = mols[0]\n"
   ],
   "outputs": []
  },
  {
   "cell_type": "markdown",
   "metadata": {},
   "source": [
    "#### Descriptors"
   ]
  },
  {
   "cell_type": "code",
   "execution_count": 58,
   "metadata": {},
   "source": [
    "from rdkit.Chem import Descriptors\n",
    "\n",
    "# Example: Calculate the molecular weight\n",
    "mol_weight = Descriptors.MolWt(mol)\n",
    "print(f\"Molecular Weight: {mol_weight}\")\n",
    "\n",
    "# Calculate all descriptors\n",
    "all_descriptors = {desc_name: desc_func(mol) for desc_name, desc_func in Descriptors.descList}\n",
    "print(len(all_descriptors))\n",
    "\n",
    "# Display all descriptors in table vertically\n",
    "from IPython.display import display, HTML\n",
    "\n",
    "html = \"<table>\"\n",
    "for key, value in all_descriptors.items():\n",
    "    html += f\"<tr><td>{key}</td><td>{value}</td></tr>\"\n",
    "html += \"</table>\"\n",
    "display(HTML(html))"
   ],
   "outputs": []
  },
  {
   "cell_type": "code",
   "execution_count": 59,
   "metadata": {},
   "source": [
    "from rdkit.Chem import AllChem\n",
    "\n",
    "# Example: Generate Morgan fingerprint\n",
    "fingerprint = AllChem.GetMorganFingerprintAsBitVect(mol, radius=2, nBits=1024)\n",
    "print(list(fingerprint))\n"
   ],
   "outputs": []
  },
  {
   "cell_type": "code",
   "execution_count": 60,
   "metadata": {},
   "source": [
    "# Number of rings\n",
    "num_rings = Chem.GetSSSR(mol)\n",
    "print(f\"Number of Rings: {num_rings}\")\n",
    "\n",
    "# Bond types\n",
    "bonds = [bond.GetBondType() for bond in mol.GetBonds()]\n",
    "print(f\"Bond Types: {bonds}\")\n"
   ],
   "outputs": []
  },
  {
   "cell_type": "code",
   "execution_count": 63,
   "metadata": {},
   "source": [
    "# Generate conformations\n",
    "AllChem.EmbedMolecule(mol)\n",
    "conformer = mol.GetConformer()\n",
    "for atom in mol.GetAtoms():\n",
    "    pos = conformer.GetAtomPosition(atom.GetIdx())\n",
    "    print(f\"Atom {atom.GetSymbol()}, Position: {pos.x}, {pos.y}, {pos.z}\")\n"
   ],
   "outputs": []
  },
  {
   "cell_type": "markdown",
   "metadata": {},
   "source": [
    "## Graph representation using RDKit"
   ]
  },
  {
   "cell_type": "code",
   "execution_count": 64,
   "metadata": {},
   "source": [
    "# Access atoms and bonds\n",
    "atoms = [atom.GetSymbol() for atom in mol.GetAtoms()]\n",
    "bonds = [(bond.GetBeginAtomIdx(), bond.GetEndAtomIdx()) for bond in mol.GetBonds()]\n",
    "\n",
    "print(\"Atoms:\", atoms)\n",
    "print(\"Bonds:\", bonds)\n"
   ],
   "outputs": []
  },
  {
   "cell_type": "code",
   "execution_count": 66,
   "metadata": {},
   "source": [
    "# Draw the molecule\n",
    "Draw.MolToImage(mol)"
   ],
   "outputs": []
  },
  {
   "cell_type": "code",
   "execution_count": 67,
   "metadata": {},
   "source": [
    "import networkx as nx\n",
    "import matplotlib.pyplot as plt\n",
    "\n",
    "# Create a graph\n",
    "G = nx.Graph()\n",
    "G.add_nodes_from(range(len(atoms)))\n",
    "G.add_edges_from(bonds)\n",
    "\n",
    "# Position nodes using spring layout\n",
    "pos = nx.spring_layout(G)\n",
    "\n",
    "# Draw the graph\n",
    "nx.draw(G, pos, with_labels=True, labels={i: atom for i, atom in enumerate(atoms)}, node_color='skyblue')\n",
    "plt.show()\n"
   ],
   "outputs": []
  }
 ],
 "metadata": {
  "kernelspec": {
   "display_name": "venv",
   "language": "python",
   "name": "python3"
  },
  "language_info": {
   "codemirror_mode": {
    "name": "ipython",
    "version": 3
   },
   "file_extension": ".py",
   "mimetype": "text/x-python",
   "name": "python",
   "nbconvert_exporter": "python",
   "pygments_lexer": "ipython3",
   "version": "3.11.8"
  }
 },
 "nbformat": 4,
 "nbformat_minor": 2
}
