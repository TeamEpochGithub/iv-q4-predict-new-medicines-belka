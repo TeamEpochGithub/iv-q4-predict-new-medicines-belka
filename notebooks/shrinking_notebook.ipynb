{
 "cells": [
  {
   "cell_type": "markdown",
   "metadata": {},
   "source": [
    "# Load the shrunken data"
   ]
  },
  {
   "cell_type": "code",
   "execution_count": 1,
   "metadata": {},
   "outputs": [],
   "source": [
    "import numpy as np\n",
    "import pandas as pd \n",
    "import pickle\n",
    "from pathlib import Path"
   ]
  },
  {
   "cell_type": "code",
   "execution_count": 2,
   "metadata": {},
   "outputs": [],
   "source": [
    "dtypes = {'buildingblock1_smiles': np.int16, 'buildingblock2_smiles': np.int16, 'buildingblock3_smiles': np.int16,\n",
    "          'binds_BRD4':np.byte, 'binds_HSA':np.byte, 'binds_sEH':np.byte}\n",
    "\n",
    "directory = Path(\"../data/shrunken/\")"
   ]
  },
  {
   "cell_type": "code",
   "execution_count": 3,
   "metadata": {},
   "outputs": [],
   "source": [
    "train = pd.read_parquet(directory / \"train.parquet\")"
   ]
  },
  {
   "cell_type": "code",
   "execution_count": 4,
   "metadata": {},
   "outputs": [
    {
     "data": {
      "text/html": [
       "<div>\n",
       "<style scoped>\n",
       "    .dataframe tbody tr th:only-of-type {\n",
       "        vertical-align: middle;\n",
       "    }\n",
       "\n",
       "    .dataframe tbody tr th {\n",
       "        vertical-align: top;\n",
       "    }\n",
       "\n",
       "    .dataframe thead th {\n",
       "        text-align: right;\n",
       "    }\n",
       "</style>\n",
       "<table border=\"1\" class=\"dataframe\">\n",
       "  <thead>\n",
       "    <tr style=\"text-align: right;\">\n",
       "      <th></th>\n",
       "      <th>buildingblock1_smiles</th>\n",
       "      <th>buildingblock2_smiles</th>\n",
       "      <th>buildingblock3_smiles</th>\n",
       "      <th>molecule_smiles</th>\n",
       "      <th>binds_BRD4</th>\n",
       "      <th>binds_HSA</th>\n",
       "      <th>binds_sEH</th>\n",
       "    </tr>\n",
       "  </thead>\n",
       "  <tbody>\n",
       "    <tr>\n",
       "      <th>0</th>\n",
       "      <td>0</td>\n",
       "      <td>0</td>\n",
       "      <td>0</td>\n",
       "      <td>C#CCOc1ccc(CNc2nc(NCC3CCCN3c3cccnn3)nc(N[C@@H]...</td>\n",
       "      <td>0</td>\n",
       "      <td>0</td>\n",
       "      <td>0</td>\n",
       "    </tr>\n",
       "    <tr>\n",
       "      <th>1</th>\n",
       "      <td>0</td>\n",
       "      <td>0</td>\n",
       "      <td>1</td>\n",
       "      <td>C#CCOc1ccc(CNc2nc(NCc3cccc(Br)n3)nc(N[C@@H](CC...</td>\n",
       "      <td>0</td>\n",
       "      <td>0</td>\n",
       "      <td>0</td>\n",
       "    </tr>\n",
       "    <tr>\n",
       "      <th>2</th>\n",
       "      <td>0</td>\n",
       "      <td>0</td>\n",
       "      <td>2</td>\n",
       "      <td>C#CCOc1ccc(CNc2nc(NCc3ccc(OCC#C)cc3)nc(N[C@@H]...</td>\n",
       "      <td>0</td>\n",
       "      <td>0</td>\n",
       "      <td>0</td>\n",
       "    </tr>\n",
       "    <tr>\n",
       "      <th>3</th>\n",
       "      <td>0</td>\n",
       "      <td>0</td>\n",
       "      <td>6</td>\n",
       "      <td>C#CCOc1ccc(CNc2nc(NCCNC(=O)C(=C)C)nc(N[C@@H](C...</td>\n",
       "      <td>0</td>\n",
       "      <td>0</td>\n",
       "      <td>0</td>\n",
       "    </tr>\n",
       "    <tr>\n",
       "      <th>4</th>\n",
       "      <td>0</td>\n",
       "      <td>0</td>\n",
       "      <td>10</td>\n",
       "      <td>C#CCOc1ccc(CNc2nc(NCC(=O)NCC=C)nc(N[C@@H](CC#C...</td>\n",
       "      <td>0</td>\n",
       "      <td>0</td>\n",
       "      <td>0</td>\n",
       "    </tr>\n",
       "  </tbody>\n",
       "</table>\n",
       "</div>"
      ],
      "text/plain": [
       "   buildingblock1_smiles  buildingblock2_smiles  buildingblock3_smiles  \\\n",
       "0                      0                      0                      0   \n",
       "1                      0                      0                      1   \n",
       "2                      0                      0                      2   \n",
       "3                      0                      0                      6   \n",
       "4                      0                      0                     10   \n",
       "\n",
       "                                     molecule_smiles  binds_BRD4  binds_HSA  \\\n",
       "0  C#CCOc1ccc(CNc2nc(NCC3CCCN3c3cccnn3)nc(N[C@@H]...           0          0   \n",
       "1  C#CCOc1ccc(CNc2nc(NCc3cccc(Br)n3)nc(N[C@@H](CC...           0          0   \n",
       "2  C#CCOc1ccc(CNc2nc(NCc3ccc(OCC#C)cc3)nc(N[C@@H]...           0          0   \n",
       "3  C#CCOc1ccc(CNc2nc(NCCNC(=O)C(=C)C)nc(N[C@@H](C...           0          0   \n",
       "4  C#CCOc1ccc(CNc2nc(NCC(=O)NCC=C)nc(N[C@@H](CC#C...           0          0   \n",
       "\n",
       "   binds_sEH  \n",
       "0          0  \n",
       "1          0  \n",
       "2          0  \n",
       "3          0  \n",
       "4          0  "
      ]
     },
     "execution_count": 4,
     "metadata": {},
     "output_type": "execute_result"
    }
   ],
   "source": [
    "train.head()"
   ]
  },
  {
   "cell_type": "code",
   "execution_count": 5,
   "metadata": {},
   "outputs": [
    {
     "data": {
      "text/html": [
       "<div>\n",
       "<style scoped>\n",
       "    .dataframe tbody tr th:only-of-type {\n",
       "        vertical-align: middle;\n",
       "    }\n",
       "\n",
       "    .dataframe tbody tr th {\n",
       "        vertical-align: top;\n",
       "    }\n",
       "\n",
       "    .dataframe thead th {\n",
       "        text-align: right;\n",
       "    }\n",
       "</style>\n",
       "<table border=\"1\" class=\"dataframe\">\n",
       "  <thead>\n",
       "    <tr style=\"text-align: right;\">\n",
       "      <th></th>\n",
       "      <th>buildingblock1_smiles</th>\n",
       "      <th>buildingblock2_smiles</th>\n",
       "      <th>buildingblock3_smiles</th>\n",
       "      <th>molecule_smiles</th>\n",
       "      <th>binds_BRD4</th>\n",
       "      <th>binds_HSA</th>\n",
       "      <th>binds_sEH</th>\n",
       "    </tr>\n",
       "  </thead>\n",
       "  <tbody>\n",
       "    <tr>\n",
       "      <th>4446476</th>\n",
       "      <td>12</td>\n",
       "      <td>167</td>\n",
       "      <td>298</td>\n",
       "      <td>COc1ccc(Nc2nc(NCc3ccc4[nH]c(C)cc4c3)nc(NC(CCC(...</td>\n",
       "      <td>1</td>\n",
       "      <td>1</td>\n",
       "      <td>1</td>\n",
       "    </tr>\n",
       "    <tr>\n",
       "      <th>5488751</th>\n",
       "      <td>15</td>\n",
       "      <td>76</td>\n",
       "      <td>298</td>\n",
       "      <td>CCOc1cc(Nc2nc(NCc3ccc4[nH]c(C)cc4c3)nc(NC(COC(...</td>\n",
       "      <td>1</td>\n",
       "      <td>1</td>\n",
       "      <td>1</td>\n",
       "    </tr>\n",
       "    <tr>\n",
       "      <th>5568350</th>\n",
       "      <td>15</td>\n",
       "      <td>231</td>\n",
       "      <td>298</td>\n",
       "      <td>Cc1cc2cc(CNc3nc(Nc4ccc(F)c(C)c4)nc(NC(COC(C)(C...</td>\n",
       "      <td>1</td>\n",
       "      <td>1</td>\n",
       "      <td>1</td>\n",
       "    </tr>\n",
       "    <tr>\n",
       "      <th>5573221</th>\n",
       "      <td>15</td>\n",
       "      <td>241</td>\n",
       "      <td>588</td>\n",
       "      <td>Cc1cc(Nc2nc(NCC3CN4CCN3CC4)nc(NC(COC(C)(C)C)C(...</td>\n",
       "      <td>1</td>\n",
       "      <td>1</td>\n",
       "      <td>1</td>\n",
       "    </tr>\n",
       "    <tr>\n",
       "      <th>5826969</th>\n",
       "      <td>16</td>\n",
       "      <td>32</td>\n",
       "      <td>298</td>\n",
       "      <td>Cc1cc2cc(CNc3nc(NCCC(C)S(C)=O)nc(NC(CC(C)C)C(=...</td>\n",
       "      <td>1</td>\n",
       "      <td>1</td>\n",
       "      <td>1</td>\n",
       "    </tr>\n",
       "    <tr>\n",
       "      <th>...</th>\n",
       "      <td>...</td>\n",
       "      <td>...</td>\n",
       "      <td>...</td>\n",
       "      <td>...</td>\n",
       "      <td>...</td>\n",
       "      <td>...</td>\n",
       "      <td>...</td>\n",
       "    </tr>\n",
       "    <tr>\n",
       "      <th>69853081</th>\n",
       "      <td>192</td>\n",
       "      <td>241</td>\n",
       "      <td>588</td>\n",
       "      <td>Cc1cc(Nc2nc(NCC3CN4CCN3CC4)nc(Nc3cccc(C(=O)N[D...</td>\n",
       "      <td>1</td>\n",
       "      <td>1</td>\n",
       "      <td>1</td>\n",
       "    </tr>\n",
       "    <tr>\n",
       "      <th>71306089</th>\n",
       "      <td>196</td>\n",
       "      <td>241</td>\n",
       "      <td>588</td>\n",
       "      <td>Cc1cc(Nc2nc(NCC3CN4CCN3CC4)nc(Nc3cccc(I)c3C(=O...</td>\n",
       "      <td>1</td>\n",
       "      <td>1</td>\n",
       "      <td>1</td>\n",
       "    </tr>\n",
       "    <tr>\n",
       "      <th>76388759</th>\n",
       "      <td>210</td>\n",
       "      <td>241</td>\n",
       "      <td>588</td>\n",
       "      <td>Cc1cc(Nc2nc(NCC3CN4CCN3CC4)nc(Nc3ncc(Br)cc3C(=...</td>\n",
       "      <td>1</td>\n",
       "      <td>1</td>\n",
       "      <td>1</td>\n",
       "    </tr>\n",
       "    <tr>\n",
       "      <th>88372204</th>\n",
       "      <td>243</td>\n",
       "      <td>241</td>\n",
       "      <td>588</td>\n",
       "      <td>Cc1cc(Nc2nc(NCC3CN4CCN3CC4)nc(N[C@H](CC(=O)N[D...</td>\n",
       "      <td>1</td>\n",
       "      <td>1</td>\n",
       "      <td>1</td>\n",
       "    </tr>\n",
       "    <tr>\n",
       "      <th>94941633</th>\n",
       "      <td>261</td>\n",
       "      <td>302</td>\n",
       "      <td>683</td>\n",
       "      <td>O=C(N[Dy])[C@@H]1Cc2ccc(O)cc2CN1c1nc(NCC=Cc2cc...</td>\n",
       "      <td>1</td>\n",
       "      <td>1</td>\n",
       "      <td>1</td>\n",
       "    </tr>\n",
       "  </tbody>\n",
       "</table>\n",
       "<p>62 rows × 7 columns</p>\n",
       "</div>"
      ],
      "text/plain": [
       "          buildingblock1_smiles  buildingblock2_smiles  buildingblock3_smiles  \\\n",
       "4446476                      12                    167                    298   \n",
       "5488751                      15                     76                    298   \n",
       "5568350                      15                    231                    298   \n",
       "5573221                      15                    241                    588   \n",
       "5826969                      16                     32                    298   \n",
       "...                         ...                    ...                    ...   \n",
       "69853081                    192                    241                    588   \n",
       "71306089                    196                    241                    588   \n",
       "76388759                    210                    241                    588   \n",
       "88372204                    243                    241                    588   \n",
       "94941633                    261                    302                    683   \n",
       "\n",
       "                                            molecule_smiles  binds_BRD4  \\\n",
       "4446476   COc1ccc(Nc2nc(NCc3ccc4[nH]c(C)cc4c3)nc(NC(CCC(...           1   \n",
       "5488751   CCOc1cc(Nc2nc(NCc3ccc4[nH]c(C)cc4c3)nc(NC(COC(...           1   \n",
       "5568350   Cc1cc2cc(CNc3nc(Nc4ccc(F)c(C)c4)nc(NC(COC(C)(C...           1   \n",
       "5573221   Cc1cc(Nc2nc(NCC3CN4CCN3CC4)nc(NC(COC(C)(C)C)C(...           1   \n",
       "5826969   Cc1cc2cc(CNc3nc(NCCC(C)S(C)=O)nc(NC(CC(C)C)C(=...           1   \n",
       "...                                                     ...         ...   \n",
       "69853081  Cc1cc(Nc2nc(NCC3CN4CCN3CC4)nc(Nc3cccc(C(=O)N[D...           1   \n",
       "71306089  Cc1cc(Nc2nc(NCC3CN4CCN3CC4)nc(Nc3cccc(I)c3C(=O...           1   \n",
       "76388759  Cc1cc(Nc2nc(NCC3CN4CCN3CC4)nc(Nc3ncc(Br)cc3C(=...           1   \n",
       "88372204  Cc1cc(Nc2nc(NCC3CN4CCN3CC4)nc(N[C@H](CC(=O)N[D...           1   \n",
       "94941633  O=C(N[Dy])[C@@H]1Cc2ccc(O)cc2CN1c1nc(NCC=Cc2cc...           1   \n",
       "\n",
       "          binds_HSA  binds_sEH  \n",
       "4446476           1          1  \n",
       "5488751           1          1  \n",
       "5568350           1          1  \n",
       "5573221           1          1  \n",
       "5826969           1          1  \n",
       "...             ...        ...  \n",
       "69853081          1          1  \n",
       "71306089          1          1  \n",
       "76388759          1          1  \n",
       "88372204          1          1  \n",
       "94941633          1          1  \n",
       "\n",
       "[62 rows x 7 columns]"
      ]
     },
     "execution_count": 5,
     "metadata": {},
     "output_type": "execute_result"
    }
   ],
   "source": [
    "# Find rows where binds_BRD4, binds_HSA, and binds_sEH are all 1\n",
    "train[(train['binds_BRD4'] == 1) & (train['binds_HSA'] == 1) & (train['binds_sEH'] == 1)]"
   ]
  },
  {
   "cell_type": "code",
   "execution_count": 6,
   "metadata": {},
   "outputs": [
    {
     "name": "stdout",
     "output_type": "stream",
     "text": [
      "Count seh_binds: 724532, Count brd4_binds: 456964, Count subset: 659, percentage: 0.001442126732083928\n",
      "Count hsa_binds: 408410, Count subset_hsa_seh: 79233, percentage: 0.19400357483900982\n",
      "Count subset_brd4_hsa: 297, percentage: 0.00064994178972523\n",
      "Percentage of seh in brd4: 0.0009095526491583533\n",
      "Percentage of seh in hsa: 0.10935748869615144\n"
     ]
    }
   ],
   "source": [
    "# Find the percentage of binds_BRD4 that are 1 and also in the binds of sEH\n",
    "seh_binds = train[train['binds_sEH'] == 1]\n",
    "brd4_binds = train[train['binds_BRD4'] == 1]\n",
    "hsa_binds = train[train['binds_HSA'] == 1]\n",
    "subset_brd4_seh = brd4_binds[brd4_binds.index.isin(seh_binds.index)]\n",
    "subset_hsa_seh = hsa_binds[hsa_binds.index.isin(seh_binds.index)]\n",
    "subset_brd4_hsa = brd4_binds[brd4_binds.index.isin(hsa_binds.index)]\n",
    "print(f\"Count seh_binds: {len(seh_binds)}, Count brd4_binds: {len(brd4_binds)}, Count subset: {len(subset_brd4_seh)}, percentage: {len(subset_brd4_seh)/len(brd4_binds)}\")\n",
    "print(f\"Count hsa_binds: {len(hsa_binds)}, Count subset_hsa_seh: {len(subset_hsa_seh)}, percentage: {len(subset_hsa_seh)/len(hsa_binds)}\")\n",
    "print(f\"Count subset_brd4_hsa: {len(subset_brd4_hsa)}, percentage: {len(subset_brd4_hsa)/len(brd4_binds)}\")\n",
    "print(f\"Percentage of seh in brd4: {len(subset_brd4_seh)/len(seh_binds)}\")\n",
    "print(f\"Percentage of seh in hsa: {len(subset_hsa_seh)/len(seh_binds)}\")"
   ]
  },
  {
   "cell_type": "code",
   "execution_count": 7,
   "metadata": {},
   "outputs": [
    {
     "data": {
      "text/html": [
       "<div>\n",
       "<style scoped>\n",
       "    .dataframe tbody tr th:only-of-type {\n",
       "        vertical-align: middle;\n",
       "    }\n",
       "\n",
       "    .dataframe tbody tr th {\n",
       "        vertical-align: top;\n",
       "    }\n",
       "\n",
       "    .dataframe thead th {\n",
       "        text-align: right;\n",
       "    }\n",
       "</style>\n",
       "<table border=\"1\" class=\"dataframe\">\n",
       "  <thead>\n",
       "    <tr style=\"text-align: right;\">\n",
       "      <th></th>\n",
       "      <th>buildingblock1_smiles</th>\n",
       "      <th>buildingblock2_smiles</th>\n",
       "      <th>buildingblock3_smiles</th>\n",
       "      <th>molecule_smiles</th>\n",
       "      <th>binds_BRD4</th>\n",
       "      <th>binds_HSA</th>\n",
       "      <th>binds_sEH</th>\n",
       "    </tr>\n",
       "  </thead>\n",
       "  <tbody>\n",
       "    <tr>\n",
       "      <th>3574</th>\n",
       "      <td>0</td>\n",
       "      <td>6</td>\n",
       "      <td>16</td>\n",
       "      <td>C#CC[C@@H](CC(=O)N[Dy])Nc1nc(NCCSC(C)=O)nc(NCC...</td>\n",
       "      <td>1</td>\n",
       "      <td>0</td>\n",
       "      <td>0</td>\n",
       "    </tr>\n",
       "    <tr>\n",
       "      <th>3873</th>\n",
       "      <td>0</td>\n",
       "      <td>6</td>\n",
       "      <td>416</td>\n",
       "      <td>C#CC[C@@H](CC(=O)N[Dy])Nc1nc(NCC(=C)Cl)nc(Nc2c...</td>\n",
       "      <td>1</td>\n",
       "      <td>0</td>\n",
       "      <td>0</td>\n",
       "    </tr>\n",
       "    <tr>\n",
       "      <th>4715</th>\n",
       "      <td>0</td>\n",
       "      <td>7</td>\n",
       "      <td>752</td>\n",
       "      <td>C#CC[C@@H](CC(=O)N[Dy])Nc1nc(NCC2CCC(=C)CC2)nc...</td>\n",
       "      <td>1</td>\n",
       "      <td>0</td>\n",
       "      <td>0</td>\n",
       "    </tr>\n",
       "    <tr>\n",
       "      <th>7581</th>\n",
       "      <td>0</td>\n",
       "      <td>14</td>\n",
       "      <td>25</td>\n",
       "      <td>C#CC[C@@H](CC(=O)N[Dy])Nc1nc(NCCSC(C)=O)nc(Nc2...</td>\n",
       "      <td>1</td>\n",
       "      <td>0</td>\n",
       "      <td>0</td>\n",
       "    </tr>\n",
       "    <tr>\n",
       "      <th>7605</th>\n",
       "      <td>0</td>\n",
       "      <td>14</td>\n",
       "      <td>64</td>\n",
       "      <td>C#CC[C@@H](CC(=O)N[Dy])Nc1nc(NCCSC(C)=O)nc(NCc...</td>\n",
       "      <td>1</td>\n",
       "      <td>0</td>\n",
       "      <td>0</td>\n",
       "    </tr>\n",
       "    <tr>\n",
       "      <th>...</th>\n",
       "      <td>...</td>\n",
       "      <td>...</td>\n",
       "      <td>...</td>\n",
       "      <td>...</td>\n",
       "      <td>...</td>\n",
       "      <td>...</td>\n",
       "      <td>...</td>\n",
       "    </tr>\n",
       "    <tr>\n",
       "      <th>98411640</th>\n",
       "      <td>270</td>\n",
       "      <td>684</td>\n",
       "      <td>416</td>\n",
       "      <td>Cn1cc(Nc2nc(Nc3nccnc3Br)nc(N[C@@H](CCCN=[N+]=[...</td>\n",
       "      <td>1</td>\n",
       "      <td>0</td>\n",
       "      <td>0</td>\n",
       "    </tr>\n",
       "    <tr>\n",
       "      <th>98412227</th>\n",
       "      <td>270</td>\n",
       "      <td>685</td>\n",
       "      <td>416</td>\n",
       "      <td>Cn1cc(Nc2nc(Nc3nccnc3Cl)nc(N[C@@H](CCCN=[N+]=[...</td>\n",
       "      <td>1</td>\n",
       "      <td>0</td>\n",
       "      <td>0</td>\n",
       "    </tr>\n",
       "    <tr>\n",
       "      <th>98412329</th>\n",
       "      <td>270</td>\n",
       "      <td>685</td>\n",
       "      <td>589</td>\n",
       "      <td>[N-]=[N+]=NCCC[C@H](Nc1nc(NCC2CS(=O)(=O)c3cccc...</td>\n",
       "      <td>1</td>\n",
       "      <td>0</td>\n",
       "      <td>0</td>\n",
       "    </tr>\n",
       "    <tr>\n",
       "      <th>98414696</th>\n",
       "      <td>270</td>\n",
       "      <td>691</td>\n",
       "      <td>416</td>\n",
       "      <td>Cn1cc(Nc2nc(Nc3nncs3)nc(N[C@@H](CCCN=[N+]=[N-]...</td>\n",
       "      <td>1</td>\n",
       "      <td>0</td>\n",
       "      <td>0</td>\n",
       "    </tr>\n",
       "    <tr>\n",
       "      <th>98415278</th>\n",
       "      <td>270</td>\n",
       "      <td>692</td>\n",
       "      <td>416</td>\n",
       "      <td>Cn1cc(Nc2nc(Nc3noc4ccc(F)cc34)nc(N[C@@H](CCCN=...</td>\n",
       "      <td>1</td>\n",
       "      <td>0</td>\n",
       "      <td>0</td>\n",
       "    </tr>\n",
       "  </tbody>\n",
       "</table>\n",
       "<p>456964 rows × 7 columns</p>\n",
       "</div>"
      ],
      "text/plain": [
       "          buildingblock1_smiles  buildingblock2_smiles  buildingblock3_smiles  \\\n",
       "3574                          0                      6                     16   \n",
       "3873                          0                      6                    416   \n",
       "4715                          0                      7                    752   \n",
       "7581                          0                     14                     25   \n",
       "7605                          0                     14                     64   \n",
       "...                         ...                    ...                    ...   \n",
       "98411640                    270                    684                    416   \n",
       "98412227                    270                    685                    416   \n",
       "98412329                    270                    685                    589   \n",
       "98414696                    270                    691                    416   \n",
       "98415278                    270                    692                    416   \n",
       "\n",
       "                                            molecule_smiles  binds_BRD4  \\\n",
       "3574      C#CC[C@@H](CC(=O)N[Dy])Nc1nc(NCCSC(C)=O)nc(NCC...           1   \n",
       "3873      C#CC[C@@H](CC(=O)N[Dy])Nc1nc(NCC(=C)Cl)nc(Nc2c...           1   \n",
       "4715      C#CC[C@@H](CC(=O)N[Dy])Nc1nc(NCC2CCC(=C)CC2)nc...           1   \n",
       "7581      C#CC[C@@H](CC(=O)N[Dy])Nc1nc(NCCSC(C)=O)nc(Nc2...           1   \n",
       "7605      C#CC[C@@H](CC(=O)N[Dy])Nc1nc(NCCSC(C)=O)nc(NCc...           1   \n",
       "...                                                     ...         ...   \n",
       "98411640  Cn1cc(Nc2nc(Nc3nccnc3Br)nc(N[C@@H](CCCN=[N+]=[...           1   \n",
       "98412227  Cn1cc(Nc2nc(Nc3nccnc3Cl)nc(N[C@@H](CCCN=[N+]=[...           1   \n",
       "98412329  [N-]=[N+]=NCCC[C@H](Nc1nc(NCC2CS(=O)(=O)c3cccc...           1   \n",
       "98414696  Cn1cc(Nc2nc(Nc3nncs3)nc(N[C@@H](CCCN=[N+]=[N-]...           1   \n",
       "98415278  Cn1cc(Nc2nc(Nc3noc4ccc(F)cc34)nc(N[C@@H](CCCN=...           1   \n",
       "\n",
       "          binds_HSA  binds_sEH  \n",
       "3574              0          0  \n",
       "3873              0          0  \n",
       "4715              0          0  \n",
       "7581              0          0  \n",
       "7605              0          0  \n",
       "...             ...        ...  \n",
       "98411640          0          0  \n",
       "98412227          0          0  \n",
       "98412329          0          0  \n",
       "98414696          0          0  \n",
       "98415278          0          0  \n",
       "\n",
       "[456964 rows x 7 columns]"
      ]
     },
     "execution_count": 7,
     "metadata": {},
     "output_type": "execute_result"
    }
   ],
   "source": [
    "brd4_binds"
   ]
  },
  {
   "cell_type": "code",
   "execution_count": 74,
   "metadata": {},
   "outputs": [
    {
     "data": {
      "text/plain": [
       "'C#CC[C@@H](CC(=O)N[Dy])Nc1nc(NCCSC(C)=O)nc(NCC(=C)Cl)n1'"
      ]
     },
     "execution_count": 74,
     "metadata": {},
     "output_type": "execute_result"
    }
   ],
   "source": [
    "brd4_binds.molecule_smiles.to_list()[0]"
   ]
  },
  {
   "cell_type": "code",
   "execution_count": 8,
   "metadata": {},
   "outputs": [],
   "source": [
    "BBs_dict_reverse_1 = pickle.load(open(directory / 'train_dicts/BBs_dict_reverse_1.p', 'br'))\n",
    "BBs_dict_reverse_2 = pickle.load(open(directory / 'train_dicts/BBs_dict_reverse_2.p', 'br'))\n",
    "BBs_dict_reverse_3 = pickle.load(open(directory / 'train_dicts/BBs_dict_reverse_3.p', 'br'))"
   ]
  },
  {
   "cell_type": "code",
   "execution_count": 9,
   "metadata": {},
   "outputs": [
    {
     "name": "stdout",
     "output_type": "stream",
     "text": [
      "Br.Br.NCC1CCCN1c1cccnn1\n"
     ]
    }
   ],
   "source": [
    "buildingblock3_smiles_original = [BBs_dict_reverse_3[x] for x in train.buildingblock3_smiles[:1000]]\n",
    "print(buildingblock3_smiles_original[0])"
   ]
  },
  {
   "cell_type": "code",
   "execution_count": 13,
   "metadata": {},
   "outputs": [],
   "source": [
    "import rdkit"
   ]
  },
  {
   "cell_type": "code",
   "execution_count": 46,
   "metadata": {},
   "outputs": [],
   "source": [
    "rdkit.Chem.MolFromSmiles(buildingblock3_smiles_original[1])\n",
    "\n",
    "# Show chemical structure of buildingblock3_smiles one by one, in a slide show\n",
    "from rdkit import Chem\n",
    "from rdkit.Chem import Draw\n",
    "\n",
    "mols = [Chem.MolFromSmiles(x) for x in buildingblock3_smiles_original]"
   ]
  },
  {
   "cell_type": "markdown",
   "metadata": {},
   "source": [
    "## Chem.rdchem.Mol"
   ]
  },
  {
   "cell_type": "code",
   "execution_count": 54,
   "metadata": {},
   "outputs": [
    {
     "data": {
      "text/plain": [
       "2"
      ]
     },
     "execution_count": 54,
     "metadata": {},
     "output_type": "execute_result"
    }
   ],
   "source": [
    "mol = mols[0]\n"
   ]
  },
  {
   "cell_type": "markdown",
   "metadata": {},
   "source": [
    "#### Descriptors"
   ]
  },
  {
   "cell_type": "code",
   "execution_count": 58,
   "metadata": {},
   "outputs": [
    {
     "name": "stdout",
     "output_type": "stream",
     "text": [
      "Molecular Weight: 340.063\n",
      "210\n"
     ]
    },
    {
     "data": {
      "text/html": [
       "<table><tr><td>MaxAbsEStateIndex</td><td>5.671687452758881</td></tr><tr><td>MaxEStateIndex</td><td>5.671687452758881</td></tr><tr><td>MinAbsEStateIndex</td><td>0.0</td></tr><tr><td>MinEStateIndex</td><td>0.0</td></tr><tr><td>qed</td><td>0.8879847523713709</td></tr><tr><td>SPS</td><td>19.266666666666666</td></tr><tr><td>MolWt</td><td>340.063</td></tr><tr><td>HeavyAtomMolWt</td><td>323.93500000000006</td></tr><tr><td>ExactMolWt</td><td>337.97417071200005</td></tr><tr><td>NumValenceElectrons</td><td>86</td></tr><tr><td>NumRadicalElectrons</td><td>0</td></tr><tr><td>MaxPartialCharge</td><td>0.15101609903396043</td></tr><tr><td>MinPartialCharge</td><td>-0.35087806580657854</td></tr><tr><td>MaxAbsPartialCharge</td><td>0.35087806580657854</td></tr><tr><td>MinAbsPartialCharge</td><td>0.15101609903396043</td></tr><tr><td>FpDensityMorgan1</td><td>1.4666666666666666</td></tr><tr><td>FpDensityMorgan2</td><td>2.2666666666666666</td></tr><tr><td>FpDensityMorgan3</td><td>2.8666666666666667</td></tr><tr><td>BCUT2D_MWHI</td><td>79.90500039833836</td></tr><tr><td>BCUT2D_MWLOW</td><td>10.205893628717755</td></tr><tr><td>BCUT2D_CHGHI</td><td>2.234444309714995</td></tr><tr><td>BCUT2D_CHGLO</td><td>-2.2295863305228982</td></tr><tr><td>BCUT2D_LOGPHI</td><td>2.2123023736432557</td></tr><tr><td>BCUT2D_LOGPLOW</td><td>-2.354432198592309</td></tr><tr><td>BCUT2D_MRHI</td><td>8.928006574081943</td></tr><tr><td>BCUT2D_MRLOW</td><td>0.6673506710236398</td></tr><tr><td>AvgIpc</td><td>2.665697728686742</td></tr><tr><td>BalabanJ</td><td>9.799998475750243e-07</td></tr><tr><td>BertzCT</td><td>270.0746712021913</td></tr><tr><td>Chi0</td><td>9.096011838247808</td></tr><tr><td>Chi0n</td><td>8.373315838121922</td></tr><tr><td>Chi0v</td><td>11.799459944313481</td></tr><tr><td>Chi1</td><td>6.41501490017253</td></tr><tr><td>Chi1n</td><td>4.659925813664188</td></tr><tr><td>Chi1v</td><td>4.659925813664188</td></tr><tr><td>Chi2n</td><td>3.3070055017971742</td></tr><tr><td>Chi2v</td><td>3.3070055017971742</td></tr><tr><td>Chi3n</td><td>2.5017024768892986</td></tr><tr><td>Chi3v</td><td>2.5017024768892986</td></tr><tr><td>Chi4n</td><td>1.828956575060644</td></tr><tr><td>Chi4v</td><td>1.828956575060644</td></tr><tr><td>HallKierAlpha</td><td>-0.20000000000000007</td></tr><tr><td>Ipc</td><td>1929.965155569201</td></tr><tr><td>Kappa1</td><td>14.799999999999999</td></tr><tr><td>Kappa2</td><td>7.136068678197197</td></tr><tr><td>Kappa3</td><td>3.392260433585199</td></tr><tr><td>LabuteASA</td><td>110.78316066035961</td></tr><tr><td>PEOE_VSA1</td><td>10.633577208012664</td></tr><tr><td>PEOE_VSA10</td><td>0.0</td></tr><tr><td>PEOE_VSA11</td><td>5.817862777835028</td></tr><tr><td>PEOE_VSA12</td><td>0.0</td></tr><tr><td>PEOE_VSA13</td><td>0.0</td></tr><tr><td>PEOE_VSA14</td><td>0.0</td></tr><tr><td>PEOE_VSA2</td><td>0.0</td></tr><tr><td>PEOE_VSA3</td><td>0.0</td></tr><tr><td>PEOE_VSA4</td><td>5.098681808301038</td></tr><tr><td>PEOE_VSA5</td><td>39.061583512553604</td></tr><tr><td>PEOE_VSA6</td><td>0.0</td></tr><tr><td>PEOE_VSA7</td><td>24.974377382775238</td></tr><tr><td>PEOE_VSA8</td><td>25.328197212586186</td></tr><tr><td>PEOE_VSA9</td><td>0.0</td></tr><tr><td>SMR_VSA1</td><td>0.0</td></tr><tr><td>SMR_VSA10</td><td>39.78076448208759</td></tr><tr><td>SMR_VSA2</td><td>0.0</td></tr><tr><td>SMR_VSA3</td><td>10.197363616602075</td></tr><tr><td>SMR_VSA4</td><td>5.733667477162185</td></tr><tr><td>SMR_VSA5</td><td>18.88348407499998</td></tr><tr><td>SMR_VSA6</td><td>17.989422542675626</td></tr><tr><td>SMR_VSA7</td><td>18.3295777085363</td></tr><tr><td>SMR_VSA8</td><td>0.0</td></tr><tr><td>SMR_VSA9</td><td>0.0</td></tr><tr><td>SlogP_VSA1</td><td>10.633577208012664</td></tr><tr><td>SlogP_VSA10</td><td>5.817862777835028</td></tr><tr><td>SlogP_VSA11</td><td>0.0</td></tr><tr><td>SlogP_VSA12</td><td>33.962901704252566</td></tr><tr><td>SlogP_VSA2</td><td>29.328717257575185</td></tr><tr><td>SlogP_VSA3</td><td>0.0</td></tr><tr><td>SlogP_VSA4</td><td>0.0</td></tr><tr><td>SlogP_VSA5</td><td>12.841643245852019</td></tr><tr><td>SlogP_VSA6</td><td>18.3295777085363</td></tr><tr><td>SlogP_VSA7</td><td>0.0</td></tr><tr><td>SlogP_VSA8</td><td>0.0</td></tr><tr><td>SlogP_VSA9</td><td>0.0</td></tr><tr><td>TPSA</td><td>55.04</td></tr><tr><td>EState_VSA1</td><td>0.0</td></tr><tr><td>EState_VSA10</td><td>0.0</td></tr><tr><td>EState_VSA11</td><td>0.0</td></tr><tr><td>EState_VSA2</td><td>33.962901704252566</td></tr><tr><td>EState_VSA3</td><td>12.586597235060536</td></tr><tr><td>EState_VSA4</td><td>12.362619183747604</td></tr><tr><td>EState_VSA5</td><td>12.841643245852019</td></tr><tr><td>EState_VSA6</td><td>6.196843571613076</td></tr><tr><td>EState_VSA7</td><td>12.13273413692322</td></tr><tr><td>EState_VSA8</td><td>15.097273347452553</td></tr><tr><td>EState_VSA9</td><td>5.733667477162185</td></tr><tr><td>VSA_EState1</td><td>0.0</td></tr><tr><td>VSA_EState10</td><td>0.0</td></tr><tr><td>VSA_EState2</td><td>2.2430555555555554</td></tr><tr><td>VSA_EState3</td><td>7.944823318216175</td></tr><tr><td>VSA_EState4</td><td>5.671687452758881</td></tr><tr><td>VSA_EState5</td><td>0.9541203703703706</td></tr><tr><td>VSA_EState6</td><td>4.353304043839758</td></tr><tr><td>VSA_EState7</td><td>4.071963340891912</td></tr><tr><td>VSA_EState8</td><td>1.761045918367347</td></tr><tr><td>VSA_EState9</td><td>0.0</td></tr><tr><td>FractionCSP3</td><td>0.5555555555555556</td></tr><tr><td>HeavyAtomCount</td><td>15</td></tr><tr><td>NHOHCount</td><td>2</td></tr><tr><td>NOCount</td><td>4</td></tr><tr><td>NumAliphaticCarbocycles</td><td>0</td></tr><tr><td>NumAliphaticHeterocycles</td><td>1</td></tr><tr><td>NumAliphaticRings</td><td>1</td></tr><tr><td>NumAromaticCarbocycles</td><td>0</td></tr><tr><td>NumAromaticHeterocycles</td><td>1</td></tr><tr><td>NumAromaticRings</td><td>1</td></tr><tr><td>NumHAcceptors</td><td>4</td></tr><tr><td>NumHDonors</td><td>1</td></tr><tr><td>NumHeteroatoms</td><td>6</td></tr><tr><td>NumRotatableBonds</td><td>2</td></tr><tr><td>NumSaturatedCarbocycles</td><td>0</td></tr><tr><td>NumSaturatedHeterocycles</td><td>1</td></tr><tr><td>NumSaturatedRings</td><td>1</td></tr><tr><td>RingCount</td><td>2</td></tr><tr><td>MolLogP</td><td>1.5599</td></tr><tr><td>MolMR</td><td>72.09840000000003</td></tr><tr><td>fr_Al_COO</td><td>0</td></tr><tr><td>fr_Al_OH</td><td>0</td></tr><tr><td>fr_Al_OH_noTert</td><td>0</td></tr><tr><td>fr_ArN</td><td>0</td></tr><tr><td>fr_Ar_COO</td><td>0</td></tr><tr><td>fr_Ar_N</td><td>2</td></tr><tr><td>fr_Ar_NH</td><td>0</td></tr><tr><td>fr_Ar_OH</td><td>0</td></tr><tr><td>fr_COO</td><td>0</td></tr><tr><td>fr_COO2</td><td>0</td></tr><tr><td>fr_C_O</td><td>0</td></tr><tr><td>fr_C_O_noCOO</td><td>0</td></tr><tr><td>fr_C_S</td><td>0</td></tr><tr><td>fr_HOCCN</td><td>0</td></tr><tr><td>fr_Imine</td><td>0</td></tr><tr><td>fr_NH0</td><td>3</td></tr><tr><td>fr_NH1</td><td>0</td></tr><tr><td>fr_NH2</td><td>1</td></tr><tr><td>fr_N_O</td><td>0</td></tr><tr><td>fr_Ndealkylation1</td><td>0</td></tr><tr><td>fr_Ndealkylation2</td><td>0</td></tr><tr><td>fr_Nhpyrrole</td><td>0</td></tr><tr><td>fr_SH</td><td>0</td></tr><tr><td>fr_aldehyde</td><td>0</td></tr><tr><td>fr_alkyl_carbamate</td><td>0</td></tr><tr><td>fr_alkyl_halide</td><td>0</td></tr><tr><td>fr_allylic_oxid</td><td>0</td></tr><tr><td>fr_amide</td><td>0</td></tr><tr><td>fr_amidine</td><td>0</td></tr><tr><td>fr_aniline</td><td>1</td></tr><tr><td>fr_aryl_methyl</td><td>0</td></tr><tr><td>fr_azide</td><td>0</td></tr><tr><td>fr_azo</td><td>0</td></tr><tr><td>fr_barbitur</td><td>0</td></tr><tr><td>fr_benzene</td><td>0</td></tr><tr><td>fr_benzodiazepine</td><td>0</td></tr><tr><td>fr_bicyclic</td><td>0</td></tr><tr><td>fr_diazo</td><td>0</td></tr><tr><td>fr_dihydropyridine</td><td>0</td></tr><tr><td>fr_epoxide</td><td>0</td></tr><tr><td>fr_ester</td><td>0</td></tr><tr><td>fr_ether</td><td>0</td></tr><tr><td>fr_furan</td><td>0</td></tr><tr><td>fr_guanido</td><td>0</td></tr><tr><td>fr_halogen</td><td>2</td></tr><tr><td>fr_hdrzine</td><td>0</td></tr><tr><td>fr_hdrzone</td><td>0</td></tr><tr><td>fr_imidazole</td><td>0</td></tr><tr><td>fr_imide</td><td>0</td></tr><tr><td>fr_isocyan</td><td>0</td></tr><tr><td>fr_isothiocyan</td><td>0</td></tr><tr><td>fr_ketone</td><td>0</td></tr><tr><td>fr_ketone_Topliss</td><td>0</td></tr><tr><td>fr_lactam</td><td>0</td></tr><tr><td>fr_lactone</td><td>0</td></tr><tr><td>fr_methoxy</td><td>0</td></tr><tr><td>fr_morpholine</td><td>0</td></tr><tr><td>fr_nitrile</td><td>0</td></tr><tr><td>fr_nitro</td><td>0</td></tr><tr><td>fr_nitro_arom</td><td>0</td></tr><tr><td>fr_nitro_arom_nonortho</td><td>0</td></tr><tr><td>fr_nitroso</td><td>0</td></tr><tr><td>fr_oxazole</td><td>0</td></tr><tr><td>fr_oxime</td><td>0</td></tr><tr><td>fr_para_hydroxylation</td><td>0</td></tr><tr><td>fr_phenol</td><td>0</td></tr><tr><td>fr_phenol_noOrthoHbond</td><td>0</td></tr><tr><td>fr_phos_acid</td><td>0</td></tr><tr><td>fr_phos_ester</td><td>0</td></tr><tr><td>fr_piperdine</td><td>0</td></tr><tr><td>fr_piperzine</td><td>0</td></tr><tr><td>fr_priamide</td><td>0</td></tr><tr><td>fr_prisulfonamd</td><td>0</td></tr><tr><td>fr_pyridine</td><td>0</td></tr><tr><td>fr_quatN</td><td>0</td></tr><tr><td>fr_sulfide</td><td>0</td></tr><tr><td>fr_sulfonamd</td><td>0</td></tr><tr><td>fr_sulfone</td><td>0</td></tr><tr><td>fr_term_acetylene</td><td>0</td></tr><tr><td>fr_tetrazole</td><td>0</td></tr><tr><td>fr_thiazole</td><td>0</td></tr><tr><td>fr_thiocyan</td><td>0</td></tr><tr><td>fr_thiophene</td><td>0</td></tr><tr><td>fr_unbrch_alkane</td><td>0</td></tr><tr><td>fr_urea</td><td>0</td></tr></table>"
      ],
      "text/plain": [
       "<IPython.core.display.HTML object>"
      ]
     },
     "metadata": {},
     "output_type": "display_data"
    }
   ],
   "source": [
    "from rdkit.Chem import Descriptors\n",
    "\n",
    "# Example: Calculate the molecular weight\n",
    "mol_weight = Descriptors.MolWt(mol)\n",
    "print(f\"Molecular Weight: {mol_weight}\")\n",
    "\n",
    "# Calculate all descriptors\n",
    "all_descriptors = {desc_name: desc_func(mol) for desc_name, desc_func in Descriptors.descList}\n",
    "print(len(all_descriptors))\n",
    "\n",
    "# Display all descriptors in table vertically\n",
    "from IPython.display import display, HTML\n",
    "\n",
    "html = \"<table>\"\n",
    "for key, value in all_descriptors.items():\n",
    "    html += f\"<tr><td>{key}</td><td>{value}</td></tr>\"\n",
    "html += \"</table>\"\n",
    "display(HTML(html))"
   ]
  },
  {
   "cell_type": "code",
   "execution_count": 59,
   "metadata": {},
   "outputs": [
    {
     "name": "stdout",
     "output_type": "stream",
     "text": [
      "[0, 0, 0, 0, 1, 0, 0, 0, 0, 0, 0, 0, 0, 0, 0, 0, 0, 0, 0, 1, 0, 0, 0, 0, 0, 0, 0, 0, 0, 0, 0, 0, 0, 0, 0, 0, 0, 0, 0, 0, 0, 0, 0, 0, 0, 0, 0, 0, 0, 0, 0, 0, 0, 0, 0, 0, 0, 0, 0, 0, 0, 0, 0, 0, 1, 0, 0, 0, 0, 0, 0, 0, 0, 0, 0, 0, 0, 0, 0, 0, 1, 0, 0, 0, 0, 0, 0, 0, 0, 0, 0, 0, 0, 0, 0, 0, 0, 0, 0, 0, 0, 0, 0, 0, 0, 0, 0, 0, 0, 0, 0, 0, 0, 0, 0, 0, 0, 0, 0, 0, 0, 0, 0, 0, 0, 0, 0, 0, 0, 0, 0, 0, 0, 0, 0, 0, 0, 0, 0, 0, 1, 0, 0, 0, 0, 0, 0, 1, 0, 0, 0, 0, 0, 0, 0, 0, 0, 0, 0, 0, 0, 0, 0, 0, 0, 0, 0, 0, 0, 0, 0, 0, 0, 0, 0, 0, 0, 0, 0, 0, 0, 0, 0, 0, 0, 0, 0, 0, 0, 0, 0, 0, 0, 0, 0, 0, 0, 0, 0, 0, 0, 0, 0, 0, 0, 0, 0, 0, 0, 0, 0, 0, 0, 0, 0, 0, 0, 0, 0, 0, 0, 0, 0, 0, 0, 0, 0, 0, 0, 0, 0, 0, 0, 0, 0, 0, 0, 0, 0, 0, 0, 1, 0, 0, 0, 0, 0, 0, 0, 0, 0, 0, 0, 0, 0, 0, 0, 0, 0, 0, 0, 0, 0, 0, 0, 0, 0, 0, 0, 0, 0, 0, 0, 0, 0, 0, 0, 0, 0, 0, 0, 1, 0, 1, 0, 0, 0, 0, 0, 0, 0, 0, 0, 0, 0, 0, 0, 0, 0, 0, 0, 1, 0, 0, 0, 0, 0, 0, 0, 0, 0, 0, 0, 0, 0, 0, 0, 0, 0, 0, 0, 0, 0, 0, 0, 1, 0, 0, 0, 0, 0, 0, 0, 0, 0, 0, 0, 0, 0, 0, 0, 0, 0, 1, 0, 0, 0, 0, 0, 0, 0, 0, 0, 1, 0, 0, 1, 0, 0, 0, 0, 0, 0, 0, 0, 0, 0, 0, 0, 0, 0, 0, 0, 0, 0, 0, 0, 0, 1, 0, 0, 0, 0, 0, 0, 0, 0, 0, 0, 0, 0, 0, 0, 0, 0, 0, 0, 0, 0, 0, 0, 0, 0, 0, 0, 0, 0, 0, 0, 0, 0, 0, 0, 0, 0, 0, 0, 0, 0, 0, 0, 0, 0, 0, 0, 0, 0, 0, 0, 0, 0, 0, 0, 0, 0, 0, 0, 0, 0, 0, 0, 0, 0, 0, 0, 0, 1, 0, 0, 0, 0, 0, 0, 0, 0, 0, 1, 0, 0, 0, 0, 0, 0, 0, 0, 0, 0, 0, 0, 0, 0, 0, 0, 0, 0, 0, 0, 0, 0, 0, 0, 0, 0, 0, 0, 0, 0, 0, 0, 0, 0, 0, 0, 0, 0, 0, 0, 0, 0, 0, 0, 0, 0, 0, 0, 0, 0, 0, 0, 0, 0, 0, 0, 0, 0, 0, 0, 0, 0, 0, 0, 0, 0, 0, 0, 0, 0, 1, 1, 0, 0, 0, 0, 0, 0, 0, 0, 0, 0, 0, 0, 0, 0, 0, 0, 0, 0, 0, 0, 0, 0, 0, 0, 0, 0, 0, 0, 0, 0, 0, 0, 0, 0, 0, 0, 0, 0, 0, 0, 0, 0, 0, 0, 0, 0, 0, 0, 0, 0, 0, 0, 0, 0, 0, 0, 0, 0, 0, 0, 0, 0, 0, 0, 0, 0, 0, 0, 0, 0, 0, 0, 0, 0, 0, 0, 0, 0, 0, 0, 0, 0, 0, 0, 0, 0, 0, 0, 0, 0, 0, 0, 0, 0, 0, 0, 0, 0, 0, 0, 0, 0, 0, 0, 0, 1, 0, 0, 0, 0, 0, 0, 0, 0, 0, 0, 0, 0, 0, 0, 0, 0, 0, 1, 0, 0, 0, 0, 0, 0, 0, 0, 0, 0, 0, 0, 0, 0, 0, 0, 0, 0, 0, 0, 0, 0, 0, 0, 0, 0, 0, 0, 0, 0, 0, 1, 0, 0, 0, 0, 0, 0, 0, 0, 0, 0, 0, 0, 0, 0, 0, 0, 0, 0, 0, 0, 0, 0, 0, 0, 0, 0, 0, 0, 0, 0, 0, 0, 0, 0, 0, 0, 0, 0, 0, 0, 0, 1, 0, 0, 0, 0, 0, 0, 0, 0, 0, 0, 0, 0, 0, 0, 0, 0, 0, 0, 0, 0, 0, 0, 0, 0, 0, 0, 0, 0, 0, 0, 0, 0, 0, 0, 0, 0, 0, 0, 0, 0, 0, 0, 0, 0, 0, 0, 0, 0, 0, 0, 1, 0, 0, 0, 0, 0, 0, 0, 0, 0, 0, 0, 0, 0, 0, 0, 0, 0, 0, 0, 0, 0, 0, 0, 0, 0, 0, 0, 0, 0, 0, 0, 0, 0, 0, 0, 0, 0, 0, 0, 0, 0, 0, 0, 0, 0, 0, 0, 0, 0, 0, 0, 0, 0, 0, 0, 0, 0, 0, 0, 0, 0, 0, 0, 0, 1, 0, 0, 0, 0, 0, 0, 1, 0, 0, 0, 0, 0, 0, 0, 0, 0, 0, 0, 0, 0, 0, 0, 0, 0, 0, 0, 0, 0, 0, 0, 0, 0, 0, 0, 0, 0, 1, 0, 0, 0, 0, 0, 0, 0, 0, 0, 0, 0, 0, 0, 0, 0, 1, 0, 0, 0, 0, 0, 0, 0, 0, 0, 0, 0, 0, 0, 0, 0, 0, 0, 0, 0, 0, 0, 0, 0, 0, 0, 0, 0, 0, 0, 0, 1, 0, 0, 0, 0, 0, 0, 0, 0, 1, 0, 0, 0, 0, 0, 0, 0, 0, 0, 0, 0, 0, 0, 0, 0, 0, 0, 0, 0, 0, 0, 0, 0, 0, 1, 0, 0, 0, 0, 0, 0, 0, 0, 0, 0, 0, 0, 0, 0, 0, 0, 0, 0, 0, 0, 1, 0, 0, 0, 0, 0, 0, 0, 0, 0, 0, 0, 0, 0, 0, 0, 0, 0, 0, 0, 0, 0, 0, 0, 0, 0, 0, 0, 0, 0, 0, 0, 0, 0, 0, 0, 0, 0, 1, 0, 0, 0, 0]\n"
     ]
    }
   ],
   "source": [
    "from rdkit.Chem import AllChem\n",
    "\n",
    "# Example: Generate Morgan fingerprint\n",
    "fingerprint = AllChem.GetMorganFingerprintAsBitVect(mol, radius=2, nBits=1024)\n",
    "print(list(fingerprint))\n"
   ]
  },
  {
   "cell_type": "code",
   "execution_count": 60,
   "metadata": {},
   "outputs": [
    {
     "name": "stdout",
     "output_type": "stream",
     "text": [
      "Number of Rings: <rdkit.rdBase._vectSt6vectorIiSaIiEE object at 0x706545ff54c0>\n",
      "Bond Types: [rdkit.Chem.rdchem.BondType.SINGLE, rdkit.Chem.rdchem.BondType.SINGLE, rdkit.Chem.rdchem.BondType.SINGLE, rdkit.Chem.rdchem.BondType.SINGLE, rdkit.Chem.rdchem.BondType.SINGLE, rdkit.Chem.rdchem.BondType.SINGLE, rdkit.Chem.rdchem.BondType.SINGLE, rdkit.Chem.rdchem.BondType.AROMATIC, rdkit.Chem.rdchem.BondType.AROMATIC, rdkit.Chem.rdchem.BondType.AROMATIC, rdkit.Chem.rdchem.BondType.AROMATIC, rdkit.Chem.rdchem.BondType.AROMATIC, rdkit.Chem.rdchem.BondType.SINGLE, rdkit.Chem.rdchem.BondType.AROMATIC]\n"
     ]
    }
   ],
   "source": [
    "# Number of rings\n",
    "num_rings = Chem.GetSSSR(mol)\n",
    "print(f\"Number of Rings: {num_rings}\")\n",
    "\n",
    "# Bond types\n",
    "bonds = [bond.GetBondType() for bond in mol.GetBonds()]\n",
    "print(f\"Bond Types: {bonds}\")\n"
   ]
  },
  {
   "cell_type": "code",
   "execution_count": 63,
   "metadata": {},
   "outputs": [
    {
     "name": "stdout",
     "output_type": "stream",
     "text": [
      "Atom Br, Position: 0.0, 0.0, 0.0\n",
      "Atom Br, Position: 0.0, 0.0, 0.0\n",
      "Atom N, Position: -2.130796063034429, 2.196112487781607, 1.8132741470523428\n",
      "Atom C, Position: -1.2540807386966288, 1.5092298797321837, 0.8853735263977903\n",
      "Atom C, Position: -1.459432039190416, 0.013872904651805964, 0.9425220218477479\n",
      "Atom C, Position: -2.8550884098870863, -0.39607470909730885, 0.5991504793214557\n",
      "Atom C, Position: -2.688656143409877, -1.0359462123882912, -0.784192956984529\n",
      "Atom C, Position: -1.3334635008690081, -1.7287472394767511, -0.5897629707943891\n",
      "Atom N, Position: -0.5782784408162375, -0.6620563169497432, 0.03510020307734732\n",
      "Atom C, Position: 0.7909110519304878, -0.2975286040734947, -0.16929782004060942\n",
      "Atom C, Position: 1.5077877090361802, -1.0605310143860254, -1.0886884403259147\n",
      "Atom C, Position: 2.823533150318694, -0.696915832454021, -1.273775693053521\n",
      "Atom C, Position: 3.3056631426442933, 0.3681401878032671, -0.5480026273036345\n",
      "Atom N, Position: 2.5616847326598404, 1.060026189934064, 0.32100885454398015\n",
      "Atom N, Position: 1.3102155493141767, 0.7304182789226793, 0.5108862093895389\n"
     ]
    },
    {
     "name": "stderr",
     "output_type": "stream",
     "text": [
      "[16:11:28] Molecule does not have explicit Hs. Consider calling AddHs()\n"
     ]
    }
   ],
   "source": [
    "# Generate conformations\n",
    "AllChem.EmbedMolecule(mol)\n",
    "conformer = mol.GetConformer()\n",
    "for atom in mol.GetAtoms():\n",
    "    pos = conformer.GetAtomPosition(atom.GetIdx())\n",
    "    print(f\"Atom {atom.GetSymbol()}, Position: {pos.x}, {pos.y}, {pos.z}\")\n"
   ]
  },
  {
   "cell_type": "markdown",
   "metadata": {},
   "source": [
    "## Graph representation using RDKit"
   ]
  },
  {
   "cell_type": "code",
   "execution_count": 64,
   "metadata": {},
   "outputs": [
    {
     "name": "stdout",
     "output_type": "stream",
     "text": [
      "Atoms: ['Br', 'Br', 'N', 'C', 'C', 'C', 'C', 'C', 'N', 'C', 'C', 'C', 'C', 'N', 'N']\n",
      "Bonds: [(2, 3), (3, 4), (4, 5), (5, 6), (6, 7), (7, 8), (8, 9), (9, 10), (10, 11), (11, 12), (12, 13), (13, 14), (8, 4), (14, 9)]\n"
     ]
    }
   ],
   "source": [
    "# Access atoms and bonds\n",
    "atoms = [atom.GetSymbol() for atom in mol.GetAtoms()]\n",
    "bonds = [(bond.GetBeginAtomIdx(), bond.GetEndAtomIdx()) for bond in mol.GetBonds()]\n",
    "\n",
    "print(\"Atoms:\", atoms)\n",
    "print(\"Bonds:\", bonds)\n"
   ]
  },
  {
   "cell_type": "code",
   "execution_count": 66,
   "metadata": {},
   "outputs": [
    {
     "data": {
      "image/jpeg": "[encoded data removed]",
      "image/png": "[encoded data removed]",
      "text/plain": [
       "<PIL.PngImagePlugin.PngImageFile image mode=RGB size=300x300>"
      ]
     },
     "execution_count": 66,
     "metadata": {},
     "output_type": "execute_result"
    }
   ],
   "source": [
    "# Draw the molecule\n",
    "Draw.MolToImage(mol)"
   ]
  },
  {
   "cell_type": "code",
   "execution_count": 67,
   "metadata": {},
   "outputs": [
    {
     "data": {
      "image/png": "[encoded data removed]",
      "text/plain": [
       "<Figure size 640x480 with 1 Axes>"
      ]
     },
     "metadata": {},
     "output_type": "display_data"
    }
   ],
   "source": [
    "import networkx as nx\n",
    "import matplotlib.pyplot as plt\n",
    "\n",
    "# Create a graph\n",
    "G = nx.Graph()\n",
    "G.add_nodes_from(range(len(atoms)))\n",
    "G.add_edges_from(bonds)\n",
    "\n",
    "# Position nodes using spring layout\n",
    "pos = nx.spring_layout(G)\n",
    "\n",
    "# Draw the graph\n",
    "nx.draw(G, pos, with_labels=True, labels={i: atom for i, atom in enumerate(atoms)}, node_color='skyblue')\n",
    "plt.show()\n"
   ]
  }
 ],
 "metadata": {
  "kernelspec": {
   "display_name": "venv",
   "language": "python",
   "name": "python3"
  },
  "language_info": {
   "codemirror_mode": {
    "name": "ipython",
    "version": 3
   },
   "file_extension": ".py",
   "mimetype": "text/x-python",
   "name": "python",
   "nbconvert_exporter": "python",
   "pygments_lexer": "ipython3",
   "version": "3.11.8"
  }
 },
 "nbformat": 4,
 "nbformat_minor": 2
}
