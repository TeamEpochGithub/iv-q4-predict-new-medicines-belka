{
 "cells": [
  {
   "cell_type": "code",
   "execution_count": 15,
   "metadata": {},
   "outputs": [],
   "source": [
    "import numpy as np\n",
    "import pandas as pd \n",
    "import pickle\n",
    "from pathlib import Path\n",
    "import polars as pl"
   ]
  },
  {
   "cell_type": "code",
   "execution_count": 16,
   "metadata": {},
   "outputs": [],
   "source": [
    "dtypes = {'buildingblock1_smiles': np.int16, 'buildingblock2_smiles': np.int16, 'buildingblock3_smiles': np.int16,\n",
    "          'binds_BRD4':np.byte, 'binds_HSA':np.byte, 'binds_sEH':np.byte}\n",
    "\n",
    "directory = Path(\"../data/shrunken/\")"
   ]
  },
  {
   "cell_type": "markdown",
   "metadata": {},
   "source": [
    "## What is in the train data?"
   ]
  },
  {
   "cell_type": "code",
   "execution_count": null,
   "metadata": {},
   "outputs": [],
   "source": [
    "train_data =  pl.read_parquet(directory / \"train.parquet\")\n",
    "train_data = train_data.to_pandas(use_pyarrow_extension_array=True)"
   ]
  },
  {
   "cell_type": "code",
   "execution_count": null,
   "metadata": {},
   "outputs": [],
   "source": [
    "# Load building blocks\n",
    "BBs_dict_reverse_1 = pickle.load(open(directory / 'train_dicts/BBs_dict_reverse_1.p', 'br'))\n",
    "BBs_dict_reverse_2 = pickle.load(open(directory / 'train_dicts/BBs_dict_reverse_2.p', 'br'))\n",
    "BBs_dict_reverse_3 = pickle.load(open(directory / 'train_dicts/BBs_dict_reverse_3.p', 'br'))"
   ]
  },
  {
   "cell_type": "code",
   "execution_count": 19,
   "metadata": {},
   "outputs": [
    {
     "data": {
      "text/html": [
       "<div>\n",
       "<style scoped>\n",
       "    .dataframe tbody tr th:only-of-type {\n",
       "        vertical-align: middle;\n",
       "    }\n",
       "\n",
       "    .dataframe tbody tr th {\n",
       "        vertical-align: top;\n",
       "    }\n",
       "\n",
       "    .dataframe thead th {\n",
       "        text-align: right;\n",
       "    }\n",
       "</style>\n",
       "<table border=\"1\" class=\"dataframe\">\n",
       "  <thead>\n",
       "    <tr style=\"text-align: right;\">\n",
       "      <th></th>\n",
       "      <th>buildingblock1_smiles</th>\n",
       "      <th>buildingblock2_smiles</th>\n",
       "      <th>buildingblock3_smiles</th>\n",
       "      <th>molecule_smiles</th>\n",
       "      <th>binds_BRD4</th>\n",
       "      <th>binds_HSA</th>\n",
       "      <th>binds_sEH</th>\n",
       "    </tr>\n",
       "  </thead>\n",
       "  <tbody>\n",
       "    <tr>\n",
       "      <th>0</th>\n",
       "      <td>0</td>\n",
       "      <td>0</td>\n",
       "      <td>0</td>\n",
       "      <td>C#CCOc1ccc(CNc2nc(NCC3CCCN3c3cccnn3)nc(N[C@@H]...</td>\n",
       "      <td>0</td>\n",
       "      <td>0</td>\n",
       "      <td>0</td>\n",
       "    </tr>\n",
       "    <tr>\n",
       "      <th>1</th>\n",
       "      <td>0</td>\n",
       "      <td>0</td>\n",
       "      <td>1</td>\n",
       "      <td>C#CCOc1ccc(CNc2nc(NCc3cccc(Br)n3)nc(N[C@@H](CC...</td>\n",
       "      <td>0</td>\n",
       "      <td>0</td>\n",
       "      <td>0</td>\n",
       "    </tr>\n",
       "    <tr>\n",
       "      <th>2</th>\n",
       "      <td>0</td>\n",
       "      <td>0</td>\n",
       "      <td>2</td>\n",
       "      <td>C#CCOc1ccc(CNc2nc(NCc3ccc(OCC#C)cc3)nc(N[C@@H]...</td>\n",
       "      <td>0</td>\n",
       "      <td>0</td>\n",
       "      <td>0</td>\n",
       "    </tr>\n",
       "    <tr>\n",
       "      <th>3</th>\n",
       "      <td>0</td>\n",
       "      <td>0</td>\n",
       "      <td>6</td>\n",
       "      <td>C#CCOc1ccc(CNc2nc(NCCNC(=O)C(=C)C)nc(N[C@@H](C...</td>\n",
       "      <td>0</td>\n",
       "      <td>0</td>\n",
       "      <td>0</td>\n",
       "    </tr>\n",
       "    <tr>\n",
       "      <th>4</th>\n",
       "      <td>0</td>\n",
       "      <td>0</td>\n",
       "      <td>10</td>\n",
       "      <td>C#CCOc1ccc(CNc2nc(NCC(=O)NCC=C)nc(N[C@@H](CC#C...</td>\n",
       "      <td>0</td>\n",
       "      <td>0</td>\n",
       "      <td>0</td>\n",
       "    </tr>\n",
       "    <tr>\n",
       "      <th>5</th>\n",
       "      <td>0</td>\n",
       "      <td>0</td>\n",
       "      <td>11</td>\n",
       "      <td>C#CCOc1ccc(CNc2nc(NCC(C)OCC=C)nc(N[C@@H](CC#C)...</td>\n",
       "      <td>0</td>\n",
       "      <td>0</td>\n",
       "      <td>0</td>\n",
       "    </tr>\n",
       "    <tr>\n",
       "      <th>6</th>\n",
       "      <td>0</td>\n",
       "      <td>0</td>\n",
       "      <td>12</td>\n",
       "      <td>C#CCOc1ccc(CNc2nc(NCCCOCC=C)nc(N[C@@H](CC#C)CC...</td>\n",
       "      <td>0</td>\n",
       "      <td>0</td>\n",
       "      <td>0</td>\n",
       "    </tr>\n",
       "    <tr>\n",
       "      <th>7</th>\n",
       "      <td>0</td>\n",
       "      <td>0</td>\n",
       "      <td>13</td>\n",
       "      <td>C#CCOc1ccc(CNc2nc(NCCOCC=C)nc(N[C@@H](CC#C)CC(...</td>\n",
       "      <td>0</td>\n",
       "      <td>0</td>\n",
       "      <td>0</td>\n",
       "    </tr>\n",
       "    <tr>\n",
       "      <th>8</th>\n",
       "      <td>0</td>\n",
       "      <td>0</td>\n",
       "      <td>21</td>\n",
       "      <td>C#CCOc1ccc(CNc2nc(Nc3cnn(C4CCN(C(=O)OC(C)(C)C)...</td>\n",
       "      <td>0</td>\n",
       "      <td>0</td>\n",
       "      <td>0</td>\n",
       "    </tr>\n",
       "    <tr>\n",
       "      <th>9</th>\n",
       "      <td>0</td>\n",
       "      <td>0</td>\n",
       "      <td>23</td>\n",
       "      <td>C#CCOc1ccc(CNc2nc(Nc3n[nH]c4c3CN(C(=O)OC(C)(C)...</td>\n",
       "      <td>0</td>\n",
       "      <td>0</td>\n",
       "      <td>0</td>\n",
       "    </tr>\n",
       "  </tbody>\n",
       "</table>\n",
       "</div>"
      ],
      "text/plain": [
       "   buildingblock1_smiles  buildingblock2_smiles  buildingblock3_smiles  \\\n",
       "0                      0                      0                      0   \n",
       "1                      0                      0                      1   \n",
       "2                      0                      0                      2   \n",
       "3                      0                      0                      6   \n",
       "4                      0                      0                     10   \n",
       "5                      0                      0                     11   \n",
       "6                      0                      0                     12   \n",
       "7                      0                      0                     13   \n",
       "8                      0                      0                     21   \n",
       "9                      0                      0                     23   \n",
       "\n",
       "                                     molecule_smiles  binds_BRD4  binds_HSA  \\\n",
       "0  C#CCOc1ccc(CNc2nc(NCC3CCCN3c3cccnn3)nc(N[C@@H]...           0          0   \n",
       "1  C#CCOc1ccc(CNc2nc(NCc3cccc(Br)n3)nc(N[C@@H](CC...           0          0   \n",
       "2  C#CCOc1ccc(CNc2nc(NCc3ccc(OCC#C)cc3)nc(N[C@@H]...           0          0   \n",
       "3  C#CCOc1ccc(CNc2nc(NCCNC(=O)C(=C)C)nc(N[C@@H](C...           0          0   \n",
       "4  C#CCOc1ccc(CNc2nc(NCC(=O)NCC=C)nc(N[C@@H](CC#C...           0          0   \n",
       "5  C#CCOc1ccc(CNc2nc(NCC(C)OCC=C)nc(N[C@@H](CC#C)...           0          0   \n",
       "6  C#CCOc1ccc(CNc2nc(NCCCOCC=C)nc(N[C@@H](CC#C)CC...           0          0   \n",
       "7  C#CCOc1ccc(CNc2nc(NCCOCC=C)nc(N[C@@H](CC#C)CC(...           0          0   \n",
       "8  C#CCOc1ccc(CNc2nc(Nc3cnn(C4CCN(C(=O)OC(C)(C)C)...           0          0   \n",
       "9  C#CCOc1ccc(CNc2nc(Nc3n[nH]c4c3CN(C(=O)OC(C)(C)...           0          0   \n",
       "\n",
       "   binds_sEH  \n",
       "0          0  \n",
       "1          0  \n",
       "2          0  \n",
       "3          0  \n",
       "4          0  \n",
       "5          0  \n",
       "6          0  \n",
       "7          0  \n",
       "8          0  \n",
       "9          0  "
      ]
     },
     "execution_count": 19,
     "metadata": {},
     "output_type": "execute_result"
    }
   ],
   "source": [
    "train_data.head(10)"
   ]
  },
  {
   "cell_type": "markdown",
   "metadata": {},
   "source": [
    "### Counts and unique values"
   ]
  },
  {
   "cell_type": "code",
   "execution_count": 23,
   "metadata": {},
   "outputs": [
    {
     "name": "stdout",
     "output_type": "stream",
     "text": [
      "Length of train data: 98415610\n",
      "Number of unique building blocks 1: 271\n",
      "Number of unique building blocks 2: 693\n",
      "Number of unique building blocks 3: 872\n"
     ]
    }
   ],
   "source": [
    "print(f\"Length of train data: {len(train_data)}\")\n",
    "print(f\"Number of unique building blocks 1: {len(BBs_dict_reverse_1)}\")\n",
    "print(f\"Number of unique building blocks 2: {len(BBs_dict_reverse_2)}\")\n",
    "print(f\"Number of unique building blocks 3: {len(BBs_dict_reverse_3)}\")"
   ]
  },
  {
   "cell_type": "code",
   "execution_count": 25,
   "metadata": {},
   "outputs": [
    {
     "name": "stdout",
     "output_type": "stream",
     "text": [
      "Value counts of binds_BRD4: binds_BRD4\n",
      "0    97958646\n",
      "1      456964\n",
      "Name: count, dtype: int64[pyarrow]\n",
      "Value counts of binds_HSA: binds_HSA\n",
      "0    98007200\n",
      "1      408410\n",
      "Name: count, dtype: int64[pyarrow]\n",
      "Value counts of binds_sEH: binds_sEH\n",
      "0    97691078\n",
      "1      724532\n",
      "Name: count, dtype: int64[pyarrow]\n"
     ]
    }
   ],
   "source": [
    "print(f\"Value counts of binds_BRD4: {train_data['binds_BRD4'].value_counts()}\")\n",
    "print(f\"Value counts of binds_HSA: {train_data['binds_HSA'].value_counts()}\")\n",
    "print(f\"Value counts of binds_sEH: {train_data['binds_sEH'].value_counts()}\")"
   ]
  },
  {
   "cell_type": "code",
   "execution_count": 28,
   "metadata": {},
   "outputs": [
    {
     "name": "stdout",
     "output_type": "stream",
     "text": [
      "Value counts of buildingblock1_smiles: buildingblock1_smiles\n",
      "120    363469\n",
      "266    363460\n",
      "101    363456\n",
      "81     363454\n",
      "215    363443\n",
      "        ...  \n",
      "218    362487\n",
      "76     362476\n",
      "75     362464\n",
      "96     362458\n",
      "73     362325\n",
      "Name: count, Length: 271, dtype: int64[pyarrow]\n"
     ]
    }
   ],
   "source": [
    "print(f\"Value counts of buildingblock1_smiles: {train_data['buildingblock1_smiles'].value_counts()}\")"
   ]
  },
  {
   "cell_type": "code",
   "execution_count": 29,
   "metadata": {},
   "outputs": [
    {
     "name": "stdout",
     "output_type": "stream",
     "text": [
      "Value counts of buildingblock2_smiles: buildingblock2_smiles\n",
      "524    235364\n",
      "421    234792\n",
      "510    234610\n",
      "48     234440\n",
      "632    234067\n",
      "        ...  \n",
      "91      49734\n",
      "180     49388\n",
      "653     49121\n",
      "415     48917\n",
      "438     48904\n",
      "Name: count, Length: 693, dtype: int64[pyarrow]\n"
     ]
    }
   ],
   "source": [
    "print(f\"Value counts of buildingblock2_smiles: {train_data['buildingblock2_smiles'].value_counts()}\")"
   ]
  },
  {
   "cell_type": "code",
   "execution_count": 30,
   "metadata": {},
   "outputs": [
    {
     "name": "stdout",
     "output_type": "stream",
     "text": [
      "Value counts of buildingblock3_smiles: buildingblock3_smiles\n",
      "613    187397\n",
      "216    187388\n",
      "656    187366\n",
      "87     187341\n",
      "836    187335\n",
      "        ...  \n",
      "618      1354\n",
      "809       995\n",
      "500       792\n",
      "57        542\n",
      "640       266\n",
      "Name: count, Length: 872, dtype: int64[pyarrow]\n"
     ]
    }
   ],
   "source": [
    "print(f\"Value counts of buildingblock3_smiles: {train_data['buildingblock3_smiles'].value_counts()}\")"
   ]
  },
  {
   "cell_type": "code",
   "execution_count": 46,
   "metadata": {},
   "outputs": [
    {
     "name": "stdout",
     "output_type": "stream",
     "text": [
      "Overlap between building blocks 1 and 2: 0\n",
      "Overlap between building blocks 1 and 3: 0\n",
      "Overlap between building blocks 2 and 3: 691\n",
      "Difference between building blocks 1 and 2: 271\n",
      "Difference between building blocks 1 and 3: 271\n",
      "Difference between building blocks 2 and 3: 2\n"
     ]
    }
   ],
   "source": [
    "train_BB1 = set(BBs_dict_reverse_1.values())\n",
    "train_BB2 = set(BBs_dict_reverse_2.values())\n",
    "train_BB3 = set(BBs_dict_reverse_3.values())\n",
    "\n",
    "print(f\"Overlap between building blocks 1 and 2: {len(train_BB1.intersection(train_BB2))}\")\n",
    "print(f\"Overlap between building blocks 1 and 3: {len(train_BB1.intersection(train_BB3))}\")\n",
    "print(f\"Overlap between building blocks 2 and 3: {len(train_BB2.intersection(train_BB3))}\")\n",
    "\n",
    "print(f\"Difference between building blocks 1 and 2: {len(train_BB1.difference(train_BB2))}\")\n",
    "print(f\"Difference between building blocks 1 and 3: {len(train_BB1.difference(train_BB3))}\")\n",
    "print(f\"Difference between building blocks 2 and 3: {len(train_BB2.difference(train_BB3))}\")"
   ]
  },
  {
   "cell_type": "code",
   "execution_count": 47,
   "metadata": {},
   "outputs": [
    {
     "data": {
      "text/plain": [
       "{'C#CC[C@@H](CC(=O)O)NC(=O)OCC1c2ccccc2-c2ccccc21',\n",
       " 'C#CC[C@@H](NC(=O)OCC1c2ccccc2-c2ccccc21)C(=O)O',\n",
       " 'C#CC[C@@](C)(NC(=O)OCC1c2ccccc2-c2ccccc21)C(=O)O',\n",
       " 'C#CC[C@H](CC(=O)O)NC(=O)OCC1c2ccccc2-c2ccccc21',\n",
       " 'C#CC[C@H](NC(=O)OCC1c2ccccc2-c2ccccc21)C(=O)O',\n",
       " 'C=CCC(CC=C)(NC(=O)OCC1c2ccccc2-c2ccccc21)C(=O)O',\n",
       " 'C=CCC(NC(=O)OCC1c2ccccc2-c2ccccc21)C(=O)O',\n",
       " 'C=CCC[C@@H](NC(=O)OCC1c2ccccc2-c2ccccc21)C(=O)O',\n",
       " 'C=CC[C@@H](NC(=O)OCC1c2ccccc2-c2ccccc21)C(=O)O',\n",
       " 'C=CC[C@H](NC(=O)OCC1c2ccccc2-c2ccccc21)C(=O)O',\n",
       " 'CC(=O)c1ccc(C[C@H](NC(=O)OCC2c3ccccc3-c3ccccc32)C(=O)O)cc1',\n",
       " 'CC(C)(C)OC(=O)CC(NC(=O)OCC1c2ccccc2-c2ccccc21)C(=O)O',\n",
       " 'CC(C)(C)OC(=O)CCC(NC(=O)OCC1c2ccccc2-c2ccccc21)C(=O)O',\n",
       " 'CC(C)(C)OC(=O)N1CCN(C(=O)OCC2c3ccccc3-c3ccccc32)C1C(=O)O',\n",
       " 'CC(C)(C)OC(=O)N1C[C@@H](NC(=O)OCC2c3ccccc3-c3ccccc32)[C@H](C(=O)O)C1',\n",
       " 'CC(C)(C)OCC(NC(=O)OCC1c2ccccc2-c2ccccc21)C(=O)O',\n",
       " 'CC(C)CC(NC(=O)OCC1c2ccccc2-c2ccccc21)C(=O)O',\n",
       " 'CC(OC(C)(C)C)C(NC(=O)OCC1c2ccccc2-c2ccccc21)C(=O)O',\n",
       " 'CCC(C)C(NC(=O)OCC1c2ccccc2-c2ccccc21)C(=O)O',\n",
       " 'CCCCC(NC(=O)OCC1c2ccccc2-c2ccccc21)C(=O)O',\n",
       " 'CCOc1cc(NC(=O)OCC2c3ccccc3-c3ccccc32)c(Cl)cc1C(=O)O',\n",
       " 'CCS(=O)(=O)c1cc(C(=O)O)c(OC)cc1NC(=O)OCC1c2ccccc2-c2ccccc21',\n",
       " 'CCc1cccc(NC(=O)OCC2c3ccccc3-c3ccccc32)c1C(=O)O',\n",
       " 'CN(C(=O)OCC1c2ccccc2-c2ccccc21)[C@@H](CC1CCCCC1)C(=O)O',\n",
       " 'COC(=O)CC(NC(=O)OCC1c2ccccc2-c2ccccc21)C(=O)O',\n",
       " 'COC(=O)c1ccc(C(=O)O)c(NC(=O)OCC2c3ccccc3-c3ccccc32)c1',\n",
       " 'COc1c(F)ccc(C(=O)O)c1NC(=O)OCC1c2ccccc2-c2ccccc21',\n",
       " 'COc1cc(C(=O)O)c(N)cc1NC(=O)OCC1c2ccccc2-c2ccccc21',\n",
       " 'COc1cc(C(=O)O)c(NC(=O)OCC2c3ccccc3-c3ccccc32)cn1',\n",
       " 'COc1cc(NC(=O)OCC2c3ccccc3-c3ccccc32)c(C(=O)O)c(OC)c1',\n",
       " 'COc1cc(NC(=O)OCC2c3ccccc3-c3ccccc32)c(C(=O)O)cc1OC',\n",
       " 'COc1ccc(C(=O)O)c(NC(=O)OCC2c3ccccc3-c3ccccc32)c1',\n",
       " 'COc1ccc(C[C@H](NC(=O)OCC2c3ccccc3-c3ccccc32)C(=O)O)cc1OC',\n",
       " 'COc1ccc(NC(=O)OCC2c3ccccc3-c3ccccc32)c(C(=O)O)c1',\n",
       " 'COc1ccc([C@H](NC(=O)OCC2c3ccccc3-c3ccccc32)C(=O)O)cc1',\n",
       " 'COc1cccc(C(=O)O)c1NC(=O)OCC1c2ccccc2-c2ccccc21',\n",
       " 'COc1cccc(NC(=O)OCC2c3ccccc3-c3ccccc32)c1C(=O)O',\n",
       " 'COc1nccc(C(=O)O)c1NC(=O)OCC1c2ccccc2-c2ccccc21',\n",
       " 'CS(=O)(=O)c1ccc(C(=O)O)c(NC(=O)OCC2c3ccccc3-c3ccccc32)c1',\n",
       " 'CSc1ncc(NC(=O)OCC2c3ccccc3-c3ccccc32)c(C(=O)O)n1',\n",
       " 'C[C@@H](OCc1ccccc1)[C@H](NC(=O)OCC1c2ccccc2-c2ccccc21)C(=O)O',\n",
       " 'C[C@@]1(C(=O)O)CCCN1C(=O)OCC1c2ccccc2-c2ccccc21',\n",
       " 'Cc1c(Br)ccc(C(=O)O)c1NC(=O)OCC1c2ccccc2-c2ccccc21',\n",
       " 'Cc1cc(Br)c(C(=O)O)cc1NC(=O)OCC1c2ccccc2-c2ccccc21',\n",
       " 'Cc1cc(Br)c(NC(=O)OCC2c3ccccc3-c3ccccc32)c(C(=O)O)c1',\n",
       " 'Cc1cc(Br)cc(C(=O)O)c1NC(=O)OCC1c2ccccc2-c2ccccc21',\n",
       " 'Cc1cc(C(=O)O)ccc1NC(=O)OCC1c2ccccc2-c2ccccc21',\n",
       " 'Cc1cc(C)c(NC(=O)OCC2c3ccccc3-c3ccccc32)c(C(=O)O)c1',\n",
       " 'Cc1cc(Cl)cc(C(=O)O)c1NC(=O)OCC1c2ccccc2-c2ccccc21',\n",
       " 'Cc1ccc(C(=O)O)c(NC(=O)OCC2c3ccccc3-c3ccccc32)c1C',\n",
       " 'Cc1ccc(C(=O)O)cc1NC(=O)OCC1c2ccccc2-c2ccccc21',\n",
       " 'Cc1ccc(C(CC(=O)O)NC(=O)OCC2c3ccccc3-c3ccccc32)cc1',\n",
       " 'Cc1ccc(C[C@H](NC(=O)OCC2c3ccccc3-c3ccccc32)C(=O)O)cc1',\n",
       " 'Cc1ccc(NC(=O)OCC2c3ccccc3-c3ccccc32)c(C(=O)O)c1',\n",
       " 'Cc1cccc(C(=O)O)c1NC(=O)OCC1c2ccccc2-c2ccccc21',\n",
       " 'Cc1cccc(NC(=O)OCC2c3ccccc3-c3ccccc32)c1C(=O)O',\n",
       " 'Cc1ccccc1[C@@H](CC(=O)O)NC(=O)OCC1c2ccccc2-c2ccccc21',\n",
       " 'Cn1cc(C[C@@H](NC(=O)OCC2c3ccccc3-c3ccccc32)C(=O)O)c2ccccc21',\n",
       " 'N#Cc1ccc(C[C@@H](CC(=O)O)NC(=O)OCC2c3ccccc3-c3ccccc32)cc1',\n",
       " 'N#Cc1ccc(C[C@@H](NC(=O)OCC2c3ccccc3-c3ccccc32)C(=O)O)cc1',\n",
       " 'N#Cc1ccc(C[C@H](CC(=O)O)NC(=O)OCC2c3ccccc3-c3ccccc32)cc1',\n",
       " 'N#Cc1ccc(C[C@H](NC(=O)OCC2c3ccccc3-c3ccccc32)C(=O)O)cc1',\n",
       " 'N#Cc1ccc(NC(=O)OCC2c3ccccc3-c3ccccc32)c(C(=O)O)c1',\n",
       " 'N#Cc1ccc([C@H](CC(=O)O)NC(=O)OCC2c3ccccc3-c3ccccc32)cc1',\n",
       " 'N#Cc1cccc(C[C@H](CC(=O)O)NC(=O)OCC2c3ccccc3-c3ccccc32)c1',\n",
       " 'O=C(CC[C@H](NC(=O)OCC1c2ccccc2-c2ccccc21)C(=O)O)OC1CCCCC1',\n",
       " 'O=C(NC(CC1CCCCC1)C(=O)O)OCC1c2ccccc2-c2ccccc21',\n",
       " 'O=C(NC(CCc1ccccc1)C(=O)O)OCC1c2ccccc2-c2ccccc21',\n",
       " 'O=C(NC(Cc1ccccc1)C(=O)O)OCC1c2ccccc2-c2ccccc21',\n",
       " 'O=C(NC1(C(=O)O)CC1)OCC1c2ccccc2-c2ccccc21',\n",
       " 'O=C(NC1(C(=O)O)CCC1)OCC1c2ccccc2-c2ccccc21',\n",
       " 'O=C(NC1(C(=O)O)CCCC1)OCC1c2ccccc2-c2ccccc21',\n",
       " 'O=C(NC1(C(=O)O)CCCCC1)OCC1c2ccccc2-c2ccccc21',\n",
       " 'O=C(NC1(C(=O)O)CCOCC1)OCC1c2ccccc2-c2ccccc21',\n",
       " 'O=C(NC1(C(=O)O)CCc2ccccc21)OCC1c2ccccc2-c2ccccc21',\n",
       " 'O=C(NCC1CCC(C(=O)O)CC1)OCC1c2ccccc2-c2ccccc21',\n",
       " 'O=C(NC[C@H]1CC[C@H](C(=O)O)CC1)OCC1c2ccccc2-c2ccccc21',\n",
       " 'O=C(NCc1cccc(C(=O)O)c1)OCC1c2ccccc2-c2ccccc21',\n",
       " 'O=C(N[C@@H](C(=O)O)C1CCCC1)OCC1c2ccccc2-c2ccccc21',\n",
       " 'O=C(N[C@@H](C(=O)O)C1CCCCC1)OCC1c2ccccc2-c2ccccc21',\n",
       " 'O=C(N[C@@H](C/C=C/c1ccccc1)C(=O)O)OCC1c2ccccc2-c2ccccc21',\n",
       " 'O=C(N[C@@H](CC1CC1)C(=O)O)OCC1c2ccccc2-c2ccccc21',\n",
       " 'O=C(N[C@@H](CCC1CCCCC1)C(=O)O)OCC1c2ccccc2-c2ccccc21',\n",
       " 'O=C(N[C@@H](Cc1c(F)c(F)c(F)c(F)c1F)C(=O)O)OCC1c2ccccc2-c2ccccc21',\n",
       " 'O=C(N[C@@H](Cc1cc(F)c(F)c(F)c1)C(=O)O)OCC1c2ccccc2-c2ccccc21',\n",
       " 'O=C(N[C@@H](Cc1ccc(Br)cc1)C(=O)O)OCC1c2ccccc2-c2ccccc21',\n",
       " 'O=C(N[C@@H](Cc1ccc(C(F)(F)F)cc1)C(=O)O)OCC1c2ccccc2-c2ccccc21',\n",
       " 'O=C(N[C@@H](Cc1ccc(Cl)c(Cl)c1)C(=O)O)OCC1c2ccccc2-c2ccccc21',\n",
       " 'O=C(N[C@@H](Cc1ccc(Cl)cc1Cl)C(=O)O)OCC1c2ccccc2-c2ccccc21',\n",
       " 'O=C(N[C@@H](Cc1ccc(F)c(F)c1)C(=O)O)OCC1c2ccccc2-c2ccccc21',\n",
       " 'O=C(N[C@@H](Cc1ccc(F)cc1)C(=O)O)OCC1c2ccccc2-c2ccccc21',\n",
       " 'O=C(N[C@@H](Cc1ccc(F)cc1F)C(=O)O)OCC1c2ccccc2-c2ccccc21',\n",
       " 'O=C(N[C@@H](Cc1ccc(I)cc1)C(=O)O)OCC1c2ccccc2-c2ccccc21',\n",
       " 'O=C(N[C@@H](Cc1ccc([N+](=O)[O-])cc1)C(=O)O)OCC1c2ccccc2-c2ccccc21',\n",
       " 'O=C(N[C@@H](Cc1ccccc1F)C(=O)O)OCC1c2ccccc2-c2ccccc21',\n",
       " 'O=C(N[C@@H](Cc1cccnc1)C(=O)O)OCC1c2ccccc2-c2ccccc21',\n",
       " 'O=C(N[C@@H](Cc1ccco1)C(=O)O)OCC1c2ccccc2-c2ccccc21',\n",
       " 'O=C(N[C@@H](Cc1cccs1)C(=O)O)OCC1c2ccccc2-c2ccccc21',\n",
       " 'O=C(N[C@@H](Cc1ccsc1)C(=O)O)OCC1c2ccccc2-c2ccccc21',\n",
       " 'O=C(N[C@@H](Cc1csc2ccccc12)C(=O)O)OCC1c2ccccc2-c2ccccc21',\n",
       " 'O=C(N[C@@H](Cc1cscn1)C(=O)O)OCC1c2ccccc2-c2ccccc21',\n",
       " 'O=C(N[C@@H]1CC[C@H](C(=O)O)C1)OCC1c2ccccc2-c2ccccc21',\n",
       " 'O=C(N[C@H](C(=O)O)C1CC1)OCC1c2ccccc2-c2ccccc21',\n",
       " 'O=C(N[C@H](C(=O)O)C1CCCC1)OCC1c2ccccc2-c2ccccc21',\n",
       " 'O=C(N[C@H](C(=O)O)C1CCCCC1)OCC1c2ccccc2-c2ccccc21',\n",
       " 'O=C(N[C@H](C(=O)O)c1ccsc1)OCC1c2ccccc2-c2ccccc21',\n",
       " 'O=C(N[C@H](CC1CCCC1)C(=O)O)OCC1c2ccccc2-c2ccccc21',\n",
       " 'O=C(N[C@H](CCC1CCCCC1)C(=O)O)OCC1c2ccccc2-c2ccccc21',\n",
       " 'O=C(N[C@H](Cc1cc(F)cc(F)c1)C(=O)O)OCC1c2ccccc2-c2ccccc21',\n",
       " 'O=C(N[C@H](Cc1ccc(-c2ccccc2)cc1)C(=O)O)OCC1c2ccccc2-c2ccccc21',\n",
       " 'O=C(N[C@H](Cc1ccc(C(F)(F)F)cc1)C(=O)O)OCC1c2ccccc2-c2ccccc21',\n",
       " 'O=C(N[C@H](Cc1ccc(Cl)c(Cl)c1)C(=O)O)OCC1c2ccccc2-c2ccccc21',\n",
       " 'O=C(N[C@H](Cc1ccc(Cl)cc1)C(=O)O)OCC1c2ccccc2-c2ccccc21',\n",
       " 'O=C(N[C@H](Cc1ccc(F)c(F)c1)C(=O)O)OCC1c2ccccc2-c2ccccc21',\n",
       " 'O=C(N[C@H](Cc1ccc(I)cc1)C(=O)O)OCC1c2ccccc2-c2ccccc21',\n",
       " 'O=C(N[C@H](Cc1ccc([N+](=O)[O-])cc1)C(=O)O)OCC1c2ccccc2-c2ccccc21',\n",
       " 'O=C(N[C@H](Cc1ccccc1Cl)C(=O)O)OCC1c2ccccc2-c2ccccc21',\n",
       " 'O=C(N[C@H](Cc1csc2ccccc12)C(=O)O)OCC1c2ccccc2-c2ccccc21',\n",
       " 'O=C(N[C@H]1C=C[C@@H](C(=O)O)C1)OCC1c2ccccc2-c2ccccc21',\n",
       " 'O=C(N[C@H]1CCC[C@@H]1C(=O)O)OCC1c2ccccc2-c2ccccc21',\n",
       " 'O=C(N[C@H]1CC[C@@H](C(=O)O)C1)OCC1c2ccccc2-c2ccccc21',\n",
       " 'O=C(N[C@H]1CC[C@H](C(=O)O)CC1)OCC1c2ccccc2-c2ccccc21',\n",
       " 'O=C(Nc1c(Br)cc(C(=O)O)cc1Br)OCC1c2ccccc2-c2ccccc21',\n",
       " 'O=C(Nc1c(Br)cc(F)cc1C(=O)O)OCC1c2ccccc2-c2ccccc21',\n",
       " 'O=C(Nc1c(Br)cccc1C(=O)O)OCC1c2ccccc2-c2ccccc21',\n",
       " 'O=C(Nc1c(C(=O)O)cc(Cl)c(Br)c1F)OCC1c2ccccc2-c2ccccc21',\n",
       " 'O=C(Nc1c(C(=O)O)ccc(Br)c1F)OCC1c2ccccc2-c2ccccc21',\n",
       " 'O=C(Nc1c(C(=O)O)ccc2ccccc12)OCC1c2ccccc2-c2ccccc21',\n",
       " 'O=C(Nc1c(C(=O)O)cccc1C(=O)O)OCC1c2ccccc2-c2ccccc21',\n",
       " 'O=C(Nc1c(C(=O)O)cnn1-c1ccc(F)cc1)OCC1c2ccccc2-c2ccccc21',\n",
       " 'O=C(Nc1c(C(=O)O)cnn1CCO)OCC1c2ccccc2-c2ccccc21',\n",
       " 'O=C(Nc1c(C(=O)O)sc2ncccc12)OCC1c2ccccc2-c2ccccc21',\n",
       " 'O=C(Nc1c(Cl)c(Cl)nc(C(=O)O)c1Cl)OCC1c2ccccc2-c2ccccc21',\n",
       " 'O=C(Nc1c(Cl)cc(Cl)nc1C(=O)O)OCC1c2ccccc2-c2ccccc21',\n",
       " 'O=C(Nc1c(Cl)cc(F)cc1C(=O)O)OCC1c2ccccc2-c2ccccc21',\n",
       " 'O=C(Nc1c(Cl)cccc1C(=O)O)OCC1c2ccccc2-c2ccccc21',\n",
       " 'O=C(Nc1c(F)cc(Br)cc1C(=O)O)OCC1c2ccccc2-c2ccccc21',\n",
       " 'O=C(Nc1c(F)cc(C(=O)O)cc1F)OCC1c2ccccc2-c2ccccc21',\n",
       " 'O=C(Nc1c(F)ccc(Br)c1C(=O)O)OCC1c2ccccc2-c2ccccc21',\n",
       " 'O=C(Nc1c(F)cccc1C(=O)O)OCC1c2ccccc2-c2ccccc21',\n",
       " 'O=C(Nc1c(I)c(C(=O)O)c(I)c(C(=O)O)c1I)OCC1c2ccccc2-c2ccccc21',\n",
       " 'O=C(Nc1c(I)cccc1C(=O)O)OCC1c2ccccc2-c2ccccc21',\n",
       " 'O=C(Nc1c(OC(F)(F)F)cccc1C(=O)O)OCC1c2ccccc2-c2ccccc21',\n",
       " 'O=C(Nc1cc(-n2cccn2)ccc1C(=O)O)OCC1c2ccccc2-c2ccccc21',\n",
       " 'O=C(Nc1cc(Br)c(Cl)cc1C(=O)O)OCC1c2ccccc2-c2ccccc21',\n",
       " 'O=C(Nc1cc(Br)c(F)cc1C(=O)O)OCC1c2ccccc2-c2ccccc21',\n",
       " 'O=C(Nc1cc(Br)cc(C(=O)O)c1)OCC1c2ccccc2-c2ccccc21',\n",
       " 'O=C(Nc1cc(Br)ccc1C(=O)O)OCC1c2ccccc2-c2ccccc21',\n",
       " 'O=C(Nc1cc(Br)cnc1C(=O)O)OCC1c2ccccc2-c2ccccc21',\n",
       " 'O=C(Nc1cc(C(=O)O)cc(C(=O)O)c1)OCC1c2ccccc2-c2ccccc21',\n",
       " 'O=C(Nc1cc(C(=O)O)ccc1Br)OCC1c2ccccc2-c2ccccc21',\n",
       " 'O=C(Nc1cc(C(=O)O)ccc1C(=O)O)OCC1c2ccccc2-c2ccccc21',\n",
       " 'O=C(Nc1cc(C(=O)O)ccc1C(F)(F)F)OCC1c2ccccc2-c2ccccc21',\n",
       " 'O=C(Nc1cc(C(=O)O)ccc1Cl)OCC1c2ccccc2-c2ccccc21',\n",
       " 'O=C(Nc1cc(Cl)cc(C(=O)O)c1)OCC1c2ccccc2-c2ccccc21',\n",
       " 'O=C(Nc1cc(Cl)ccc1C(=O)O)OCC1c2ccccc2-c2ccccc21',\n",
       " 'O=C(Nc1cc(Cl)nc(C(=O)O)c1Cl)OCC1c2ccccc2-c2ccccc21',\n",
       " 'O=C(Nc1cc(Cl)ncc1C(=O)O)OCC1c2ccccc2-c2ccccc21',\n",
       " 'O=C(Nc1cc(F)c(Br)cc1C(=O)O)OCC1c2ccccc2-c2ccccc21',\n",
       " 'O=C(Nc1cc(F)c(F)cc1C(=O)O)OCC1c2ccccc2-c2ccccc21',\n",
       " 'O=C(Nc1cc(F)cc(F)c1C(=O)O)OCC1c2ccccc2-c2ccccc21',\n",
       " 'O=C(Nc1cc(F)ccc1C(=O)O)OCC1c2ccccc2-c2ccccc21',\n",
       " 'O=C(Nc1cc(I)ccc1C(=O)O)OCC1c2ccccc2-c2ccccc21',\n",
       " 'O=C(Nc1cc([N+](=O)[O-])ccc1C(=O)O)OCC1c2ccccc2-c2ccccc21',\n",
       " 'O=C(Nc1cc2ccccc2cc1C(=O)O)OCC1c2ccccc2-c2ccccc21',\n",
       " 'O=C(Nc1ccc(Br)c(C(=O)O)c1)OCC1c2ccccc2-c2ccccc21',\n",
       " 'O=C(Nc1ccc(Br)cc1C(=O)O)OCC1c2ccccc2-c2ccccc21',\n",
       " 'O=C(Nc1ccc(C(=O)O)c(C(=O)O)c1)OCC1c2ccccc2-c2ccccc21',\n",
       " 'O=C(Nc1ccc(C(=O)O)c(C(F)(F)F)c1)OCC1c2ccccc2-c2ccccc21',\n",
       " 'O=C(Nc1ccc(C(=O)O)c(Cl)c1)OCC1c2ccccc2-c2ccccc21',\n",
       " 'O=C(Nc1ccc(C(=O)O)c(F)c1)OCC1c2ccccc2-c2ccccc21',\n",
       " 'O=C(Nc1ccc(C(=O)O)c([N+](=O)[O-])c1)OCC1c2ccccc2-c2ccccc21',\n",
       " 'O=C(Nc1ccc(C(=O)O)cc1)OCC1c2ccccc2-c2ccccc21',\n",
       " 'O=C(Nc1ccc(C(=O)O)cc1C(F)(F)F)OCC1c2ccccc2-c2ccccc21',\n",
       " 'O=C(Nc1ccc(C(=O)O)cc1Cl)OCC1c2ccccc2-c2ccccc21',\n",
       " 'O=C(Nc1ccc(C(=O)O)cc1F)OCC1c2ccccc2-c2ccccc21',\n",
       " 'O=C(Nc1ccc(C(=O)O)cc1O)OCC1c2ccccc2-c2ccccc21',\n",
       " 'O=C(Nc1ccc(C(=O)O)cc1OC(F)(F)F)OCC1c2ccccc2-c2ccccc21',\n",
       " 'O=C(Nc1ccc(C(=O)O)cn1)OCC1c2ccccc2-c2ccccc21',\n",
       " 'O=C(Nc1ccc(C(=O)O)nc1)OCC1c2ccccc2-c2ccccc21',\n",
       " 'O=C(Nc1ccc(C(F)(F)F)cc1C(=O)O)OCC1c2ccccc2-c2ccccc21',\n",
       " 'O=C(Nc1ccc(Cl)c(C(=O)O)c1)OCC1c2ccccc2-c2ccccc21',\n",
       " 'O=C(Nc1ccc(Cl)cc1C(=O)O)OCC1c2ccccc2-c2ccccc21',\n",
       " 'O=C(Nc1ccc(Cl)nc1C(=O)O)OCC1c2ccccc2-c2ccccc21',\n",
       " 'O=C(Nc1ccc(F)c(C(=O)O)c1F)OCC1c2ccccc2-c2ccccc21',\n",
       " 'O=C(Nc1ccc(F)cc1C(=O)O)OCC1c2ccccc2-c2ccccc21',\n",
       " 'O=C(Nc1ccc(I)cc1C(=O)O)OCC1c2ccccc2-c2ccccc21',\n",
       " 'O=C(Nc1ccc([N+](=O)[O-])c(C(=O)O)c1)OCC1c2ccccc2-c2ccccc21',\n",
       " 'O=C(Nc1ccc([N+](=O)[O-])cc1C(=O)O)OCC1c2ccccc2-c2ccccc21',\n",
       " 'O=C(Nc1ccc2cc(C(=O)O)ccc2c1)OCC1c2ccccc2-c2ccccc21',\n",
       " 'O=C(Nc1cccc(-c2cccc(C(=O)O)c2)c1O)OCC1c2ccccc2-c2ccccc21',\n",
       " 'O=C(Nc1cccc(Br)c1C(=O)O)OCC1c2ccccc2-c2ccccc21',\n",
       " 'O=C(Nc1cccc(C(=O)O)c1)OCC1c2ccccc2-c2ccccc21',\n",
       " 'O=C(Nc1cccc(C(=O)O)c1C(=O)O)OCC1c2ccccc2-c2ccccc21',\n",
       " 'O=C(Nc1cccc(Cl)c1C(=O)O)OCC1c2ccccc2-c2ccccc21',\n",
       " 'O=C(Nc1cccc(F)c1C(=O)O)OCC1c2ccccc2-c2ccccc21',\n",
       " 'O=C(Nc1cccc(I)c1C(=O)O)OCC1c2ccccc2-c2ccccc21',\n",
       " 'O=C(Nc1cccc([N+](=O)[O-])c1C(=O)O)OCC1c2ccccc2-c2ccccc21',\n",
       " 'O=C(Nc1ccccc1C(=O)c1ccccc1C(=O)O)OCC1c2ccccc2-c2ccccc21',\n",
       " 'O=C(Nc1cccnc1C(=O)O)OCC1c2ccccc2-c2ccccc21',\n",
       " 'O=C(Nc1ccnc(C(=O)O)c1)OCC1c2ccccc2-c2ccccc21',\n",
       " 'O=C(Nc1cnc(Cl)cc1C(=O)O)OCC1c2ccccc2-c2ccccc21',\n",
       " 'O=C(Nc1cncc(C(=O)O)n1)OCC1c2ccccc2-c2ccccc21',\n",
       " 'O=C(Nc1cnccc1C(=O)O)OCC1c2ccccc2-c2ccccc21',\n",
       " 'O=C(Nc1nc(-c2ccc(C(=O)O)cc2)cs1)OCC1c2ccccc2-c2ccccc21',\n",
       " 'O=C(Nc1nc(C(F)(F)F)c(C(=O)O)s1)OCC1c2ccccc2-c2ccccc21',\n",
       " 'O=C(Nc1nc(Cl)ccc1C(=O)O)OCC1c2ccccc2-c2ccccc21',\n",
       " 'O=C(Nc1nc2cc(C(=O)O)ccc2[nH]1)OCC1c2ccccc2-c2ccccc21',\n",
       " 'O=C(Nc1nc2ccc(C(=O)O)cc2s1)OCC1c2ccccc2-c2ccccc21',\n",
       " 'O=C(Nc1nc2ncc(CNc3ccc(C(=O)O)cc3)nc2c(=O)[nH]1)OCC1c2ccccc2-c2ccccc21',\n",
       " 'O=C(Nc1ncc(Br)cc1C(=O)O)OCC1c2ccccc2-c2ccccc21',\n",
       " 'O=C(Nc1ncc(Br)nc1C(=O)O)OCC1c2ccccc2-c2ccccc21',\n",
       " 'O=C(Nc1ncc(C(=O)O)s1)OCC1c2ccccc2-c2ccccc21',\n",
       " 'O=C(O)C1CCCN1C(=O)OCC1c2ccccc2-c2ccccc21',\n",
       " 'O=C(O)C1CCN(C(=O)OCC2c3ccccc3-c3ccccc32)C1',\n",
       " 'O=C(O)C1CN(C(=O)OCC2c3ccccc3-c3ccccc32)C1',\n",
       " 'O=C(O)C1c2ccccc2CN1C(=O)OCC1c2ccccc2-c2ccccc21',\n",
       " 'O=C(O)CC(NC(=O)OCC1c2ccccc2-c2ccccc21)c1ccc(Br)cc1',\n",
       " 'O=C(O)CC1(CNC(=O)OCC2c3ccccc3-c3ccccc32)CCCCC1',\n",
       " 'O=C(O)CC1(NC(=O)OCC2c3ccccc3-c3ccccc32)CCCCC1',\n",
       " 'O=C(O)CNC(=O)OCC1c2ccccc2-c2ccccc21',\n",
       " 'O=C(O)COC[C@H]1CCCN1C(=O)OCC1c2ccccc2-c2ccccc21',\n",
       " 'O=C(O)COc1cccc(-c2csc(NC(=O)OCC3c4ccccc4-c4ccccc43)n2)c1',\n",
       " 'O=C(O)C[C@@H](Cc1ccc(Br)cc1)NC(=O)OCC1c2ccccc2-c2ccccc21',\n",
       " 'O=C(O)C[C@@H](Cc1ccc(C(F)(F)F)cc1)NC(=O)OCC1c2ccccc2-c2ccccc21',\n",
       " 'O=C(O)C[C@@H](Cc1ccc(Cl)c(Cl)c1)NC(=O)OCC1c2ccccc2-c2ccccc21',\n",
       " 'O=C(O)C[C@@H](Cc1ccc(Cl)cc1)NC(=O)OCC1c2ccccc2-c2ccccc21',\n",
       " 'O=C(O)C[C@@H](Cc1ccc(Cl)cc1Cl)NC(=O)OCC1c2ccccc2-c2ccccc21',\n",
       " 'O=C(O)C[C@@H](Cc1ccc(F)cc1)NC(=O)OCC1c2ccccc2-c2ccccc21',\n",
       " 'O=C(O)C[C@@H](Cc1ccc(I)cc1)NC(=O)OCC1c2ccccc2-c2ccccc21',\n",
       " 'O=C(O)C[C@@H](Cc1ccc([N+](=O)[O-])cc1)NC(=O)OCC1c2ccccc2-c2ccccc21',\n",
       " 'O=C(O)C[C@@H](Cc1cccc(F)c1)NC(=O)OCC1c2ccccc2-c2ccccc21',\n",
       " 'O=C(O)C[C@@H](Cc1ccccc1Cl)NC(=O)OCC1c2ccccc2-c2ccccc21',\n",
       " 'O=C(O)C[C@@H](Cc1cccs1)NC(=O)OCC1c2ccccc2-c2ccccc21',\n",
       " 'O=C(O)C[C@@H](NC(=O)OCC1c2ccccc2-c2ccccc21)c1ccc(Br)cc1',\n",
       " 'O=C(O)C[C@@H](NC(=O)OCC1c2ccccc2-c2ccccc21)c1ccc(C(F)(F)F)cc1',\n",
       " 'O=C(O)C[C@@H](NC(=O)OCC1c2ccccc2-c2ccccc21)c1ccc(Cl)cc1',\n",
       " 'O=C(O)C[C@@H](NC(=O)OCC1c2ccccc2-c2ccccc21)c1cccc(Cl)c1',\n",
       " 'O=C(O)C[C@@H](NC(=O)OCC1c2ccccc2-c2ccccc21)c1cccc([N+](=O)[O-])c1',\n",
       " 'O=C(O)C[C@@H](NC(=O)OCC1c2ccccc2-c2ccccc21)c1cccs1',\n",
       " 'O=C(O)C[C@@H]1CCCN1C(=O)OCC1c2ccccc2-c2ccccc21',\n",
       " 'O=C(O)C[C@H](C/C=C/c1ccccc1)NC(=O)OCC1c2ccccc2-c2ccccc21',\n",
       " 'O=C(O)C[C@H](Cc1c(F)c(F)c(F)c(F)c1F)NC(=O)OCC1c2ccccc2-c2ccccc21',\n",
       " 'O=C(O)C[C@H](Cc1ccc(Br)cc1)NC(=O)OCC1c2ccccc2-c2ccccc21',\n",
       " 'O=C(O)C[C@H](Cc1ccc(C(F)(F)F)cc1)NC(=O)OCC1c2ccccc2-c2ccccc21',\n",
       " 'O=C(O)C[C@H](Cc1ccc(Cl)c(Cl)c1)NC(=O)OCC1c2ccccc2-c2ccccc21',\n",
       " 'O=C(O)C[C@H](Cc1ccc(Cl)cc1)NC(=O)OCC1c2ccccc2-c2ccccc21',\n",
       " 'O=C(O)C[C@H](Cc1ccc(F)cc1)NC(=O)OCC1c2ccccc2-c2ccccc21',\n",
       " 'O=C(O)C[C@H](Cc1ccc(I)cc1)NC(=O)OCC1c2ccccc2-c2ccccc21',\n",
       " 'O=C(O)C[C@H](Cc1ccc([N+](=O)[O-])cc1)NC(=O)OCC1c2ccccc2-c2ccccc21',\n",
       " 'O=C(O)C[C@H](Cc1cccs1)NC(=O)OCC1c2ccccc2-c2ccccc21',\n",
       " 'O=C(O)C[C@H](NC(=O)OCC1c2ccccc2-c2ccccc21)c1ccc(F)cc1',\n",
       " 'O=C(O)C[C@H](NC(=O)OCC1c2ccccc2-c2ccccc21)c1cccc(Cl)c1Cl',\n",
       " 'O=C(O)C[C@H]1CCCN1C(=O)OCC1c2ccccc2-c2ccccc21',\n",
       " 'O=C(O)C[C@H]1Cc2ccccc2CN1C(=O)OCC1c2ccccc2-c2ccccc21',\n",
       " 'O=C(O)Cc1ccc(NC(=O)OCC2c3ccccc3-c3ccccc32)cc1',\n",
       " 'O=C(O)[C@@H]1CCCCN1C(=O)OCC1c2ccccc2-c2ccccc21',\n",
       " 'O=C(O)[C@@H]1CCCN1C(=O)OCC1c2ccccc2-c2ccccc21',\n",
       " 'O=C(O)[C@@H]1CCCN1C(=O)[C@@H]1CCCN1C(=O)OCC1c2ccccc2-c2ccccc21',\n",
       " 'O=C(O)[C@@H]1CSCN1C(=O)OCC1c2ccccc2-c2ccccc21',\n",
       " 'O=C(O)[C@@H]1C[C@@H]2CCCC[C@@H]2N1C(=O)OCC1c2ccccc2-c2ccccc21',\n",
       " 'O=C(O)[C@@H]1Cc2ccc(O)cc2CN1C(=O)OCC1c2ccccc2-c2ccccc21',\n",
       " 'O=C(O)[C@@H]1Cc2ccccc2CN1C(=O)OCC1c2ccccc2-c2ccccc21',\n",
       " 'O=C(O)[C@@H]1Cc2ccccc2N1C(=O)OCC1c2ccccc2-c2ccccc21',\n",
       " 'O=C(O)[C@H]1CC2CCCCC2N1C(=O)OCC1c2ccccc2-c2ccccc21',\n",
       " 'O=C(O)[C@H]1CCCCN1C(=O)OCC1c2ccccc2-c2ccccc21',\n",
       " 'O=C(O)[C@H]1CCN1C(=O)OCC1c2ccccc2-c2ccccc21',\n",
       " 'O=C(O)[C@H]1COCCN1C(=O)OCC1c2ccccc2-c2ccccc21',\n",
       " 'O=C(O)[C@H]1C[C@H](O)CN1C(=O)OCC1c2ccccc2-c2ccccc21',\n",
       " 'O=C(O)[C@H]1Cc2ccccc2CN1C(=O)OCC1c2ccccc2-c2ccccc21',\n",
       " '[N-]=[N+]=NCCC[C@H](NC(=O)OCC1c2ccccc2-c2ccccc21)C(=O)O'}"
      ]
     },
     "execution_count": 47,
     "metadata": {},
     "output_type": "execute_result"
    }
   ],
   "source": [
    "train_BB1"
   ]
  },
  {
   "cell_type": "markdown",
   "metadata": {},
   "source": [
    "## What is in the test data?"
   ]
  },
  {
   "cell_type": "code",
   "execution_count": 31,
   "metadata": {},
   "outputs": [],
   "source": [
    "test_data =  pl.read_parquet(directory / \"test.parquet\")\n",
    "test_data = test_data.to_pandas(use_pyarrow_extension_array=True)"
   ]
  },
  {
   "cell_type": "code",
   "execution_count": 33,
   "metadata": {},
   "outputs": [],
   "source": [
    "test_BBS_dict_reverse_1 = pickle.load(open(directory / 'test_dicts/BBs_dict_reverse_1_test.p', 'br'))\n",
    "test_BBS_dict_reverse_2 = pickle.load(open(directory / 'test_dicts/BBs_dict_reverse_2_test.p', 'br'))\n",
    "test_BBS_dict_reverse_3 = pickle.load(open(directory / 'test_dicts/BBs_dict_reverse_3_test.p', 'br'))"
   ]
  },
  {
   "cell_type": "code",
   "execution_count": 34,
   "metadata": {},
   "outputs": [
    {
     "data": {
      "text/html": [
       "<div>\n",
       "<style scoped>\n",
       "    .dataframe tbody tr th:only-of-type {\n",
       "        vertical-align: middle;\n",
       "    }\n",
       "\n",
       "    .dataframe tbody tr th {\n",
       "        vertical-align: top;\n",
       "    }\n",
       "\n",
       "    .dataframe thead th {\n",
       "        text-align: right;\n",
       "    }\n",
       "</style>\n",
       "<table border=\"1\" class=\"dataframe\">\n",
       "  <thead>\n",
       "    <tr style=\"text-align: right;\">\n",
       "      <th></th>\n",
       "      <th>buildingblock1_smiles</th>\n",
       "      <th>buildingblock2_smiles</th>\n",
       "      <th>buildingblock3_smiles</th>\n",
       "      <th>molecule_smiles</th>\n",
       "      <th>is_BRD4</th>\n",
       "      <th>is_HSA</th>\n",
       "      <th>is_sEH</th>\n",
       "    </tr>\n",
       "  </thead>\n",
       "  <tbody>\n",
       "    <tr>\n",
       "      <th>0</th>\n",
       "      <td>0</td>\n",
       "      <td>17</td>\n",
       "      <td>17</td>\n",
       "      <td>C#CCCC[C@H](Nc1nc(Nc2ccc(C=C)cc2)nc(Nc2ccc(C=C...</td>\n",
       "      <td>True</td>\n",
       "      <td>True</td>\n",
       "      <td>True</td>\n",
       "    </tr>\n",
       "    <tr>\n",
       "      <th>1</th>\n",
       "      <td>0</td>\n",
       "      <td>17</td>\n",
       "      <td>87</td>\n",
       "      <td>C#CCCC[C@H](Nc1nc(Nc2ccc(C=C)cc2)nc(Nc2ncnc3c2...</td>\n",
       "      <td>True</td>\n",
       "      <td>True</td>\n",
       "      <td>True</td>\n",
       "    </tr>\n",
       "    <tr>\n",
       "      <th>2</th>\n",
       "      <td>0</td>\n",
       "      <td>17</td>\n",
       "      <td>99</td>\n",
       "      <td>C#CCCC[C@H](Nc1nc(NCC2(O)CCCC2(C)C)nc(Nc2ccc(C...</td>\n",
       "      <td>True</td>\n",
       "      <td>True</td>\n",
       "      <td>True</td>\n",
       "    </tr>\n",
       "    <tr>\n",
       "      <th>3</th>\n",
       "      <td>0</td>\n",
       "      <td>17</td>\n",
       "      <td>244</td>\n",
       "      <td>C#CCCC[C@H](Nc1nc(Nc2ccc(C=C)cc2)nc(Nc2sc(Cl)c...</td>\n",
       "      <td>True</td>\n",
       "      <td>True</td>\n",
       "      <td>True</td>\n",
       "    </tr>\n",
       "    <tr>\n",
       "      <th>4</th>\n",
       "      <td>0</td>\n",
       "      <td>17</td>\n",
       "      <td>394</td>\n",
       "      <td>C#CCCC[C@H](Nc1nc(NCC2CCC(SC)CC2)nc(Nc2ccc(C=C...</td>\n",
       "      <td>True</td>\n",
       "      <td>True</td>\n",
       "      <td>True</td>\n",
       "    </tr>\n",
       "    <tr>\n",
       "      <th>5</th>\n",
       "      <td>0</td>\n",
       "      <td>17</td>\n",
       "      <td>499</td>\n",
       "      <td>C#CCCC[C@H](Nc1nc(NCc2ccc(C)cc2N2CCCC2)nc(Nc2c...</td>\n",
       "      <td>True</td>\n",
       "      <td>True</td>\n",
       "      <td>True</td>\n",
       "    </tr>\n",
       "    <tr>\n",
       "      <th>6</th>\n",
       "      <td>0</td>\n",
       "      <td>17</td>\n",
       "      <td>518</td>\n",
       "      <td>C#CCCC[C@H](Nc1nc(NCCc2ccc(OCC(=O)Nc3cccc(C)c3...</td>\n",
       "      <td>True</td>\n",
       "      <td>True</td>\n",
       "      <td>True</td>\n",
       "    </tr>\n",
       "    <tr>\n",
       "      <th>7</th>\n",
       "      <td>0</td>\n",
       "      <td>17</td>\n",
       "      <td>536</td>\n",
       "      <td>C#CCCC[C@H](Nc1nc(NCCCNC(=O)c2occc2C)nc(Nc2ccc...</td>\n",
       "      <td>True</td>\n",
       "      <td>True</td>\n",
       "      <td>True</td>\n",
       "    </tr>\n",
       "    <tr>\n",
       "      <th>8</th>\n",
       "      <td>0</td>\n",
       "      <td>17</td>\n",
       "      <td>651</td>\n",
       "      <td>C#CCCC[C@H](Nc1nc(NCc2nnc(N3CCCC3)o2)nc(Nc2ccc...</td>\n",
       "      <td>True</td>\n",
       "      <td>True</td>\n",
       "      <td>True</td>\n",
       "    </tr>\n",
       "    <tr>\n",
       "      <th>9</th>\n",
       "      <td>0</td>\n",
       "      <td>17</td>\n",
       "      <td>731</td>\n",
       "      <td>C#CCCC[C@H](Nc1nc(NCCc2csc3ccccc23)nc(Nc2ccc(C...</td>\n",
       "      <td>True</td>\n",
       "      <td>True</td>\n",
       "      <td>True</td>\n",
       "    </tr>\n",
       "  </tbody>\n",
       "</table>\n",
       "</div>"
      ],
      "text/plain": [
       "   buildingblock1_smiles  buildingblock2_smiles  buildingblock3_smiles  \\\n",
       "0                      0                     17                     17   \n",
       "1                      0                     17                     87   \n",
       "2                      0                     17                     99   \n",
       "3                      0                     17                    244   \n",
       "4                      0                     17                    394   \n",
       "5                      0                     17                    499   \n",
       "6                      0                     17                    518   \n",
       "7                      0                     17                    536   \n",
       "8                      0                     17                    651   \n",
       "9                      0                     17                    731   \n",
       "\n",
       "                                     molecule_smiles is_BRD4 is_HSA is_sEH  \n",
       "0  C#CCCC[C@H](Nc1nc(Nc2ccc(C=C)cc2)nc(Nc2ccc(C=C...    True   True   True  \n",
       "1  C#CCCC[C@H](Nc1nc(Nc2ccc(C=C)cc2)nc(Nc2ncnc3c2...    True   True   True  \n",
       "2  C#CCCC[C@H](Nc1nc(NCC2(O)CCCC2(C)C)nc(Nc2ccc(C...    True   True   True  \n",
       "3  C#CCCC[C@H](Nc1nc(Nc2ccc(C=C)cc2)nc(Nc2sc(Cl)c...    True   True   True  \n",
       "4  C#CCCC[C@H](Nc1nc(NCC2CCC(SC)CC2)nc(Nc2ccc(C=C...    True   True   True  \n",
       "5  C#CCCC[C@H](Nc1nc(NCc2ccc(C)cc2N2CCCC2)nc(Nc2c...    True   True   True  \n",
       "6  C#CCCC[C@H](Nc1nc(NCCc2ccc(OCC(=O)Nc3cccc(C)c3...    True   True   True  \n",
       "7  C#CCCC[C@H](Nc1nc(NCCCNC(=O)c2occc2C)nc(Nc2ccc...    True   True   True  \n",
       "8  C#CCCC[C@H](Nc1nc(NCc2nnc(N3CCCC3)o2)nc(Nc2ccc...    True   True   True  \n",
       "9  C#CCCC[C@H](Nc1nc(NCCc2csc3ccccc23)nc(Nc2ccc(C...    True   True   True  "
      ]
     },
     "execution_count": 34,
     "metadata": {},
     "output_type": "execute_result"
    }
   ],
   "source": [
    "test_data.head(10)"
   ]
  },
  {
   "cell_type": "markdown",
   "metadata": {},
   "source": [
    "#### Counts and unique values"
   ]
  },
  {
   "cell_type": "code",
   "execution_count": 35,
   "metadata": {},
   "outputs": [
    {
     "name": "stdout",
     "output_type": "stream",
     "text": [
      "Length of test data: 878022\n",
      "Number of unique building blocks 1: 341\n",
      "Number of unique building blocks 2: 1140\n",
      "Number of unique building blocks 3: 1389\n"
     ]
    }
   ],
   "source": [
    "print(f\"Length of test data: {len(test_data)}\")\n",
    "print(f\"Number of unique building blocks 1: {len(test_BBS_dict_reverse_1)}\")\n",
    "print(f\"Number of unique building blocks 2: {len(test_BBS_dict_reverse_2)}\")\n",
    "print(f\"Number of unique building blocks 3: {len(test_BBS_dict_reverse_3)}\")"
   ]
  },
  {
   "cell_type": "code",
   "execution_count": 36,
   "metadata": {},
   "outputs": [
    {
     "name": "stdout",
     "output_type": "stream",
     "text": [
      "Value counts of is_BRD4: is_BRD4\n",
      "True     558859\n",
      "False    319163\n",
      "Name: count, dtype: int64[pyarrow]\n"
     ]
    }
   ],
   "source": [
    "print(f\"Value counts of is_BRD4: {test_data['is_BRD4'].value_counts()}\")"
   ]
  },
  {
   "cell_type": "code",
   "execution_count": 37,
   "metadata": {},
   "outputs": [
    {
     "name": "stdout",
     "output_type": "stream",
     "text": [
      "Value counts of is_HSA: is_HSA\n",
      "True     557895\n",
      "False    320127\n",
      "Name: count, dtype: int64[pyarrow]\n"
     ]
    }
   ],
   "source": [
    "print(f\"Value counts of is_HSA: {test_data['is_HSA'].value_counts()}\")"
   ]
  },
  {
   "cell_type": "code",
   "execution_count": 38,
   "metadata": {},
   "outputs": [
    {
     "name": "stdout",
     "output_type": "stream",
     "text": [
      "Value counts of is_sEH: is_sEH\n",
      "True     558142\n",
      "False    319880\n",
      "Name: count, dtype: int64[pyarrow]\n"
     ]
    }
   ],
   "source": [
    "print(f\"Value counts of is_sEH: {test_data['is_sEH'].value_counts()}\")"
   ]
  },
  {
   "cell_type": "code",
   "execution_count": 39,
   "metadata": {},
   "outputs": [
    {
     "name": "stdout",
     "output_type": "stream",
     "text": [
      "Value counts of buildingblock1_smiles: buildingblock1_smiles\n",
      "136    13708\n",
      "106    13665\n",
      "316    13650\n",
      "16     13637\n",
      "339    13631\n",
      "       ...  \n",
      "212      663\n",
      "229      663\n",
      "265      663\n",
      "292      663\n",
      "309      663\n",
      "Name: count, Length: 341, dtype: int64[pyarrow]\n"
     ]
    }
   ],
   "source": [
    "print(f\"Value counts of buildingblock1_smiles: {test_data['buildingblock1_smiles'].value_counts()}\")"
   ]
  },
  {
   "cell_type": "code",
   "execution_count": 40,
   "metadata": {},
   "outputs": [
    {
     "name": "stdout",
     "output_type": "stream",
     "text": [
      "Value counts of buildingblock2_smiles: buildingblock2_smiles\n",
      "1025    4879\n",
      "991     3387\n",
      "264     3359\n",
      "1019    2677\n",
      "952     2434\n",
      "        ... \n",
      "321       68\n",
      "80        51\n",
      "515       51\n",
      "719       34\n",
      "277       17\n",
      "Name: count, Length: 1140, dtype: int64[pyarrow]\n"
     ]
    }
   ],
   "source": [
    "print(f\"Value counts of buildingblock2_smiles: {test_data['buildingblock2_smiles'].value_counts()}\")"
   ]
  },
  {
   "cell_type": "code",
   "execution_count": 41,
   "metadata": {},
   "outputs": [
    {
     "name": "stdout",
     "output_type": "stream",
     "text": [
      "Value counts of buildingblock3_smiles: buildingblock3_smiles\n",
      "621     3441\n",
      "576     2827\n",
      "882     2787\n",
      "1046    2238\n",
      "1135    2142\n",
      "        ... \n",
      "935        5\n",
      "693        3\n",
      "658        2\n",
      "1085       1\n",
      "913        1\n",
      "Name: count, Length: 1389, dtype: int64[pyarrow]\n"
     ]
    }
   ],
   "source": [
    "print(f\"Value counts of buildingblock3_smiles: {test_data['buildingblock3_smiles'].value_counts()}\")"
   ]
  },
  {
   "cell_type": "code",
   "execution_count": 52,
   "metadata": {},
   "outputs": [
    {
     "name": "stdout",
     "output_type": "stream",
     "text": [
      "Overlap between building blocks 1 and 2: 0\n",
      "Overlap between building blocks 1 and 3: 0\n",
      "Overlap between building blocks 2 and 3: 760\n"
     ]
    }
   ],
   "source": [
    "test_BB1 = set(test_BBS_dict_reverse_1.values())\n",
    "test_BB2 = set(test_BBS_dict_reverse_2.values())\n",
    "test_BB3 = set(test_BBS_dict_reverse_3.values())\n",
    "\n",
    "print(f\"Overlap between building blocks 1 and 2: {len(test_BB1.intersection(test_BB2))}\")\n",
    "print(f\"Overlap between building blocks 1 and 3: {len(test_BB1.intersection(test_BB3))}\")\n",
    "print(f\"Overlap between building blocks 2 and 3: {len(test_BB2.intersection(test_BB3))}\")"
   ]
  },
  {
   "cell_type": "markdown",
   "metadata": {},
   "source": [
    "## Overlap between train set and test set"
   ]
  },
  {
   "cell_type": "code",
   "execution_count": 53,
   "metadata": {},
   "outputs": [
    {
     "name": "stdout",
     "output_type": "stream",
     "text": [
      "Overlap between train BB1 and test BB1: 271\n",
      "Overlap between train BB1 and test BB2: 0\n",
      "Overlap between train BB1 and test BB3: 0\n",
      "Overlap between train BB2 and test BB1: 0\n",
      "Overlap between train BB2 and test BB2: 693\n",
      "Overlap between train BB2 and test BB3: 690\n",
      "Overlap between train BB3 and test BB1: 0\n",
      "Overlap between train BB3 and test BB2: 691\n",
      "Overlap between train BB3 and test BB3: 871\n"
     ]
    }
   ],
   "source": [
    "# Check for any overlap between the training and test set\n",
    "print(f\"Overlap between train BB1 and test BB1: {len(train_BB1.intersection(test_BB1))}\")\n",
    "print(f\"Overlap between train BB1 and test BB2: {len(train_BB1.intersection(test_BB2))}\")\n",
    "print(f\"Overlap between train BB1 and test BB3: {len(train_BB1.intersection(test_BB3))}\")\n",
    "print(f\"Overlap between train BB2 and test BB1: {len(train_BB2.intersection(test_BB1))}\")\n",
    "print(f\"Overlap between train BB2 and test BB2: {len(train_BB2.intersection(test_BB2))}\")\n",
    "print(f\"Overlap between train BB2 and test BB3: {len(train_BB2.intersection(test_BB3))}\")\n",
    "print(f\"Overlap between train BB3 and test BB1: {len(train_BB3.intersection(test_BB1))}\")\n",
    "print(f\"Overlap between train BB3 and test BB2: {len(train_BB3.intersection(test_BB2))}\")\n",
    "print(f\"Overlap between train BB3 and test BB3: {len(train_BB3.intersection(test_BB3))}\")"
   ]
  },
  {
   "cell_type": "code",
   "execution_count": 56,
   "metadata": {},
   "outputs": [
    {
     "data": {
      "text/plain": [
       "0"
      ]
     },
     "execution_count": 56,
     "metadata": {},
     "output_type": "execute_result"
    }
   ],
   "source": [
    "# Overlap in molecule_smiles\n",
    "len(set(train_data['molecule_smiles']).intersection(set(test_data['molecule_smiles'])))"
   ]
  },
  {
   "cell_type": "code",
   "execution_count": null,
   "metadata": {},
   "outputs": [],
   "source": []
  }
 ],
 "metadata": {
  "kernelspec": {
   "display_name": "venv",
   "language": "python",
   "name": "python3"
  },
  "language_info": {
   "codemirror_mode": {
    "name": "ipython",
    "version": 3
   },
   "file_extension": ".py",
   "mimetype": "text/x-python",
   "name": "python",
   "nbconvert_exporter": "python",
   "pygments_lexer": "ipython3",
   "version": "3.11.8"
  }
 },
 "nbformat": 4,
 "nbformat_minor": 2
}
