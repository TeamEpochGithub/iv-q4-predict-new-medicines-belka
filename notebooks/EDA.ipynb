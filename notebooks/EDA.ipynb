{
 "cells": [
  {
   "cell_type": "code",
   "execution_count": 15,
   "metadata": {},
   "source": [
    "import numpy as np\n",
    "import pandas as pd \n",
    "import pickle\n",
    "from pathlib import Path\n",
    "import polars as pl"
   ],
   "outputs": []
  },
  {
   "cell_type": "code",
   "execution_count": 16,
   "metadata": {},
   "source": [
    "dtypes = {'buildingblock1_smiles': np.int16, 'buildingblock2_smiles': np.int16, 'buildingblock3_smiles': np.int16,\n",
    "          'binds_BRD4':np.byte, 'binds_HSA':np.byte, 'binds_sEH':np.byte}\n",
    "\n",
    "directory = Path(\"../data/shrunken/\")"
   ],
   "outputs": []
  },
  {
   "cell_type": "markdown",
   "metadata": {},
   "source": [
    "## What is in the train data?"
   ]
  },
  {
   "cell_type": "code",
   "execution_count": null,
   "metadata": {},
   "source": [
    "train_data =  pl.read_parquet(directory / \"train.parquet\")\n",
    "train_data = train_data.to_pandas(use_pyarrow_extension_array=True)"
   ],
   "outputs": []
  },
  {
   "cell_type": "code",
   "execution_count": null,
   "metadata": {},
   "source": [
    "# Load building blocks\n",
    "BBs_dict_reverse_1 = pickle.load(open(directory / 'train_dicts/BBs_dict_reverse_1.p', 'br'))\n",
    "BBs_dict_reverse_2 = pickle.load(open(directory / 'train_dicts/BBs_dict_reverse_2.p', 'br'))\n",
    "BBs_dict_reverse_3 = pickle.load(open(directory / 'train_dicts/BBs_dict_reverse_3.p', 'br'))"
   ],
   "outputs": []
  },
  {
   "cell_type": "code",
   "execution_count": 19,
   "metadata": {},
   "source": [
    "train_data.head(10)"
   ],
   "outputs": []
  },
  {
   "cell_type": "markdown",
   "metadata": {},
   "source": [
    "### Counts and unique values"
   ]
  },
  {
   "cell_type": "code",
   "execution_count": 23,
   "metadata": {},
   "source": [
    "print(f\"Length of train data: {len(train_data)}\")\n",
    "print(f\"Number of unique building blocks 1: {len(BBs_dict_reverse_1)}\")\n",
    "print(f\"Number of unique building blocks 2: {len(BBs_dict_reverse_2)}\")\n",
    "print(f\"Number of unique building blocks 3: {len(BBs_dict_reverse_3)}\")"
   ],
   "outputs": []
  },
  {
   "cell_type": "code",
   "execution_count": 25,
   "metadata": {},
   "source": [
    "print(f\"Value counts of binds_BRD4: {train_data['binds_BRD4'].value_counts()}\")\n",
    "print(f\"Value counts of binds_HSA: {train_data['binds_HSA'].value_counts()}\")\n",
    "print(f\"Value counts of binds_sEH: {train_data['binds_sEH'].value_counts()}\")"
   ],
   "outputs": []
  },
  {
   "cell_type": "code",
   "execution_count": 28,
   "metadata": {},
   "source": [
    "print(f\"Value counts of buildingblock1_smiles: {train_data['buildingblock1_smiles'].value_counts()}\")"
   ],
   "outputs": []
  },
  {
   "cell_type": "code",
   "execution_count": 29,
   "metadata": {},
   "source": [
    "print(f\"Value counts of buildingblock2_smiles: {train_data['buildingblock2_smiles'].value_counts()}\")"
   ],
   "outputs": []
  },
  {
   "cell_type": "code",
   "execution_count": 30,
   "metadata": {},
   "source": [
    "print(f\"Value counts of buildingblock3_smiles: {train_data['buildingblock3_smiles'].value_counts()}\")"
   ],
   "outputs": []
  },
  {
   "cell_type": "code",
   "execution_count": 46,
   "metadata": {},
   "source": [
    "train_BB1 = set(BBs_dict_reverse_1.values())\n",
    "train_BB2 = set(BBs_dict_reverse_2.values())\n",
    "train_BB3 = set(BBs_dict_reverse_3.values())\n",
    "\n",
    "print(f\"Overlap between building blocks 1 and 2: {len(train_BB1.intersection(train_BB2))}\")\n",
    "print(f\"Overlap between building blocks 1 and 3: {len(train_BB1.intersection(train_BB3))}\")\n",
    "print(f\"Overlap between building blocks 2 and 3: {len(train_BB2.intersection(train_BB3))}\")\n",
    "\n",
    "print(f\"Difference between building blocks 1 and 2: {len(train_BB1.difference(train_BB2))}\")\n",
    "print(f\"Difference between building blocks 1 and 3: {len(train_BB1.difference(train_BB3))}\")\n",
    "print(f\"Difference between building blocks 2 and 3: {len(train_BB2.difference(train_BB3))}\")"
   ],
   "outputs": []
  },
  {
   "cell_type": "code",
   "execution_count": 47,
   "metadata": {},
   "source": [
    "train_BB1"
   ],
   "outputs": []
  },
  {
   "cell_type": "markdown",
   "metadata": {},
   "source": [
    "## What is in the test data?"
   ]
  },
  {
   "cell_type": "code",
   "execution_count": 31,
   "metadata": {},
   "source": [
    "test_data =  pl.read_parquet(directory / \"test.parquet\")\n",
    "test_data = test_data.to_pandas(use_pyarrow_extension_array=True)"
   ],
   "outputs": []
  },
  {
   "cell_type": "code",
   "execution_count": 33,
   "metadata": {},
   "source": [
    "test_BBS_dict_reverse_1 = pickle.load(open(directory / 'test_dicts/BBs_dict_reverse_1_test.p', 'br'))\n",
    "test_BBS_dict_reverse_2 = pickle.load(open(directory / 'test_dicts/BBs_dict_reverse_2_test.p', 'br'))\n",
    "test_BBS_dict_reverse_3 = pickle.load(open(directory / 'test_dicts/BBs_dict_reverse_3_test.p', 'br'))"
   ],
   "outputs": []
  },
  {
   "cell_type": "code",
   "execution_count": 34,
   "metadata": {},
   "source": [
    "test_data.head(10)"
   ],
   "outputs": []
  },
  {
   "cell_type": "markdown",
   "metadata": {},
   "source": [
    "#### Counts and unique values"
   ]
  },
  {
   "cell_type": "code",
   "execution_count": 35,
   "metadata": {},
   "source": [
    "print(f\"Length of test data: {len(test_data)}\")\n",
    "print(f\"Number of unique building blocks 1: {len(test_BBS_dict_reverse_1)}\")\n",
    "print(f\"Number of unique building blocks 2: {len(test_BBS_dict_reverse_2)}\")\n",
    "print(f\"Number of unique building blocks 3: {len(test_BBS_dict_reverse_3)}\")"
   ],
   "outputs": []
  },
  {
   "cell_type": "code",
   "execution_count": 36,
   "metadata": {},
   "source": [
    "print(f\"Value counts of is_BRD4: {test_data['is_BRD4'].value_counts()}\")"
   ],
   "outputs": []
  },
  {
   "cell_type": "code",
   "execution_count": 37,
   "metadata": {},
   "source": [
    "print(f\"Value counts of is_HSA: {test_data['is_HSA'].value_counts()}\")"
   ],
   "outputs": []
  },
  {
   "cell_type": "code",
   "execution_count": 38,
   "metadata": {},
   "source": [
    "print(f\"Value counts of is_sEH: {test_data['is_sEH'].value_counts()}\")"
   ],
   "outputs": []
  },
  {
   "cell_type": "code",
   "execution_count": 39,
   "metadata": {},
   "source": [
    "print(f\"Value counts of buildingblock1_smiles: {test_data['buildingblock1_smiles'].value_counts()}\")"
   ],
   "outputs": []
  },
  {
   "cell_type": "code",
   "execution_count": 40,
   "metadata": {},
   "source": [
    "print(f\"Value counts of buildingblock2_smiles: {test_data['buildingblock2_smiles'].value_counts()}\")"
   ],
   "outputs": []
  },
  {
   "cell_type": "code",
   "execution_count": 41,
   "metadata": {},
   "source": [
    "print(f\"Value counts of buildingblock3_smiles: {test_data['buildingblock3_smiles'].value_counts()}\")"
   ],
   "outputs": []
  },
  {
   "cell_type": "code",
   "execution_count": 52,
   "metadata": {},
   "source": [
    "test_BB1 = set(test_BBS_dict_reverse_1.values())\n",
    "test_BB2 = set(test_BBS_dict_reverse_2.values())\n",
    "test_BB3 = set(test_BBS_dict_reverse_3.values())\n",
    "\n",
    "print(f\"Overlap between building blocks 1 and 2: {len(test_BB1.intersection(test_BB2))}\")\n",
    "print(f\"Overlap between building blocks 1 and 3: {len(test_BB1.intersection(test_BB3))}\")\n",
    "print(f\"Overlap between building blocks 2 and 3: {len(test_BB2.intersection(test_BB3))}\")"
   ],
   "outputs": []
  },
  {
   "cell_type": "markdown",
   "metadata": {},
   "source": [
    "## Overlap between train set and test set"
   ]
  },
  {
   "cell_type": "code",
   "execution_count": 53,
   "metadata": {},
   "source": [
    "# Check for any overlap between the training and test set\n",
    "print(f\"Overlap between train BB1 and test BB1: {len(train_BB1.intersection(test_BB1))}\")\n",
    "print(f\"Overlap between train BB1 and test BB2: {len(train_BB1.intersection(test_BB2))}\")\n",
    "print(f\"Overlap between train BB1 and test BB3: {len(train_BB1.intersection(test_BB3))}\")\n",
    "print(f\"Overlap between train BB2 and test BB1: {len(train_BB2.intersection(test_BB1))}\")\n",
    "print(f\"Overlap between train BB2 and test BB2: {len(train_BB2.intersection(test_BB2))}\")\n",
    "print(f\"Overlap between train BB2 and test BB3: {len(train_BB2.intersection(test_BB3))}\")\n",
    "print(f\"Overlap between train BB3 and test BB1: {len(train_BB3.intersection(test_BB1))}\")\n",
    "print(f\"Overlap between train BB3 and test BB2: {len(train_BB3.intersection(test_BB2))}\")\n",
    "print(f\"Overlap between train BB3 and test BB3: {len(train_BB3.intersection(test_BB3))}\")"
   ],
   "outputs": []
  },
  {
   "cell_type": "code",
   "execution_count": 56,
   "metadata": {},
   "source": [
    "# Overlap in molecule_smiles\n",
    "len(set(train_data['molecule_smiles']).intersection(set(test_data['molecule_smiles'])))"
   ],
   "outputs": []
  },
  {
   "cell_type": "code",
   "execution_count": null,
   "metadata": {},
   "source": [],
   "outputs": []
  }
 ],
 "metadata": {
  "kernelspec": {
   "display_name": "venv",
   "language": "python",
   "name": "python3"
  },
  "language_info": {
   "codemirror_mode": {
    "name": "ipython",
    "version": 3
   },
   "file_extension": ".py",
   "mimetype": "text/x-python",
   "name": "python",
   "nbconvert_exporter": "python",
   "pygments_lexer": "ipython3",
   "version": "3.11.8"
  }
 },
 "nbformat": 4,
 "nbformat_minor": 2
}
