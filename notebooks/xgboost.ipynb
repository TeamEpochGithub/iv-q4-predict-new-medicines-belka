{
 "cells": [
  {
   "cell_type": "code",
   "execution_count": 1,
   "metadata": {},
   "source": [
    "# Imports\n",
    "import numpy as np\n",
    "import pandas as pd\n",
    "import pickle\n",
    "from pathlib import Path\n",
    "from rdkit import Chem\n",
    "from rdkit.Chem import Draw\n",
    "from rdkit.Chem import Descriptors\n",
    "import seaborn as sn\n",
    "import dask\n",
    "from dask.distributed import Client\n",
    "import dask.bag as db"
   ],
   "outputs": []
  },
  {
   "cell_type": "code",
   "execution_count": 2,
   "metadata": {},
   "source": [
    "dtypes = {'buildingblock1_smiles': np.int16, 'buildingblock2_smiles': np.int16, 'buildingblock3_smiles': np.int16,\n",
    "          'binds_BRD4':np.byte, 'binds_HSA':np.byte, 'binds_sEH':np.byte}\n",
    "\n",
    "directory = Path(\"../data/shrunken/\")\n",
    "train = pd.read_parquet(directory / \"train.parquet\")"
   ],
   "outputs": []
  },
  {
   "cell_type": "code",
   "execution_count": 3,
   "metadata": {},
   "source": [
    "BBs_dict_reverse_1 = pickle.load(open(directory / 'train_dicts/BBs_dict_reverse_1.p', 'br'))\n",
    "BBs_dict_reverse_2 = pickle.load(open(directory / 'train_dicts/BBs_dict_reverse_2.p', 'br'))\n",
    "BBs_dict_reverse_3 = pickle.load(open(directory / 'train_dicts/BBs_dict_reverse_3.p', 'br'))"
   ],
   "outputs": []
  },
  {
   "cell_type": "code",
   "execution_count": 4,
   "metadata": {},
   "source": [
    "client = Client()"
   ],
   "outputs": []
  },
  {
   "cell_type": "code",
   "execution_count": 19,
   "metadata": {},
   "source": [
    "# Get 25 descriptors\n",
    "desc_list = [desc_func for desc_name, desc_func in Descriptors._descList][:18]\n",
    "desc_names = [desc_name for desc_name, desc_func in Descriptors._descList][:18]\n",
    "\n",
    "def calculate_single_descriptor(mol, desc):\n",
    "    return desc(mol)\n",
    "\n",
    "# Create a function to calculate descriptors\n",
    "def calculate_descriptors(smiles):\n",
    "    mol = Chem.MolFromSmiles(smiles)\n",
    "    desc = [calculate_single_descriptor(mol, desc) for desc in desc_list]\n",
    "    return desc\n"
   ],
   "outputs": []
  },
  {
   "cell_type": "code",
   "execution_count": 20,
   "metadata": {},
   "source": [
    "# Create train dataset with 25% binds_BRD4 or binds_HSA or binds_sEH and 75% no binds\n",
    "train_df = train[(train.binds_BRD4 == 1) | (train.binds_HSA == 1) | (train.binds_sEH == 1)].sample(n=250000)\n",
    "train_df = pd.concat([train_df, train[(train.binds_BRD4 == 0) & (train.binds_HSA == 0) & (train.binds_sEH == 0)].sample(n=750000)])\n",
    "train_df.reset_index(drop=True, inplace=True)"
   ],
   "outputs": []
  },
  {
   "cell_type": "code",
   "execution_count": 21,
   "metadata": {},
   "source": [
    "b = db.from_sequence(train_df.molecule_smiles)\n",
    "descriptors = b.map(calculate_descriptors)"
   ],
   "outputs": []
  },
  {
   "cell_type": "code",
   "execution_count": 22,
   "metadata": {},
   "source": [
    "descriptors = descriptors.compute()"
   ],
   "outputs": []
  },
  {
   "cell_type": "code",
   "execution_count": 23,
   "metadata": {},
   "source": [
    "len(descriptors)"
   ],
   "outputs": []
  },
  {
   "cell_type": "code",
   "execution_count": 24,
   "metadata": {},
   "source": [
    "# Create a dataframe\n",
    "desc_df = pd.DataFrame(descriptors, columns=desc_names)\n",
    "\n",
    "# Add the target columns\n",
    "desc_df['binds_BRD4'] = train_df.binds_BRD4\n",
    "desc_df['binds_HSA'] = train_df.binds_HSA\n",
    "desc_df['binds_sEH'] = train_df.binds_sEH\n",
    "\n",
    "# Calculate correlation matrix\n",
    "corr = desc_df.iloc[:, ].corr()"
   ],
   "outputs": []
  },
  {
   "cell_type": "code",
   "execution_count": 40,
   "metadata": {},
   "source": [
    "# Value counts\n",
    "print(f\"Count of binds_BRD4: {desc_df.binds_BRD4.value_counts()}\")\n",
    "print(f\"Count of binds_HSA: {desc_df.binds_HSA.value_counts()}\")\n",
    "print(f\"Count of binds_sEH: {desc_df.binds_sEH.value_counts()}\")"
   ],
   "outputs": []
  },
  {
   "cell_type": "code",
   "execution_count": 41,
   "metadata": {},
   "source": [
    "# Make the plot bigger\n",
    "import matplotlib.pyplot as plt\n",
    "plt.figure(figsize=(20, 20))\n",
    "sn.heatmap(corr, annot=True)"
   ],
   "outputs": []
  },
  {
   "cell_type": "code",
   "execution_count": 29,
   "metadata": {},
   "source": [
    "print(f\"Percentage of rows with at least one binding: {desc_df[(desc_df.binds_BRD4 == 1) | (desc_df.binds_HSA == 1) | (desc_df.binds_sEH == 1)].shape[0] / desc_df.shape[0] * 100:.2f}%\")"
   ],
   "outputs": []
  },
  {
   "cell_type": "code",
   "execution_count": 44,
   "metadata": {},
   "source": [
    "# Replace NaN values with 0\n",
    "desc_df.fillna(0, inplace=True)\n",
    "\n",
    "# Replace inf values with 0\n",
    "desc_df.replace([np.inf, -np.inf], 0, inplace=True)"
   ],
   "outputs": []
  },
  {
   "cell_type": "code",
   "execution_count": 49,
   "metadata": {},
   "source": [
    "# Train XGBoost model to predict binds_BRD4, binds_sEH, binds_HSA\n",
    "from xgboost import XGBClassifier\n",
    "from sklearn.model_selection import train_test_split\n",
    "\n",
    "X = desc_df.iloc[:, :-3]\n",
    "y = desc_df.iloc[:, -3:]\n",
    "\n",
    "X_train, X_test, y_train, y_test = train_test_split(X, y, test_size=0.2)\n",
    "\n",
    "model = XGBClassifier()\n",
    "model.fit(X, y)\n",
    "\n",
    "# Get accuracy\n",
    "from sklearn.metrics import average_precision_score\n",
    "y_pred = model.predict(X_test)\n",
    "accuracy = average_precision_score(y_test, y_pred, average='micro')\n",
    "print(f\"Accuracy: {accuracy}\")"
   ],
   "outputs": []
  },
  {
   "cell_type": "code",
   "execution_count": 46,
   "metadata": {},
   "source": [
    "# Load test data\n",
    "test = pd.read_parquet(directory / \"test.parquet\")"
   ],
   "outputs": []
  },
  {
   "cell_type": "code",
   "execution_count": 47,
   "metadata": {},
   "source": [
    "test.head(10)"
   ],
   "outputs": []
  },
  {
   "cell_type": "code",
   "execution_count": 48,
   "metadata": {},
   "source": [
    "# Make predictions on test data\n",
    "\n",
    "test_b = db.from_sequence(test.molecule_smiles)\n",
    "test_descriptors = test_b.map(calculate_descriptors)\n",
    "test_descriptors = test_descriptors.compute()\n"
   ],
   "outputs": []
  },
  {
   "cell_type": "code",
   "execution_count": 50,
   "metadata": {},
   "source": [
    "# Fill NaN values with 0\n",
    "test_desc_df = pd.DataFrame(test_descriptors, columns=desc_names)\n",
    "test_desc_df.fillna(0, inplace=True)\n",
    "test_desc_df.replace([np.inf, -np.inf], 0, inplace=True)"
   ],
   "outputs": []
  },
  {
   "cell_type": "code",
   "execution_count": 51,
   "metadata": {},
   "source": [
    "# Predict on test data\n",
    "predictions = model.predict(test_desc_df)"
   ],
   "outputs": []
  },
  {
   "cell_type": "code",
   "execution_count": 52,
   "metadata": {},
   "source": [
    "# Create new dataframe with predictions\n",
    "predictions_df = pd.DataFrame(predictions, columns=['binds_BRD4', 'binds_HSA', 'binds_sEH'])"
   ],
   "outputs": []
  },
  {
   "cell_type": "code",
   "execution_count": 53,
   "metadata": {},
   "source": [
    "# From test dataframe add is_BRD4, is_HSA, is_sEH columns\n",
    "predictions_df['is_BRD4'] = test.is_BRD4\n",
    "predictions_df['is_HSA'] = test.is_HSA\n",
    "predictions_df['is_sEH'] = test.is_sEH\n",
    "\n",
    "predictions_df.head(10)"
   ],
   "outputs": []
  },
  {
   "cell_type": "code",
   "execution_count": 54,
   "metadata": {},
   "source": [
    "# Map predictions to ids from test data\n",
    "original_test = pd.read_parquet(\"../data/raw/test.parquet\")\n",
    "\n",
    "# Predictions are (binds_BRD4, binds_HSA, binds_sEH) these should be mapped to the original ids\n",
    "# If you have id_1, id_2, id_3, id_4, id_5, id_6\n",
    "# And you have predictions (1, 0, 1), (0,1,0)\n",
    "# You should map these to id_1, id_3, id_5\n",
    "\n",
    "# Get the original ids\n",
    "original_ids = original_test.id\n",
    "\n",
    "# Create a flattened array of predictions where each row is only given if its corresponding is_ is true\n",
    "# For example if is_BRD4 is true, then the prediction is binds_BRD4 else it is skipped and shouldn't be included in the final array\n",
    "final_predictions = []\n",
    "for i in range(predictions_df.shape[0]):\n",
    "    if predictions_df.iloc[i].is_BRD4:\n",
    "        final_predictions.append(predictions_df.iloc[i].binds_BRD4)\n",
    "    if predictions_df.iloc[i].is_HSA:\n",
    "        final_predictions.append(predictions_df.iloc[i].binds_HSA)\n",
    "    if predictions_df.iloc[i].is_sEH:\n",
    "        final_predictions.append(predictions_df.iloc[i].binds_sEH)"
   ],
   "outputs": []
  },
  {
   "cell_type": "code",
   "execution_count": 61,
   "metadata": {},
   "source": [
    "# For final predictions, if its 1 choose random value from 0.5 to 1, if its 0 choose random value from 0 to 0.5\n",
    "new_final_predictions = [np.random.uniform(0.5, 1) if pred == 1 else np.random.uniform(0, 0.5) for pred in final_predictions]"
   ],
   "outputs": []
  },
  {
   "cell_type": "code",
   "execution_count": 62,
   "metadata": {},
   "source": [
    "# Create a dataframe with the final predictions columns are id and binds\n",
    "final_predictions_df = pd.DataFrame({'id': original_ids, 'binds': new_final_predictions})"
   ],
   "outputs": []
  },
  {
   "cell_type": "code",
   "execution_count": 63,
   "metadata": {},
   "source": [
    "# Check if any predictions are 1\n",
    "print(f\"Number of binds: {final_predictions_df[final_predictions_df.binds == 1].shape[0]}\")"
   ],
   "outputs": []
  },
  {
   "cell_type": "code",
   "execution_count": 64,
   "metadata": {},
   "source": [
    "final_predictions_df.shape"
   ],
   "outputs": []
  },
  {
   "cell_type": "code",
   "execution_count": 65,
   "metadata": {},
   "source": [
    "# Save the final predictions as csv\n",
    "final_predictions_df.to_csv(\"../data/predictions.csv\", index=False)"
   ],
   "outputs": []
  },
  {
   "cell_type": "code",
   "execution_count": null,
   "metadata": {},
   "source": [],
   "outputs": []
  }
 ],
 "metadata": {
  "kernelspec": {
   "display_name": "venv",
   "language": "python",
   "name": "python3"
  },
  "language_info": {
   "codemirror_mode": {
    "name": "ipython",
    "version": 3
   },
   "file_extension": ".py",
   "mimetype": "text/x-python",
   "name": "python",
   "nbconvert_exporter": "python",
   "pygments_lexer": "ipython3",
   "version": "3.11.8"
  }
 },
 "nbformat": 4,
 "nbformat_minor": 2
}
