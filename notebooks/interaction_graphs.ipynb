{
 "cells": [
  {
   "cell_type": "code",
   "id": "initial_id",
   "metadata": {
    "collapsed": true,
    "ExecuteTime": {
     "end_time": "2024-05-17T10:37:46.247623Z",
     "start_time": "2024-05-17T10:37:45.690504Z"
    }
   },
   "source": [
    "from rdkit import Chem\n",
    "from rdkit.Chem import AllChem\n",
    "import networkx as nx\n",
    "import matplotlib.pyplot as plt\n",
    "from Bio.PDB import PDBParser, NeighborSearch, Selection\n",
    "import numpy as np\n",
    "from transformers.models.esm.openfold_utils.protein import Protein"
   ],
   "outputs": [],
   "execution_count": 6
  },
  {
   "metadata": {
    "ExecuteTime": {
     "end_time": "2024-05-17T10:37:47.623795Z",
     "start_time": "2024-05-17T10:37:47.622086Z"
    }
   },
   "cell_type": "code",
   "source": [
    "sEH = 'TLRAAVFDLDGVLALPAVFGVLGRTEEALALPRGLLNDAFQKGGPEGATTRLMKGEITLSQWIPLMEENCRKCSETAKVCLPKNFSIKEIFDKAISARKINRPMLQAALMLRKKGFTTAILTNTWLDDRAERDGLAQLMCELKMHFDFLIESCQVGMVKPEPQIYKFLLDTLKASPSEVVFLDDIGANLKPARDLGMVTILVQDTDTALKELEKVTGIQLLNTPAPLPTSCNPSDMSHGYVTVKPRVRLHFVELGSGPAVCLCHGFPESWYSWRYQIPALAQAGYRVLAMDMKGYGESSAPPEIEEYCMEVLCKEMVTFLDKLGLSQAVFIGHDWGGMLVWYMALFYPERVRAVASLNTPFIPANPNMSPLESIKANPVFDYQLYFQEPGVAEAELEQNLSRTFKSLFRASDESVLSMHKVCEAGGLFVNSPEEPSLSRMVTEEEIQFYVQQFKKSGFRGPLNWYRNMERNWKWACKSLGRKILIPALMVTAEKDFVLVPQMSQHMEDWIPHLKRGHIEDCGHWTQMDKPTEVNQILIKWLDSDARNPPVVSKM'\n",
    "sEH_id = 'P34913-1'\n",
    "\n",
    "example_mol = 'C#CCOc1ccc(CNc2nc(NCc3ccc4[nH]c(C)cc4c3)nc(N[C@@H](CC#C)CC(=O)N[Dy])n2)cc1'\n"
   ],
   "id": "385fc61d9a918762",
   "outputs": [],
   "execution_count": 7
  },
  {
   "metadata": {
    "ExecuteTime": {
     "end_time": "2024-05-17T10:38:06.759957Z",
     "start_time": "2024-05-17T10:37:48.187225Z"
    }
   },
   "cell_type": "code",
   "source": [
    "import pandas as pd\n",
    "import pickle\n",
    "from pathlib import Path\n",
    "import polars as pl\n",
    "\n",
    "# Load data\n",
    "types = {'buildingblock1_smiles': np.int16, 'buildingblock2_smiles': np.int16, 'buildingblock3_smiles': np.int16,\n",
    "          'binds_BRD4':np.byte, 'binds_HSA':np.byte, 'binds_sEH':np.byte}\n",
    "\n",
    "directory = Path(\"../data/shrunken/\")\n",
    "train = pl.read_parquet(directory / \"train.parquet\")\n",
    "train = train.to_pandas(use_pyarrow_extension_array=True)\n",
    "test = pl.read_parquet(directory / \"test.parquet\")\n",
    "test = test.to_pandas(use_pyarrow_extension_array=True)\n",
    "print(test.columns)\n",
    "# Load building blocks\n",
    "BBs_dict_reverse_1 = (pickle.load(open(directory / 'train_dicts/BBs_dict_reverse_1.p', 'br')))\n",
    "BBs_dict_reverse_2 = pickle.load(open(directory / 'train_dicts/BBs_dict_reverse_2.p', 'br'))\n",
    "BBs_dict_reverse_3 = pickle.load(open(directory / 'train_dicts/BBs_dict_reverse_3.p', 'br'))\n",
    "\n",
    "train_df = train[(train.binds_sEH == 1)].sample(n=100000)\n",
    "train_df = pd.concat([train_df, train[(train.binds_BRD4 == 0) & (train.binds_HSA == 0) & (train.binds_sEH == 0)].sample(n=300000)])\n",
    "train_df.reset_index(drop=True, inplace=True)\n",
    "\n",
    "test_df = test[(test['is_sEH'] == 1)]\n",
    "test_df = pd.concat([test_df, test[(test['is_sEH'] == 0)].sample(n=300000)])\n",
    "test_df.reset_index(drop=True, inplace=True)\n",
    "\n"
   ],
   "id": "cfdce630f5fd77b5",
   "outputs": [
    {
     "name": "stdout",
     "output_type": "stream",
     "text": [
      "Index(['buildingblock1_smiles', 'buildingblock2_smiles',\n",
      "       'buildingblock3_smiles', 'molecule_smiles', 'is_BRD4', 'is_HSA',\n",
      "       'is_sEH'],\n",
      "      dtype='object')\n"
     ]
    }
   ],
   "execution_count": 8
  },
  {
   "metadata": {
    "ExecuteTime": {
     "end_time": "2024-05-17T10:38:21.341648Z",
     "start_time": "2024-05-17T10:38:21.314531Z"
    }
   },
   "cell_type": "code",
   "source": "len(test[test['is_sEH'] == 0])",
   "id": "b04052a973ed17c1",
   "outputs": [
    {
     "data": {
      "text/plain": [
       "319880"
      ]
     },
     "execution_count": 9,
     "metadata": {},
     "output_type": "execute_result"
    }
   ],
   "execution_count": 9
  },
  {
   "metadata": {
    "ExecuteTime": {
     "end_time": "2024-05-17T10:38:23.534316Z",
     "start_time": "2024-05-17T10:38:23.530978Z"
    }
   },
   "cell_type": "code",
   "source": [
    "import torch\n",
    "from torch_geometric.data import Data, Dataset, DataLoader\n",
    "from torch_geometric.nn import GCNConv, Linear\n",
    "import torch.nn.functional as F\n",
    "\n",
    "def smiles_to_graph(smiles):\n",
    "    mol = Chem.MolFromSmiles(smiles)\n",
    "    if mol is None:\n",
    "        raise ValueError(\"Invalid SMILES string\")\n",
    "    \n",
    "    new_mol = Chem.AddHs(mol)\n",
    "    updated_mol = Chem.SanitizeMol(new_mol)\n",
    "    if updated_mol is None:\n",
    "        raise ValueError(\"Molecule sanitization failed\")\n",
    "    \n",
    "    edges = []\n",
    "    edge_features = []\n",
    "    node_features = []\n",
    "    for atom in mol.GetAtoms():\n",
    "        features = [\n",
    "            atom.GetAtomicNum(),   \n",
    "            atom.GetDegree(),      \n",
    "            atom.GetFormalCharge(),\n",
    "            atom.GetHybridization().real,\n",
    "        ]\n",
    "        node_features.append(features)\n",
    "\n",
    "    for bond in mol.GetBonds():\n",
    "        edges.append((bond.GetBeginAtomIdx(), bond.GetEndAtomIdx()))\n",
    "        edge_features.append([bond.GetBondTypeAsDouble()])\n",
    "\n",
    "    edge_index = torch.tensor(edges, dtype=torch.long).t().contiguous()\n",
    "    x = torch.tensor(node_features, dtype=torch.float)\n",
    "    edge_attr = torch.tensor(edge_features, dtype=torch.float)\n",
    "\n",
    "    return Data(x=x, edge_index=edge_index, edge_attr=edge_attr)\n",
    "\n",
    "    \n",
    "class MoleculeDataset(Dataset):\n",
    "    def __init__(self, dataframe, target_column):\n",
    "        super(MoleculeDataset, self).__init__()\n",
    "        self.dataframe = dataframe\n",
    "        self.target_column = target_column\n",
    "    \n",
    "    def __len__(self):\n",
    "        return len(self.dataframe)\n",
    "    \n",
    "    def __getitem__(self, idx):\n",
    "        row = self.dataframe.iloc[idx]\n",
    "        smiles = row['molecule_smiles']\n",
    "        target = row[self.target_column]\n",
    "        data = smiles_to_graph(smiles)\n",
    "        if data is None:\n",
    "            return None \n",
    "        data.y = torch.tensor([target], dtype=torch.float)\n",
    "        return data\n"
   ],
   "id": "31cc2d7304b1cbd3",
   "outputs": [],
   "execution_count": 10
  },
  {
   "metadata": {
    "ExecuteTime": {
     "end_time": "2024-05-17T10:38:25.520121Z",
     "start_time": "2024-05-17T10:38:25.517392Z"
    }
   },
   "cell_type": "code",
   "source": [
    "import torch_geometric\n",
    "\n",
    "dataset = MoleculeDataset(train_df, 'binds_sEH')\n",
    "def collate_fn(batch):\n",
    "    batch = [item for item in batch if item is not None]\n",
    "    if len(batch) == 0:\n",
    "        return None  \n",
    "    return torch_geometric.data.Batch.from_data_list(batch)\n",
    "\n",
    "train_loader = DataLoader(dataset, batch_size=20000, shuffle=True, collate_fn=collate_fn)\n",
    "if len(train_loader) == 0:\n",
    "    raise ValueError(\"DataLoader is empty. Check the dataset and collation settings.\")\n",
    "\n",
    "test_dataset = MoleculeDataset(test_df, 'is_sEH')\n",
    "test_loader = DataLoader(test_dataset, batch_size=2000, shuffle=False, collate_fn=collate_fn)"
   ],
   "id": "5a46480d44bbe619",
   "outputs": [
    {
     "name": "stderr",
     "output_type": "stream",
     "text": [
      "/home/daniel-de-dios/PycharmProjects/q4-detect-medicine/.venv/lib/python3.12/site-packages/torch_geometric/deprecation.py:26: UserWarning: 'data.DataLoader' is deprecated, use 'loader.DataLoader' instead\n",
      "  warnings.warn(out)\n"
     ]
    }
   ],
   "execution_count": 11
  },
  {
   "metadata": {
    "ExecuteTime": {
     "end_time": "2024-05-17T10:38:33.107550Z",
     "start_time": "2024-05-17T10:38:33.105226Z"
    }
   },
   "cell_type": "code",
   "source": [
    "\n",
    "class GCN(torch.nn.Module):\n",
    "    def __init__(self, num_node_features):\n",
    "        super(GCN, self).__init__()\n",
    "        self.conv1 = pyg_nn.GCNConv(num_node_features, 16)  \n",
    "        self.conv2 = pyg_nn.GCNConv(16, 16) \n",
    "        self.fc = Linear(16, 1) \n",
    "\n",
    "    def forward(self, data):\n",
    "        x, edge_index, batch = data.x, data.edge_index, data.batch\n",
    "        \n",
    "        device = next(self.parameters()).device\n",
    "        batch = batch.to(device)\n",
    "        x = x.to(device)\n",
    "        edge_index = edge_index.to(device)\n",
    "        \n",
    "        if x.size(1) != self.conv1.in_channels:\n",
    "            self.conv1 = pyg_nn.GCNConv(x.size(1), 16).to(device)\n",
    "        else:\n",
    "            self.conv1 = self.conv1.to(device)\n",
    "        \n",
    "        x = F.relu(self.conv1(x, edge_index))\n",
    "        x = F.relu(self.conv2(x, edge_index))\n",
    "        x = pyg_nn.global_mean_pool(x, batch)\n",
    "        x = self.fc(x).squeeze()\n",
    "        return sigmoid(x)\n",
    "\n"
   ],
   "id": "5e425d5cc55673b4",
   "outputs": [],
   "execution_count": 13
  },
  {
   "metadata": {
    "ExecuteTime": {
     "end_time": "2024-05-17T10:40:52.120248Z",
     "start_time": "2024-05-17T10:40:33.767407Z"
    }
   },
   "cell_type": "code",
   "source": [
    "from sklearn.metrics import average_precision_score\n",
    "import warnings\n",
    "from tqdm import tqdm\n",
    "\n",
    "import os\n",
    "os.environ['CUDA_LAUNCH_BLOCKING'] = '1'\n",
    "os.environ['CUDA_VISIBLE_DEVICES'] = '0'\n",
    "\n",
    "device = torch.device('cuda' if torch.cuda.is_available() else 'cpu')\n",
    "model = GCN(num_node_features=16)\n",
    "optimizer = torch.optim.Adam(model.parameters(), lr=0.01)\n",
    "criterion = torch.nn.BCEWithLogitsLoss()\n",
    "\n",
    "warnings.filterwarnings('ignore', message=r'UFFTYPER: Unrecognized charge state for atom:*')\n",
    "warnings.filterwarnings('ignore', message=r'UFFTYPER: Unrecognized atom type:*')\n",
    "\n",
    "for epoch in range(10):\n",
    "    total_loss = 0\n",
    "    y_true = []\n",
    "    y_scores = []\n",
    "    model.train()\n",
    "    for data in tqdm(train_loader, desc=\"Training\"):\n",
    "        if data is None or len(data.y) == 0:\n",
    "            continue\n",
    "        data = data\n",
    "        optimizer.zero_grad()\n",
    "        output = model(data)\n",
    "        labels = data.y.view(-1)\n",
    "        loss = criterion(output, labels.float())\n",
    "        loss.backward()\n",
    "        optimizer.step()\n",
    "        total_loss += loss.item()\n",
    "        y_true.extend(labels.cpu().numpy())\n",
    "        y_scores.extend(torch.sigmoid(output).detach().cpu().numpy())\n",
    "    average_loss = total_loss / len(train_loader)\n",
    "    \n",
    "    # Calculate mean average precision (mAP)\n",
    "    mAP = average_precision_score(y_true, y_scores)\n",
    "    \n",
    "    print(f\"Epoch {epoch+1}, Loss: {average_loss}, mAP: {mAP}\")\n"
   ],
   "id": "1165b5f7d85c74ad",
   "outputs": [
    {
     "name": "stderr",
     "output_type": "stream",
     "text": [
      "Training:   5%|▌         | 1/20 [00:17<05:40, 17.92s/it]\n"
     ]
    },
    {
     "ename": "KeyboardInterrupt",
     "evalue": "",
     "output_type": "error",
     "traceback": [
      "\u001B[0;31m---------------------------------------------------------------------------\u001B[0m",
      "\u001B[0;31mKeyboardInterrupt\u001B[0m                         Traceback (most recent call last)",
      "Cell \u001B[0;32mIn[18], line 22\u001B[0m\n\u001B[1;32m     20\u001B[0m y_scores \u001B[38;5;241m=\u001B[39m []\n\u001B[1;32m     21\u001B[0m model\u001B[38;5;241m.\u001B[39mtrain()\n\u001B[0;32m---> 22\u001B[0m \u001B[43m\u001B[49m\u001B[38;5;28;43;01mfor\u001B[39;49;00m\u001B[43m \u001B[49m\u001B[43mdata\u001B[49m\u001B[43m \u001B[49m\u001B[38;5;129;43;01min\u001B[39;49;00m\u001B[43m \u001B[49m\u001B[43mtqdm\u001B[49m\u001B[43m(\u001B[49m\u001B[43mtrain_loader\u001B[49m\u001B[43m,\u001B[49m\u001B[43m \u001B[49m\u001B[43mdesc\u001B[49m\u001B[38;5;241;43m=\u001B[39;49m\u001B[38;5;124;43m\"\u001B[39;49m\u001B[38;5;124;43mTraining\u001B[39;49m\u001B[38;5;124;43m\"\u001B[39;49m\u001B[43m)\u001B[49m\u001B[43m:\u001B[49m\n\u001B[1;32m     23\u001B[0m \u001B[43m    \u001B[49m\u001B[38;5;28;43;01mif\u001B[39;49;00m\u001B[43m \u001B[49m\u001B[43mdata\u001B[49m\u001B[43m \u001B[49m\u001B[38;5;129;43;01mis\u001B[39;49;00m\u001B[43m \u001B[49m\u001B[38;5;28;43;01mNone\u001B[39;49;00m\u001B[43m \u001B[49m\u001B[38;5;129;43;01mor\u001B[39;49;00m\u001B[43m \u001B[49m\u001B[38;5;28;43mlen\u001B[39;49m\u001B[43m(\u001B[49m\u001B[43mdata\u001B[49m\u001B[38;5;241;43m.\u001B[39;49m\u001B[43my\u001B[49m\u001B[43m)\u001B[49m\u001B[43m \u001B[49m\u001B[38;5;241;43m==\u001B[39;49m\u001B[43m \u001B[49m\u001B[38;5;241;43m0\u001B[39;49m\u001B[43m:\u001B[49m\n\u001B[1;32m     24\u001B[0m \u001B[43m        \u001B[49m\u001B[38;5;28;43;01mcontinue\u001B[39;49;00m\n",
      "File \u001B[0;32m~/PycharmProjects/q4-detect-medicine/.venv/lib/python3.12/site-packages/tqdm/std.py:1181\u001B[0m, in \u001B[0;36mtqdm.__iter__\u001B[0;34m(self)\u001B[0m\n\u001B[1;32m   1178\u001B[0m time \u001B[38;5;241m=\u001B[39m \u001B[38;5;28mself\u001B[39m\u001B[38;5;241m.\u001B[39m_time\n\u001B[1;32m   1180\u001B[0m \u001B[38;5;28;01mtry\u001B[39;00m:\n\u001B[0;32m-> 1181\u001B[0m \u001B[43m    \u001B[49m\u001B[38;5;28;43;01mfor\u001B[39;49;00m\u001B[43m \u001B[49m\u001B[43mobj\u001B[49m\u001B[43m \u001B[49m\u001B[38;5;129;43;01min\u001B[39;49;00m\u001B[43m \u001B[49m\u001B[43miterable\u001B[49m\u001B[43m:\u001B[49m\n\u001B[1;32m   1182\u001B[0m \u001B[43m        \u001B[49m\u001B[38;5;28;43;01myield\u001B[39;49;00m\u001B[43m \u001B[49m\u001B[43mobj\u001B[49m\n\u001B[1;32m   1183\u001B[0m \u001B[43m        \u001B[49m\u001B[38;5;66;43;03m# Update and possibly print the progressbar.\u001B[39;49;00m\n\u001B[1;32m   1184\u001B[0m \u001B[43m        \u001B[49m\u001B[38;5;66;43;03m# Note: does not call self.update(1) for speed optimisation.\u001B[39;49;00m\n",
      "File \u001B[0;32m~/PycharmProjects/q4-detect-medicine/.venv/lib/python3.12/site-packages/torch/utils/data/dataloader.py:631\u001B[0m, in \u001B[0;36m_BaseDataLoaderIter.__next__\u001B[0;34m(self)\u001B[0m\n\u001B[1;32m    628\u001B[0m \u001B[38;5;28;01mif\u001B[39;00m \u001B[38;5;28mself\u001B[39m\u001B[38;5;241m.\u001B[39m_sampler_iter \u001B[38;5;129;01mis\u001B[39;00m \u001B[38;5;28;01mNone\u001B[39;00m:\n\u001B[1;32m    629\u001B[0m     \u001B[38;5;66;03m# TODO(https://github.com/pytorch/pytorch/issues/76750)\u001B[39;00m\n\u001B[1;32m    630\u001B[0m     \u001B[38;5;28mself\u001B[39m\u001B[38;5;241m.\u001B[39m_reset()  \u001B[38;5;66;03m# type: ignore[call-arg]\u001B[39;00m\n\u001B[0;32m--> 631\u001B[0m data \u001B[38;5;241m=\u001B[39m \u001B[38;5;28;43mself\u001B[39;49m\u001B[38;5;241;43m.\u001B[39;49m\u001B[43m_next_data\u001B[49m\u001B[43m(\u001B[49m\u001B[43m)\u001B[49m\n\u001B[1;32m    632\u001B[0m \u001B[38;5;28mself\u001B[39m\u001B[38;5;241m.\u001B[39m_num_yielded \u001B[38;5;241m+\u001B[39m\u001B[38;5;241m=\u001B[39m \u001B[38;5;241m1\u001B[39m\n\u001B[1;32m    633\u001B[0m \u001B[38;5;28;01mif\u001B[39;00m \u001B[38;5;28mself\u001B[39m\u001B[38;5;241m.\u001B[39m_dataset_kind \u001B[38;5;241m==\u001B[39m _DatasetKind\u001B[38;5;241m.\u001B[39mIterable \u001B[38;5;129;01mand\u001B[39;00m \\\n\u001B[1;32m    634\u001B[0m         \u001B[38;5;28mself\u001B[39m\u001B[38;5;241m.\u001B[39m_IterableDataset_len_called \u001B[38;5;129;01mis\u001B[39;00m \u001B[38;5;129;01mnot\u001B[39;00m \u001B[38;5;28;01mNone\u001B[39;00m \u001B[38;5;129;01mand\u001B[39;00m \\\n\u001B[1;32m    635\u001B[0m         \u001B[38;5;28mself\u001B[39m\u001B[38;5;241m.\u001B[39m_num_yielded \u001B[38;5;241m>\u001B[39m \u001B[38;5;28mself\u001B[39m\u001B[38;5;241m.\u001B[39m_IterableDataset_len_called:\n",
      "File \u001B[0;32m~/PycharmProjects/q4-detect-medicine/.venv/lib/python3.12/site-packages/torch/utils/data/dataloader.py:675\u001B[0m, in \u001B[0;36m_SingleProcessDataLoaderIter._next_data\u001B[0;34m(self)\u001B[0m\n\u001B[1;32m    673\u001B[0m \u001B[38;5;28;01mdef\u001B[39;00m \u001B[38;5;21m_next_data\u001B[39m(\u001B[38;5;28mself\u001B[39m):\n\u001B[1;32m    674\u001B[0m     index \u001B[38;5;241m=\u001B[39m \u001B[38;5;28mself\u001B[39m\u001B[38;5;241m.\u001B[39m_next_index()  \u001B[38;5;66;03m# may raise StopIteration\u001B[39;00m\n\u001B[0;32m--> 675\u001B[0m     data \u001B[38;5;241m=\u001B[39m \u001B[38;5;28;43mself\u001B[39;49m\u001B[38;5;241;43m.\u001B[39;49m\u001B[43m_dataset_fetcher\u001B[49m\u001B[38;5;241;43m.\u001B[39;49m\u001B[43mfetch\u001B[49m\u001B[43m(\u001B[49m\u001B[43mindex\u001B[49m\u001B[43m)\u001B[49m  \u001B[38;5;66;03m# may raise StopIteration\u001B[39;00m\n\u001B[1;32m    676\u001B[0m     \u001B[38;5;28;01mif\u001B[39;00m \u001B[38;5;28mself\u001B[39m\u001B[38;5;241m.\u001B[39m_pin_memory:\n\u001B[1;32m    677\u001B[0m         data \u001B[38;5;241m=\u001B[39m _utils\u001B[38;5;241m.\u001B[39mpin_memory\u001B[38;5;241m.\u001B[39mpin_memory(data, \u001B[38;5;28mself\u001B[39m\u001B[38;5;241m.\u001B[39m_pin_memory_device)\n",
      "File \u001B[0;32m~/PycharmProjects/q4-detect-medicine/.venv/lib/python3.12/site-packages/torch/utils/data/_utils/fetch.py:51\u001B[0m, in \u001B[0;36m_MapDatasetFetcher.fetch\u001B[0;34m(self, possibly_batched_index)\u001B[0m\n\u001B[1;32m     49\u001B[0m         data \u001B[38;5;241m=\u001B[39m \u001B[38;5;28mself\u001B[39m\u001B[38;5;241m.\u001B[39mdataset\u001B[38;5;241m.\u001B[39m__getitems__(possibly_batched_index)\n\u001B[1;32m     50\u001B[0m     \u001B[38;5;28;01melse\u001B[39;00m:\n\u001B[0;32m---> 51\u001B[0m         data \u001B[38;5;241m=\u001B[39m [\u001B[38;5;28;43mself\u001B[39;49m\u001B[38;5;241;43m.\u001B[39;49m\u001B[43mdataset\u001B[49m\u001B[43m[\u001B[49m\u001B[43midx\u001B[49m\u001B[43m]\u001B[49m \u001B[38;5;28;01mfor\u001B[39;00m idx \u001B[38;5;129;01min\u001B[39;00m possibly_batched_index]\n\u001B[1;32m     52\u001B[0m \u001B[38;5;28;01melse\u001B[39;00m:\n\u001B[1;32m     53\u001B[0m     data \u001B[38;5;241m=\u001B[39m \u001B[38;5;28mself\u001B[39m\u001B[38;5;241m.\u001B[39mdataset[possibly_batched_index]\n",
      "Cell \u001B[0;32mIn[10], line 49\u001B[0m, in \u001B[0;36mMoleculeDataset.__getitem__\u001B[0;34m(self, idx)\u001B[0m\n\u001B[1;32m     48\u001B[0m \u001B[38;5;28;01mdef\u001B[39;00m \u001B[38;5;21m__getitem__\u001B[39m(\u001B[38;5;28mself\u001B[39m, idx):\n\u001B[0;32m---> 49\u001B[0m     row \u001B[38;5;241m=\u001B[39m \u001B[38;5;28;43mself\u001B[39;49m\u001B[38;5;241;43m.\u001B[39;49m\u001B[43mdataframe\u001B[49m\u001B[38;5;241;43m.\u001B[39;49m\u001B[43miloc\u001B[49m\u001B[43m[\u001B[49m\u001B[43midx\u001B[49m\u001B[43m]\u001B[49m\n\u001B[1;32m     50\u001B[0m     smiles \u001B[38;5;241m=\u001B[39m row[\u001B[38;5;124m'\u001B[39m\u001B[38;5;124mmolecule_smiles\u001B[39m\u001B[38;5;124m'\u001B[39m]\n\u001B[1;32m     51\u001B[0m     target \u001B[38;5;241m=\u001B[39m row[\u001B[38;5;28mself\u001B[39m\u001B[38;5;241m.\u001B[39mtarget_column]\n",
      "File \u001B[0;32m~/PycharmProjects/q4-detect-medicine/.venv/lib/python3.12/site-packages/pandas/core/indexing.py:1191\u001B[0m, in \u001B[0;36m_LocationIndexer.__getitem__\u001B[0;34m(self, key)\u001B[0m\n\u001B[1;32m   1189\u001B[0m maybe_callable \u001B[38;5;241m=\u001B[39m com\u001B[38;5;241m.\u001B[39mapply_if_callable(key, \u001B[38;5;28mself\u001B[39m\u001B[38;5;241m.\u001B[39mobj)\n\u001B[1;32m   1190\u001B[0m maybe_callable \u001B[38;5;241m=\u001B[39m \u001B[38;5;28mself\u001B[39m\u001B[38;5;241m.\u001B[39m_check_deprecated_callable_usage(key, maybe_callable)\n\u001B[0;32m-> 1191\u001B[0m \u001B[38;5;28;01mreturn\u001B[39;00m \u001B[38;5;28;43mself\u001B[39;49m\u001B[38;5;241;43m.\u001B[39;49m\u001B[43m_getitem_axis\u001B[49m\u001B[43m(\u001B[49m\u001B[43mmaybe_callable\u001B[49m\u001B[43m,\u001B[49m\u001B[43m \u001B[49m\u001B[43maxis\u001B[49m\u001B[38;5;241;43m=\u001B[39;49m\u001B[43maxis\u001B[49m\u001B[43m)\u001B[49m\n",
      "File \u001B[0;32m~/PycharmProjects/q4-detect-medicine/.venv/lib/python3.12/site-packages/pandas/core/indexing.py:1754\u001B[0m, in \u001B[0;36m_iLocIndexer._getitem_axis\u001B[0;34m(self, key, axis)\u001B[0m\n\u001B[1;32m   1751\u001B[0m \u001B[38;5;66;03m# validate the location\u001B[39;00m\n\u001B[1;32m   1752\u001B[0m \u001B[38;5;28mself\u001B[39m\u001B[38;5;241m.\u001B[39m_validate_integer(key, axis)\n\u001B[0;32m-> 1754\u001B[0m \u001B[38;5;28;01mreturn\u001B[39;00m \u001B[38;5;28;43mself\u001B[39;49m\u001B[38;5;241;43m.\u001B[39;49m\u001B[43mobj\u001B[49m\u001B[38;5;241;43m.\u001B[39;49m\u001B[43m_ixs\u001B[49m\u001B[43m(\u001B[49m\u001B[43mkey\u001B[49m\u001B[43m,\u001B[49m\u001B[43m \u001B[49m\u001B[43maxis\u001B[49m\u001B[38;5;241;43m=\u001B[39;49m\u001B[43maxis\u001B[49m\u001B[43m)\u001B[49m\n",
      "File \u001B[0;32m~/PycharmProjects/q4-detect-medicine/.venv/lib/python3.12/site-packages/pandas/core/frame.py:3996\u001B[0m, in \u001B[0;36mDataFrame._ixs\u001B[0;34m(self, i, axis)\u001B[0m\n\u001B[1;32m   3994\u001B[0m \u001B[38;5;66;03m# irow\u001B[39;00m\n\u001B[1;32m   3995\u001B[0m \u001B[38;5;28;01mif\u001B[39;00m axis \u001B[38;5;241m==\u001B[39m \u001B[38;5;241m0\u001B[39m:\n\u001B[0;32m-> 3996\u001B[0m     new_mgr \u001B[38;5;241m=\u001B[39m \u001B[38;5;28;43mself\u001B[39;49m\u001B[38;5;241;43m.\u001B[39;49m\u001B[43m_mgr\u001B[49m\u001B[38;5;241;43m.\u001B[39;49m\u001B[43mfast_xs\u001B[49m\u001B[43m(\u001B[49m\u001B[43mi\u001B[49m\u001B[43m)\u001B[49m\n\u001B[1;32m   3998\u001B[0m     \u001B[38;5;66;03m# if we are a copy, mark as such\u001B[39;00m\n\u001B[1;32m   3999\u001B[0m     copy \u001B[38;5;241m=\u001B[39m \u001B[38;5;28misinstance\u001B[39m(new_mgr\u001B[38;5;241m.\u001B[39marray, np\u001B[38;5;241m.\u001B[39mndarray) \u001B[38;5;129;01mand\u001B[39;00m new_mgr\u001B[38;5;241m.\u001B[39marray\u001B[38;5;241m.\u001B[39mbase \u001B[38;5;129;01mis\u001B[39;00m \u001B[38;5;28;01mNone\u001B[39;00m\n",
      "File \u001B[0;32m~/PycharmProjects/q4-detect-medicine/.venv/lib/python3.12/site-packages/pandas/core/internals/managers.py:984\u001B[0m, in \u001B[0;36mBlockManager.fast_xs\u001B[0;34m(self, loc)\u001B[0m\n\u001B[1;32m    976\u001B[0m     block \u001B[38;5;241m=\u001B[39m new_block(\n\u001B[1;32m    977\u001B[0m         result,\n\u001B[1;32m    978\u001B[0m         placement\u001B[38;5;241m=\u001B[39mbp,\n\u001B[1;32m    979\u001B[0m         ndim\u001B[38;5;241m=\u001B[39m\u001B[38;5;241m1\u001B[39m,\n\u001B[1;32m    980\u001B[0m         refs\u001B[38;5;241m=\u001B[39m\u001B[38;5;28mself\u001B[39m\u001B[38;5;241m.\u001B[39mblocks[\u001B[38;5;241m0\u001B[39m]\u001B[38;5;241m.\u001B[39mrefs,\n\u001B[1;32m    981\u001B[0m     )\n\u001B[1;32m    982\u001B[0m     \u001B[38;5;28;01mreturn\u001B[39;00m SingleBlockManager(block, \u001B[38;5;28mself\u001B[39m\u001B[38;5;241m.\u001B[39maxes[\u001B[38;5;241m0\u001B[39m])\n\u001B[0;32m--> 984\u001B[0m dtype \u001B[38;5;241m=\u001B[39m \u001B[43minterleaved_dtype\u001B[49m\u001B[43m(\u001B[49m\u001B[43m[\u001B[49m\u001B[43mblk\u001B[49m\u001B[38;5;241;43m.\u001B[39;49m\u001B[43mdtype\u001B[49m\u001B[43m \u001B[49m\u001B[38;5;28;43;01mfor\u001B[39;49;00m\u001B[43m \u001B[49m\u001B[43mblk\u001B[49m\u001B[43m \u001B[49m\u001B[38;5;129;43;01min\u001B[39;49;00m\u001B[43m \u001B[49m\u001B[38;5;28;43mself\u001B[39;49m\u001B[38;5;241;43m.\u001B[39;49m\u001B[43mblocks\u001B[49m\u001B[43m]\u001B[49m\u001B[43m)\u001B[49m\n\u001B[1;32m    986\u001B[0m n \u001B[38;5;241m=\u001B[39m \u001B[38;5;28mlen\u001B[39m(\u001B[38;5;28mself\u001B[39m)\n\u001B[1;32m    988\u001B[0m \u001B[38;5;28;01mif\u001B[39;00m \u001B[38;5;28misinstance\u001B[39m(dtype, ExtensionDtype):\n\u001B[1;32m    989\u001B[0m     \u001B[38;5;66;03m# TODO: use object dtype as workaround for non-performant\u001B[39;00m\n\u001B[1;32m    990\u001B[0m     \u001B[38;5;66;03m#  EA.__setitem__ methods. (primarily ArrowExtensionArray.__setitem__\u001B[39;00m\n\u001B[1;32m    991\u001B[0m     \u001B[38;5;66;03m#  when iteratively setting individual values)\u001B[39;00m\n\u001B[1;32m    992\u001B[0m     \u001B[38;5;66;03m#  https://github.com/pandas-dev/pandas/pull/54508#issuecomment-1675827918\u001B[39;00m\n",
      "File \u001B[0;32m~/PycharmProjects/q4-detect-medicine/.venv/lib/python3.12/site-packages/pandas/core/internals/base.py:394\u001B[0m, in \u001B[0;36minterleaved_dtype\u001B[0;34m(dtypes)\u001B[0m\n\u001B[1;32m    391\u001B[0m \u001B[38;5;28;01mif\u001B[39;00m \u001B[38;5;129;01mnot\u001B[39;00m \u001B[38;5;28mlen\u001B[39m(dtypes):\n\u001B[1;32m    392\u001B[0m     \u001B[38;5;28;01mreturn\u001B[39;00m \u001B[38;5;28;01mNone\u001B[39;00m\n\u001B[0;32m--> 394\u001B[0m \u001B[38;5;28;01mreturn\u001B[39;00m \u001B[43mfind_common_type\u001B[49m\u001B[43m(\u001B[49m\u001B[43mdtypes\u001B[49m\u001B[43m)\u001B[49m\n",
      "File \u001B[0;32m~/PycharmProjects/q4-detect-medicine/.venv/lib/python3.12/site-packages/pandas/core/dtypes/cast.py:1466\u001B[0m, in \u001B[0;36mfind_common_type\u001B[0;34m(types)\u001B[0m\n\u001B[1;32m   1464\u001B[0m \u001B[38;5;28;01mfor\u001B[39;00m t \u001B[38;5;129;01min\u001B[39;00m types:\n\u001B[1;32m   1465\u001B[0m     \u001B[38;5;28;01mif\u001B[39;00m \u001B[38;5;28misinstance\u001B[39m(t, ExtensionDtype):\n\u001B[0;32m-> 1466\u001B[0m         res \u001B[38;5;241m=\u001B[39m \u001B[43mt\u001B[49m\u001B[38;5;241;43m.\u001B[39;49m\u001B[43m_get_common_dtype\u001B[49m\u001B[43m(\u001B[49m\u001B[43mtypes\u001B[49m\u001B[43m)\u001B[49m\n\u001B[1;32m   1467\u001B[0m         \u001B[38;5;28;01mif\u001B[39;00m res \u001B[38;5;129;01mis\u001B[39;00m \u001B[38;5;129;01mnot\u001B[39;00m \u001B[38;5;28;01mNone\u001B[39;00m:\n\u001B[1;32m   1468\u001B[0m             \u001B[38;5;28;01mreturn\u001B[39;00m res\n",
      "File \u001B[0;32m~/PycharmProjects/q4-detect-medicine/.venv/lib/python3.12/site-packages/pandas/core/dtypes/dtypes.py:2327\u001B[0m, in \u001B[0;36mArrowDtype._get_common_dtype\u001B[0;34m(self, dtypes)\u001B[0m\n\u001B[1;32m   2323\u001B[0m \u001B[38;5;28;01mfrom\u001B[39;00m \u001B[38;5;21;01mpandas\u001B[39;00m\u001B[38;5;21;01m.\u001B[39;00m\u001B[38;5;21;01mcore\u001B[39;00m\u001B[38;5;21;01m.\u001B[39;00m\u001B[38;5;21;01mdtypes\u001B[39;00m\u001B[38;5;21;01m.\u001B[39;00m\u001B[38;5;21;01mcast\u001B[39;00m \u001B[38;5;28;01mimport\u001B[39;00m find_common_type\n\u001B[1;32m   2325\u001B[0m null_dtype \u001B[38;5;241m=\u001B[39m \u001B[38;5;28mtype\u001B[39m(\u001B[38;5;28mself\u001B[39m)(pa\u001B[38;5;241m.\u001B[39mnull())\n\u001B[0;32m-> 2327\u001B[0m new_dtype \u001B[38;5;241m=\u001B[39m \u001B[43mfind_common_type\u001B[49m\u001B[43m(\u001B[49m\n\u001B[1;32m   2328\u001B[0m \u001B[43m    \u001B[49m\u001B[43m[\u001B[49m\n\u001B[1;32m   2329\u001B[0m \u001B[43m        \u001B[49m\u001B[43mdtype\u001B[49m\u001B[38;5;241;43m.\u001B[39;49m\u001B[43mnumpy_dtype\u001B[49m\u001B[43m \u001B[49m\u001B[38;5;28;43;01mif\u001B[39;49;00m\u001B[43m \u001B[49m\u001B[38;5;28;43misinstance\u001B[39;49m\u001B[43m(\u001B[49m\u001B[43mdtype\u001B[49m\u001B[43m,\u001B[49m\u001B[43m \u001B[49m\u001B[43mArrowDtype\u001B[49m\u001B[43m)\u001B[49m\u001B[43m \u001B[49m\u001B[38;5;28;43;01melse\u001B[39;49;00m\u001B[43m \u001B[49m\u001B[43mdtype\u001B[49m\n\u001B[1;32m   2330\u001B[0m \u001B[43m        \u001B[49m\u001B[38;5;28;43;01mfor\u001B[39;49;00m\u001B[43m \u001B[49m\u001B[43mdtype\u001B[49m\u001B[43m \u001B[49m\u001B[38;5;129;43;01min\u001B[39;49;00m\u001B[43m \u001B[49m\u001B[43mdtypes\u001B[49m\n\u001B[1;32m   2331\u001B[0m \u001B[43m        \u001B[49m\u001B[38;5;28;43;01mif\u001B[39;49;00m\u001B[43m \u001B[49m\u001B[43mdtype\u001B[49m\u001B[43m \u001B[49m\u001B[38;5;241;43m!=\u001B[39;49m\u001B[43m \u001B[49m\u001B[43mnull_dtype\u001B[49m\n\u001B[1;32m   2332\u001B[0m \u001B[43m    \u001B[49m\u001B[43m]\u001B[49m\n\u001B[1;32m   2333\u001B[0m \u001B[43m\u001B[49m\u001B[43m)\u001B[49m\n\u001B[1;32m   2334\u001B[0m \u001B[38;5;28;01mif\u001B[39;00m \u001B[38;5;129;01mnot\u001B[39;00m \u001B[38;5;28misinstance\u001B[39m(new_dtype, np\u001B[38;5;241m.\u001B[39mdtype):\n\u001B[1;32m   2335\u001B[0m     \u001B[38;5;28;01mreturn\u001B[39;00m \u001B[38;5;28;01mNone\u001B[39;00m\n",
      "File \u001B[0;32m~/PycharmProjects/q4-detect-medicine/.venv/lib/python3.12/site-packages/pandas/core/dtypes/cast.py:1485\u001B[0m, in \u001B[0;36mfind_common_type\u001B[0;34m(types)\u001B[0m\n\u001B[1;32m   1482\u001B[0m         \u001B[38;5;28;01mif\u001B[39;00m t\u001B[38;5;241m.\u001B[39mkind \u001B[38;5;129;01min\u001B[39;00m \u001B[38;5;124m\"\u001B[39m\u001B[38;5;124miufc\u001B[39m\u001B[38;5;124m\"\u001B[39m:\n\u001B[1;32m   1483\u001B[0m             \u001B[38;5;28;01mreturn\u001B[39;00m np\u001B[38;5;241m.\u001B[39mdtype(\u001B[38;5;124m\"\u001B[39m\u001B[38;5;124mobject\u001B[39m\u001B[38;5;124m\"\u001B[39m)\n\u001B[0;32m-> 1485\u001B[0m \u001B[38;5;28;01mreturn\u001B[39;00m \u001B[43mnp_find_common_type\u001B[49m\u001B[43m(\u001B[49m\u001B[38;5;241;43m*\u001B[39;49m\u001B[43mtypes\u001B[49m\u001B[43m)\u001B[49m\n",
      "File \u001B[0;32m~/PycharmProjects/q4-detect-medicine/.venv/lib/python3.12/site-packages/pandas/core/dtypes/cast.py:1411\u001B[0m, in \u001B[0;36mnp_find_common_type\u001B[0;34m(*dtypes)\u001B[0m\n\u001B[1;32m   1406\u001B[0m     common_dtype \u001B[38;5;241m=\u001B[39m np\u001B[38;5;241m.\u001B[39mresult_type(\u001B[38;5;241m*\u001B[39mdtypes)\n\u001B[1;32m   1407\u001B[0m     \u001B[38;5;28;01mif\u001B[39;00m common_dtype\u001B[38;5;241m.\u001B[39mkind \u001B[38;5;129;01min\u001B[39;00m \u001B[38;5;124m\"\u001B[39m\u001B[38;5;124mmMSU\u001B[39m\u001B[38;5;124m\"\u001B[39m:\n\u001B[1;32m   1408\u001B[0m         \u001B[38;5;66;03m# NumPy promotion currently (1.25) misbehaves for for times and strings,\u001B[39;00m\n\u001B[1;32m   1409\u001B[0m         \u001B[38;5;66;03m# so fall back to object (find_common_dtype did unless there\u001B[39;00m\n\u001B[1;32m   1410\u001B[0m         \u001B[38;5;66;03m# was only one dtype)\u001B[39;00m\n\u001B[0;32m-> 1411\u001B[0m         common_dtype \u001B[38;5;241m=\u001B[39m \u001B[43mnp\u001B[49m\u001B[38;5;241;43m.\u001B[39;49m\u001B[43mdtype\u001B[49m\u001B[43m(\u001B[49m\u001B[38;5;124;43m\"\u001B[39;49m\u001B[38;5;124;43mO\u001B[39;49m\u001B[38;5;124;43m\"\u001B[39;49m\u001B[43m)\u001B[49m\n\u001B[1;32m   1413\u001B[0m \u001B[38;5;28;01mexcept\u001B[39;00m \u001B[38;5;167;01mTypeError\u001B[39;00m:\n\u001B[1;32m   1414\u001B[0m     common_dtype \u001B[38;5;241m=\u001B[39m np\u001B[38;5;241m.\u001B[39mdtype(\u001B[38;5;124m\"\u001B[39m\u001B[38;5;124mO\u001B[39m\u001B[38;5;124m\"\u001B[39m)\n",
      "\u001B[0;31mKeyboardInterrupt\u001B[0m: "
     ]
    }
   ],
   "execution_count": 18
  },
  {
   "metadata": {
    "ExecuteTime": {
     "end_time": "2024-05-17T10:41:00.142473Z",
     "start_time": "2024-05-17T10:40:53.954777Z"
    }
   },
   "cell_type": "code",
   "source": [
    "model.eval() \n",
    "correct = 0\n",
    "total = 0\n",
    "\n",
    "with torch.no_grad():\n",
    "    for data in tqdm(test_loader, desc=\"Testing\"):\n",
    "        outputs = model(data)\n",
    "        predicted = (outputs > 0.5).float() \n",
    "        labels = data.y.view(-1)\n",
    "        total += labels.size(0)\n",
    "        correct += (predicted == labels).sum().item()\n",
    "\n",
    "# Compute accuracy\n",
    "accuracy = 100 * correct / total\n",
    "print('Accuracy on the test dataset: {:.2f}%'.format(accuracy))\n"
   ],
   "id": "fc3acc798d8536cb",
   "outputs": [
    {
     "name": "stderr",
     "output_type": "stream",
     "text": [
      "Testing:   1%|▏         | 6/430 [00:06<07:15,  1.03s/it]\n"
     ]
    },
    {
     "ename": "KeyboardInterrupt",
     "evalue": "",
     "output_type": "error",
     "traceback": [
      "\u001B[0;31m---------------------------------------------------------------------------\u001B[0m",
      "\u001B[0;31mKeyboardInterrupt\u001B[0m                         Traceback (most recent call last)",
      "Cell \u001B[0;32mIn[19], line 6\u001B[0m\n\u001B[1;32m      3\u001B[0m total \u001B[38;5;241m=\u001B[39m \u001B[38;5;241m0\u001B[39m\n\u001B[1;32m      5\u001B[0m \u001B[38;5;28;01mwith\u001B[39;00m torch\u001B[38;5;241m.\u001B[39mno_grad():\n\u001B[0;32m----> 6\u001B[0m \u001B[43m    \u001B[49m\u001B[38;5;28;43;01mfor\u001B[39;49;00m\u001B[43m \u001B[49m\u001B[43mdata\u001B[49m\u001B[43m \u001B[49m\u001B[38;5;129;43;01min\u001B[39;49;00m\u001B[43m \u001B[49m\u001B[43mtqdm\u001B[49m\u001B[43m(\u001B[49m\u001B[43mtest_loader\u001B[49m\u001B[43m,\u001B[49m\u001B[43m \u001B[49m\u001B[43mdesc\u001B[49m\u001B[38;5;241;43m=\u001B[39;49m\u001B[38;5;124;43m\"\u001B[39;49m\u001B[38;5;124;43mTesting\u001B[39;49m\u001B[38;5;124;43m\"\u001B[39;49m\u001B[43m)\u001B[49m\u001B[43m:\u001B[49m\n\u001B[1;32m      7\u001B[0m \u001B[43m        \u001B[49m\u001B[43moutputs\u001B[49m\u001B[43m \u001B[49m\u001B[38;5;241;43m=\u001B[39;49m\u001B[43m \u001B[49m\u001B[43mmodel\u001B[49m\u001B[43m(\u001B[49m\u001B[43mdata\u001B[49m\u001B[43m)\u001B[49m\n\u001B[1;32m      8\u001B[0m \u001B[43m        \u001B[49m\u001B[43mpredicted\u001B[49m\u001B[43m \u001B[49m\u001B[38;5;241;43m=\u001B[39;49m\u001B[43m \u001B[49m\u001B[43m(\u001B[49m\u001B[43moutputs\u001B[49m\u001B[43m \u001B[49m\u001B[38;5;241;43m>\u001B[39;49m\u001B[43m \u001B[49m\u001B[38;5;241;43m0.5\u001B[39;49m\u001B[43m)\u001B[49m\u001B[38;5;241;43m.\u001B[39;49m\u001B[43mfloat\u001B[49m\u001B[43m(\u001B[49m\u001B[43m)\u001B[49m\u001B[43m \u001B[49m\n",
      "File \u001B[0;32m~/PycharmProjects/q4-detect-medicine/.venv/lib/python3.12/site-packages/tqdm/std.py:1181\u001B[0m, in \u001B[0;36mtqdm.__iter__\u001B[0;34m(self)\u001B[0m\n\u001B[1;32m   1178\u001B[0m time \u001B[38;5;241m=\u001B[39m \u001B[38;5;28mself\u001B[39m\u001B[38;5;241m.\u001B[39m_time\n\u001B[1;32m   1180\u001B[0m \u001B[38;5;28;01mtry\u001B[39;00m:\n\u001B[0;32m-> 1181\u001B[0m \u001B[43m    \u001B[49m\u001B[38;5;28;43;01mfor\u001B[39;49;00m\u001B[43m \u001B[49m\u001B[43mobj\u001B[49m\u001B[43m \u001B[49m\u001B[38;5;129;43;01min\u001B[39;49;00m\u001B[43m \u001B[49m\u001B[43miterable\u001B[49m\u001B[43m:\u001B[49m\n\u001B[1;32m   1182\u001B[0m \u001B[43m        \u001B[49m\u001B[38;5;28;43;01myield\u001B[39;49;00m\u001B[43m \u001B[49m\u001B[43mobj\u001B[49m\n\u001B[1;32m   1183\u001B[0m \u001B[43m        \u001B[49m\u001B[38;5;66;43;03m# Update and possibly print the progressbar.\u001B[39;49;00m\n\u001B[1;32m   1184\u001B[0m \u001B[43m        \u001B[49m\u001B[38;5;66;43;03m# Note: does not call self.update(1) for speed optimisation.\u001B[39;49;00m\n",
      "File \u001B[0;32m~/PycharmProjects/q4-detect-medicine/.venv/lib/python3.12/site-packages/torch/utils/data/dataloader.py:631\u001B[0m, in \u001B[0;36m_BaseDataLoaderIter.__next__\u001B[0;34m(self)\u001B[0m\n\u001B[1;32m    628\u001B[0m \u001B[38;5;28;01mif\u001B[39;00m \u001B[38;5;28mself\u001B[39m\u001B[38;5;241m.\u001B[39m_sampler_iter \u001B[38;5;129;01mis\u001B[39;00m \u001B[38;5;28;01mNone\u001B[39;00m:\n\u001B[1;32m    629\u001B[0m     \u001B[38;5;66;03m# TODO(https://github.com/pytorch/pytorch/issues/76750)\u001B[39;00m\n\u001B[1;32m    630\u001B[0m     \u001B[38;5;28mself\u001B[39m\u001B[38;5;241m.\u001B[39m_reset()  \u001B[38;5;66;03m# type: ignore[call-arg]\u001B[39;00m\n\u001B[0;32m--> 631\u001B[0m data \u001B[38;5;241m=\u001B[39m \u001B[38;5;28;43mself\u001B[39;49m\u001B[38;5;241;43m.\u001B[39;49m\u001B[43m_next_data\u001B[49m\u001B[43m(\u001B[49m\u001B[43m)\u001B[49m\n\u001B[1;32m    632\u001B[0m \u001B[38;5;28mself\u001B[39m\u001B[38;5;241m.\u001B[39m_num_yielded \u001B[38;5;241m+\u001B[39m\u001B[38;5;241m=\u001B[39m \u001B[38;5;241m1\u001B[39m\n\u001B[1;32m    633\u001B[0m \u001B[38;5;28;01mif\u001B[39;00m \u001B[38;5;28mself\u001B[39m\u001B[38;5;241m.\u001B[39m_dataset_kind \u001B[38;5;241m==\u001B[39m _DatasetKind\u001B[38;5;241m.\u001B[39mIterable \u001B[38;5;129;01mand\u001B[39;00m \\\n\u001B[1;32m    634\u001B[0m         \u001B[38;5;28mself\u001B[39m\u001B[38;5;241m.\u001B[39m_IterableDataset_len_called \u001B[38;5;129;01mis\u001B[39;00m \u001B[38;5;129;01mnot\u001B[39;00m \u001B[38;5;28;01mNone\u001B[39;00m \u001B[38;5;129;01mand\u001B[39;00m \\\n\u001B[1;32m    635\u001B[0m         \u001B[38;5;28mself\u001B[39m\u001B[38;5;241m.\u001B[39m_num_yielded \u001B[38;5;241m>\u001B[39m \u001B[38;5;28mself\u001B[39m\u001B[38;5;241m.\u001B[39m_IterableDataset_len_called:\n",
      "File \u001B[0;32m~/PycharmProjects/q4-detect-medicine/.venv/lib/python3.12/site-packages/torch/utils/data/dataloader.py:675\u001B[0m, in \u001B[0;36m_SingleProcessDataLoaderIter._next_data\u001B[0;34m(self)\u001B[0m\n\u001B[1;32m    673\u001B[0m \u001B[38;5;28;01mdef\u001B[39;00m \u001B[38;5;21m_next_data\u001B[39m(\u001B[38;5;28mself\u001B[39m):\n\u001B[1;32m    674\u001B[0m     index \u001B[38;5;241m=\u001B[39m \u001B[38;5;28mself\u001B[39m\u001B[38;5;241m.\u001B[39m_next_index()  \u001B[38;5;66;03m# may raise StopIteration\u001B[39;00m\n\u001B[0;32m--> 675\u001B[0m     data \u001B[38;5;241m=\u001B[39m \u001B[38;5;28;43mself\u001B[39;49m\u001B[38;5;241;43m.\u001B[39;49m\u001B[43m_dataset_fetcher\u001B[49m\u001B[38;5;241;43m.\u001B[39;49m\u001B[43mfetch\u001B[49m\u001B[43m(\u001B[49m\u001B[43mindex\u001B[49m\u001B[43m)\u001B[49m  \u001B[38;5;66;03m# may raise StopIteration\u001B[39;00m\n\u001B[1;32m    676\u001B[0m     \u001B[38;5;28;01mif\u001B[39;00m \u001B[38;5;28mself\u001B[39m\u001B[38;5;241m.\u001B[39m_pin_memory:\n\u001B[1;32m    677\u001B[0m         data \u001B[38;5;241m=\u001B[39m _utils\u001B[38;5;241m.\u001B[39mpin_memory\u001B[38;5;241m.\u001B[39mpin_memory(data, \u001B[38;5;28mself\u001B[39m\u001B[38;5;241m.\u001B[39m_pin_memory_device)\n",
      "File \u001B[0;32m~/PycharmProjects/q4-detect-medicine/.venv/lib/python3.12/site-packages/torch/utils/data/_utils/fetch.py:51\u001B[0m, in \u001B[0;36m_MapDatasetFetcher.fetch\u001B[0;34m(self, possibly_batched_index)\u001B[0m\n\u001B[1;32m     49\u001B[0m         data \u001B[38;5;241m=\u001B[39m \u001B[38;5;28mself\u001B[39m\u001B[38;5;241m.\u001B[39mdataset\u001B[38;5;241m.\u001B[39m__getitems__(possibly_batched_index)\n\u001B[1;32m     50\u001B[0m     \u001B[38;5;28;01melse\u001B[39;00m:\n\u001B[0;32m---> 51\u001B[0m         data \u001B[38;5;241m=\u001B[39m [\u001B[38;5;28;43mself\u001B[39;49m\u001B[38;5;241;43m.\u001B[39;49m\u001B[43mdataset\u001B[49m\u001B[43m[\u001B[49m\u001B[43midx\u001B[49m\u001B[43m]\u001B[49m \u001B[38;5;28;01mfor\u001B[39;00m idx \u001B[38;5;129;01min\u001B[39;00m possibly_batched_index]\n\u001B[1;32m     52\u001B[0m \u001B[38;5;28;01melse\u001B[39;00m:\n\u001B[1;32m     53\u001B[0m     data \u001B[38;5;241m=\u001B[39m \u001B[38;5;28mself\u001B[39m\u001B[38;5;241m.\u001B[39mdataset[possibly_batched_index]\n",
      "Cell \u001B[0;32mIn[10], line 52\u001B[0m, in \u001B[0;36mMoleculeDataset.__getitem__\u001B[0;34m(self, idx)\u001B[0m\n\u001B[1;32m     50\u001B[0m smiles \u001B[38;5;241m=\u001B[39m row[\u001B[38;5;124m'\u001B[39m\u001B[38;5;124mmolecule_smiles\u001B[39m\u001B[38;5;124m'\u001B[39m]\n\u001B[1;32m     51\u001B[0m target \u001B[38;5;241m=\u001B[39m row[\u001B[38;5;28mself\u001B[39m\u001B[38;5;241m.\u001B[39mtarget_column]\n\u001B[0;32m---> 52\u001B[0m data \u001B[38;5;241m=\u001B[39m \u001B[43msmiles_to_graph\u001B[49m\u001B[43m(\u001B[49m\u001B[43msmiles\u001B[49m\u001B[43m)\u001B[49m\n\u001B[1;32m     53\u001B[0m \u001B[38;5;28;01mif\u001B[39;00m data \u001B[38;5;129;01mis\u001B[39;00m \u001B[38;5;28;01mNone\u001B[39;00m:\n\u001B[1;32m     54\u001B[0m     \u001B[38;5;28;01mreturn\u001B[39;00m \u001B[38;5;28;01mNone\u001B[39;00m \n",
      "Cell \u001B[0;32mIn[10], line 30\u001B[0m, in \u001B[0;36msmiles_to_graph\u001B[0;34m(smiles)\u001B[0m\n\u001B[1;32m     28\u001B[0m \u001B[38;5;28;01mfor\u001B[39;00m bond \u001B[38;5;129;01min\u001B[39;00m mol\u001B[38;5;241m.\u001B[39mGetBonds():\n\u001B[1;32m     29\u001B[0m     edges\u001B[38;5;241m.\u001B[39mappend((bond\u001B[38;5;241m.\u001B[39mGetBeginAtomIdx(), bond\u001B[38;5;241m.\u001B[39mGetEndAtomIdx()))\n\u001B[0;32m---> 30\u001B[0m     edge_features\u001B[38;5;241m.\u001B[39mappend([\u001B[43mbond\u001B[49m\u001B[38;5;241;43m.\u001B[39;49m\u001B[43mGetBondTypeAsDouble\u001B[49m\u001B[43m(\u001B[49m\u001B[43m)\u001B[49m])\n\u001B[1;32m     32\u001B[0m edge_index \u001B[38;5;241m=\u001B[39m torch\u001B[38;5;241m.\u001B[39mtensor(edges, dtype\u001B[38;5;241m=\u001B[39mtorch\u001B[38;5;241m.\u001B[39mlong)\u001B[38;5;241m.\u001B[39mt()\u001B[38;5;241m.\u001B[39mcontiguous()\n\u001B[1;32m     33\u001B[0m x \u001B[38;5;241m=\u001B[39m torch\u001B[38;5;241m.\u001B[39mtensor(node_features, dtype\u001B[38;5;241m=\u001B[39mtorch\u001B[38;5;241m.\u001B[39mfloat)\n",
      "\u001B[0;31mKeyboardInterrupt\u001B[0m: "
     ]
    }
   ],
   "execution_count": 19
  },
  {
   "metadata": {
    "ExecuteTime": {
     "end_time": "2024-05-17T10:41:03.474896Z",
     "start_time": "2024-05-17T10:41:03.471115Z"
    }
   },
   "cell_type": "code",
   "source": [
    "def construct_interaction_graph(smiles, protein, protein_structure, cutoff=5.0):\n",
    "    mol = Chem.MolFromSmiles(smiles)\n",
    "    if mol is None:\n",
    "        # Handle invalid SMILES input\n",
    "        return None\n",
    "\n",
    "    parser = PDBParser()\n",
    "    structure = parser.get_structure(protein, protein_structure)\n",
    "    model = structure[0]\n",
    "\n",
    "    G = nx.Graph()\n",
    "\n",
    "    # Add ligand atoms to graph\n",
    "    for idx, atom in enumerate(mol.GetAtoms()):\n",
    "        features = [\n",
    "            atom.GetAtomicNum(),\n",
    "            atom.GetDegree(),\n",
    "            atom.GetFormalCharge(),\n",
    "            atom.GetHybridization().real\n",
    "        ]\n",
    "        G.add_node(idx, features=torch.tensor(features, dtype=torch.float), type='ligand')\n",
    "\n",
    "    # Add protein residues to graph\n",
    "    residue_idx = mol.GetNumAtoms()\n",
    "    for residue in model.get_residues():\n",
    "        if residue.get_resname() not in ['HOH']:  # Exclude water\n",
    "            G.add_node(residue_idx, features=residue.get_resname(), type='protein')\n",
    "            residue_idx += 1\n",
    "\n",
    "    # Create edges based on distance\n",
    "    for i in range(mol.GetNumAtoms()):\n",
    "        ligand_pos = mol.GetConformer().GetAtomPosition(i)\n",
    "        for j, protein_atom in enumerate(model.get_atoms()):\n",
    "            if protein_atom.get_parent().get_resname() != 'HOH':\n",
    "                if np.linalg.norm(np.array(ligand_pos) - np.array(protein_atom.coord)) < cutoff:\n",
    "                    G.add_edge(i, mol.GetNumAtoms() + j)\n",
    "\n",
    "    edge_index = torch.tensor(list(G.edges)).t().contiguous()\n",
    "    x_list = []\n",
    "    for i in G.nodes:\n",
    "        features = G.nodes[i]['features']\n",
    "        if isinstance(features, str):\n",
    "            continue \n",
    "        try:\n",
    "            feature_tensor = torch.tensor(features, dtype=torch.float)\n",
    "        except ValueError:\n",
    "            continue\n",
    "        x_list.append(feature_tensor)\n",
    "    x = torch.stack(x_list, dim=0)\n",
    "    return Data(x=x, edge_index=edge_index)\n",
    "\n",
    "\n",
    "\n",
    "class MoleculeDataset(Dataset):\n",
    "    def __init__(self, dataframe, target_column):\n",
    "        super(MoleculeDataset, self).__init__()\n",
    "        self.dataframe = dataframe\n",
    "        self.target_column = target_column\n",
    "    \n",
    "    def __len__(self):\n",
    "        return len(self.dataframe)\n",
    "    \n",
    "    def __getitem__(self, idx):\n",
    "        row = self.dataframe.iloc[idx]\n",
    "        smiles = row['molecule_smiles']\n",
    "        target = row[self.target_column]\n",
    "        data = construct_interaction_graph(smiles, 'P34913', '/home/daniel-de-dios/Downloads/3i28.pdb' ,cutoff= 0.1)\n",
    "        if data is None:\n",
    "            return None \n",
    "        data.y = torch.tensor([target], dtype=torch.float)\n",
    "        return data\n"
   ],
   "id": "9b512c71f42f428",
   "outputs": [],
   "execution_count": 20
  },
  {
   "metadata": {
    "ExecuteTime": {
     "end_time": "2024-05-17T10:41:05.366114Z",
     "start_time": "2024-05-17T10:41:05.363460Z"
    }
   },
   "cell_type": "code",
   "source": [
    "import torch_geometric\n",
    "\n",
    "dataset = MoleculeDataset(train_df, 'binds_sEH')\n",
    "def collate_fn(batch):\n",
    "    batch = [item for item in batch if item is not None]\n",
    "    if len(batch) == 0:\n",
    "        return None  \n",
    "    return torch_geometric.data.Batch.from_data_list(batch)\n",
    "\n",
    "train_loader = DataLoader(dataset, batch_size=20000, shuffle=True, collate_fn=collate_fn)\n",
    "if len(train_loader) == 0:\n",
    "    raise ValueError(\"DataLoader is empty. Check the dataset and collation settings.\")\n",
    "\n",
    "test_dataset = MoleculeDataset(test_df, 'is_sEH')\n",
    "test_loader = DataLoader(test_dataset, batch_size=2000, shuffle=False, collate_fn=collate_fn)"
   ],
   "id": "613b05015886b4a8",
   "outputs": [
    {
     "name": "stderr",
     "output_type": "stream",
     "text": [
      "/home/daniel-de-dios/PycharmProjects/q4-detect-medicine/.venv/lib/python3.12/site-packages/torch_geometric/deprecation.py:26: UserWarning: 'data.DataLoader' is deprecated, use 'loader.DataLoader' instead\n",
      "  warnings.warn(out)\n"
     ]
    }
   ],
   "execution_count": 21
  },
  {
   "metadata": {
    "ExecuteTime": {
     "end_time": "2024-05-17T10:41:09.809978Z",
     "start_time": "2024-05-17T10:41:09.807455Z"
    }
   },
   "cell_type": "code",
   "source": [
    "from torch.nn.functional import sigmoid\n",
    "import torch.nn.functional as F\n",
    "import torch_geometric.nn as pyg_nn\n",
    "from torch.nn import Linear\n",
    "\n",
    "class GCN(torch.nn.Module):\n",
    "    def __init__(self, num_node_features):\n",
    "        super(GCN, self).__init__()\n",
    "        self.conv1 = pyg_nn.GCNConv(num_node_features, 16)  \n",
    "        self.conv2 = pyg_nn.GCNConv(16, 16) \n",
    "        self.fc = Linear(16, 1) \n",
    "\n",
    "    def forward(self, data):\n",
    "        x, edge_index, batch = data.x, data.edge_index, data.batch\n",
    "        \n",
    "        device = next(self.parameters()).device\n",
    "        batch = batch.to(device)\n",
    "        x = x.to(device)\n",
    "        edge_index = edge_index.to(device)\n",
    "        \n",
    "        if x.size(1) != self.conv1.in_channels:\n",
    "            self.conv1 = pyg_nn.GCNConv(x.size(1), 16).to(device)\n",
    "        else:\n",
    "            self.conv1 = self.conv1.to(device)\n",
    "        \n",
    "        x = F.relu(self.conv1(x, edge_index))\n",
    "        x = F.relu(self.conv2(x, edge_index))\n",
    "        x = pyg_nn.global_mean_pool(x, batch)\n",
    "        x = self.fc(x).squeeze()\n",
    "        return sigmoid(x)"
   ],
   "id": "9ccb4bba1237b314",
   "outputs": [],
   "execution_count": 22
  },
  {
   "metadata": {},
   "cell_type": "code",
   "outputs": [],
   "execution_count": null,
   "source": "",
   "id": "bf0445d17514119f"
  }
 ],
 "metadata": {
  "kernelspec": {
   "display_name": "Python 3",
   "language": "python",
   "name": "python3"
  },
  "language_info": {
   "codemirror_mode": {
    "name": "ipython",
    "version": 2
   },
   "file_extension": ".py",
   "mimetype": "text/x-python",
   "name": "python",
   "nbconvert_exporter": "python",
   "pygments_lexer": "ipython2",
   "version": "2.7.6"
  }
 },
 "nbformat": 4,
 "nbformat_minor": 5
}
