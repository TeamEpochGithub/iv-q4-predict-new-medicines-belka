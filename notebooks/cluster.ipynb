{
 "cells": [
  {
   "cell_type": "code",
   "execution_count": 1,
   "metadata": {},
   "source": [
    "# Imports\n",
    "import numpy as np\n",
    "import pandas as pd\n",
    "import pickle\n",
    "from pathlib import Path\n",
    "from rdkit import Chem\n",
    "from rdkit.Chem import Draw\n",
    "from rdkit.Chem import Descriptors\n",
    "import seaborn as sn\n",
    "import dask\n",
    "from dask.distributed import Client\n",
    "import dask.bag as db"
   ],
   "outputs": []
  },
  {
   "cell_type": "code",
   "execution_count": 2,
   "metadata": {},
   "source": [
    "dtypes = {'buildingblock1_smiles': np.int16, 'buildingblock2_smiles': np.int16, 'buildingblock3_smiles': np.int16,\n",
    "          'binds_BRD4':np.byte, 'binds_HSA':np.byte, 'binds_sEH':np.byte}\n",
    "\n",
    "directory = Path(\"../data/shrunken/\")\n",
    "train = pd.read_parquet(directory / \"train.parquet\")"
   ],
   "outputs": []
  },
  {
   "cell_type": "code",
   "execution_count": 3,
   "metadata": {},
   "source": [
    "BBs_dict_reverse_1 = pickle.load(open(directory / 'train_dicts/BBs_dict_reverse_1.p', 'br'))\n",
    "BBs_dict_reverse_2 = pickle.load(open(directory / 'train_dicts/BBs_dict_reverse_2.p', 'br'))\n",
    "BBs_dict_reverse_3 = pickle.load(open(directory / 'train_dicts/BBs_dict_reverse_3.p', 'br'))"
   ],
   "outputs": []
  },
  {
   "cell_type": "code",
   "execution_count": 4,
   "metadata": {},
   "source": [
    "client = Client()"
   ],
   "outputs": []
  },
  {
   "cell_type": "code",
   "execution_count": 5,
   "metadata": {},
   "source": [
    "# Get 25 descriptors\n",
    "desc_list = [desc_func for desc_name, desc_func in Descriptors._descList][:18]\n",
    "desc_names = [desc_name for desc_name, desc_func in Descriptors._descList][:18]\n",
    "\n",
    "def calculate_single_descriptor(mol, desc):\n",
    "    return desc(mol)\n",
    "\n",
    "# Create a function to calculate descriptors\n",
    "def calculate_descriptors(smiles):\n",
    "    mol = Chem.MolFromSmiles(smiles)\n",
    "    desc = [calculate_single_descriptor(mol, desc) for desc in desc_list]\n",
    "    return desc\n"
   ],
   "outputs": []
  },
  {
   "cell_type": "code",
   "execution_count": 6,
   "metadata": {},
   "source": [
    "# Create train dataset with 25% binds_BRD4 or binds_HSA or binds_sEH and 75% no binds\n",
    "train_df = train[(train.binds_BRD4 == 1) | (train.binds_HSA == 1) | (train.binds_sEH == 1)].sample(n=2000)\n",
    "train_df = pd.concat([train_df, train[(train.binds_BRD4 == 0) & (train.binds_HSA == 0) & (train.binds_sEH == 0)].sample(n=8000)])\n",
    "train_df.reset_index(drop=True, inplace=True)"
   ],
   "outputs": []
  },
  {
   "cell_type": "code",
   "execution_count": 7,
   "metadata": {},
   "source": [
    "# Sample from the train dataset 10,000\n",
    "# train_df = train.sample(n=10000)"
   ],
   "outputs": []
  },
  {
   "cell_type": "code",
   "execution_count": 8,
   "metadata": {},
   "source": [
    "b = db.from_sequence(train_df.molecule_smiles)\n",
    "descriptors = b.map(calculate_descriptors)"
   ],
   "outputs": []
  },
  {
   "cell_type": "code",
   "execution_count": 9,
   "metadata": {},
   "source": [
    "descriptors = descriptors.compute()"
   ],
   "outputs": []
  },
  {
   "cell_type": "code",
   "execution_count": 10,
   "metadata": {},
   "source": [
    "len(descriptors)"
   ],
   "outputs": []
  },
  {
   "cell_type": "code",
   "execution_count": 11,
   "metadata": {},
   "source": [
    "# Create a dataframe\n",
    "desc_df = pd.DataFrame(descriptors, columns=desc_names)\n",
    "\n",
    "# Add the target columns\n",
    "desc_df['binds_BRD4'] = train_df.binds_BRD4\n",
    "desc_df['binds_HSA'] = train_df.binds_HSA\n",
    "desc_df['binds_sEH'] = train_df.binds_sEH"
   ],
   "outputs": []
  },
  {
   "cell_type": "code",
   "execution_count": 12,
   "metadata": {},
   "source": [
    "print(f\"Percentage of rows with at least one binding: {desc_df[(desc_df.binds_BRD4 == 1) | (desc_df.binds_HSA == 1) | (desc_df.binds_sEH == 1)].shape[0] / desc_df.shape[0] * 100:.2f}%\")"
   ],
   "outputs": []
  },
  {
   "cell_type": "code",
   "execution_count": 13,
   "metadata": {},
   "source": [
    "# Number of rows with at least one binding\n",
    "desc_df[(desc_df.binds_BRD4 == 1) | (desc_df.binds_HSA == 1) | (desc_df.binds_sEH == 1)].shape[0]"
   ],
   "outputs": []
  },
  {
   "cell_type": "code",
   "execution_count": 14,
   "metadata": {},
   "source": [
    "# Replace NaN values with 0\n",
    "desc_df.fillna(0, inplace=True)\n",
    "\n",
    "# Replace inf values with 0\n",
    "desc_df.replace([np.inf, -np.inf], 0, inplace=True)"
   ],
   "outputs": []
  },
  {
   "cell_type": "code",
   "execution_count": 15,
   "metadata": {},
   "source": [
    "# Train unsupervised model to cluster the data and colour the molecules based on what protein they bind to\n",
    "from sklearn.cluster import KMeans\n",
    "from sklearn.manifold import TSNE\n",
    "import matplotlib.pyplot as plt\n",
    "from matplotlib.colors import ListedColormap\n",
    "\n",
    "# Create a KMeans model\n",
    "kmeans = KMeans(n_clusters=4, random_state=42, verbose=1)\n",
    "kmeans.fit(desc_df.iloc[:, :-3])\n",
    "\n",
    "# Create a TSNE model\n",
    "tsne = TSNE(n_components=2, random_state=42, verbose=1)\n",
    "tsne_df = tsne.fit_transform(desc_df.iloc[:, :-3])"
   ],
   "outputs": []
  },
  {
   "cell_type": "code",
   "execution_count": 20,
   "metadata": {},
   "source": [
    "# Create a colormap where its see through for 0, red for 1, green for 2, blue for 3, black for 4 and white for 5\n",
    "cmap = ListedColormap(['#000000', '#FF0000', '#00FF00', '#0000FF', '#000000', '#FFFFF0'])\n",
    "\n",
    "# Plot with labels: Labels = (0,0,0) = 0, (1,0,0) = 1, (0,1,0) = 2, (0,0,1) = 3 \n",
    "labels = desc_df[['binds_BRD4', 'binds_HSA', 'binds_sEH']].apply(lambda x: x[0] + 2*x[1] + 3*x[2], axis=1).to_list() \n",
    "# If labels = 0, size is 0.1\n",
    "sizes = [0.1 if x == 0 else 3 for x in labels]\n",
    "\n",
    "# Scatter with small dots, if labels are larger than 0, the dots will be bigger\n",
    "plt.scatter(tsne_df[:, 0], tsne_df[:, 1], c=kmeans, cmap=cmap, s=sizes, alpha=0.2)\n",
    "plt.colorbar()\n",
    "plt.show()"
   ],
   "outputs": []
  }
 ],
 "metadata": {
  "kernelspec": {
   "display_name": "venv",
   "language": "python",
   "name": "python3"
  },
  "language_info": {
   "codemirror_mode": {
    "name": "ipython",
    "version": 3
   },
   "file_extension": ".py",
   "mimetype": "text/x-python",
   "name": "python",
   "nbconvert_exporter": "python",
   "pygments_lexer": "ipython3",
   "version": "3.11.8"
  }
 },
 "nbformat": 4,
 "nbformat_minor": 2
}
